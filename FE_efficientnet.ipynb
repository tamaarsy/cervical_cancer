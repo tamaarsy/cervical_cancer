{
 "cells": [
  {
   "cell_type": "code",
   "execution_count": 1,
   "metadata": {},
   "outputs": [],
   "source": [
    "import numpy as np\n",
    "import pandas as pd\n",
    "import re\n",
    "#visual\n",
    "import matplotlib.pyplot as plt\n",
    "import cv2 as cv\n",
    "import scipy as sy\n",
    "from PIL import Image\n",
    "\n",
    "#file\n",
    "import shutil\n",
    "import os\n",
    "import pathlib\n",
    "import glob\n",
    "\n",
    "#models\n",
    "import tensorflow_hub as hub\n",
    "import tensorflow as tf\n",
    "import tensorflow.keras.applications.efficientnet\n",
    "\n",
    "from sklearn.ensemble import RandomForestClassifier\n",
    "from sklearn.svm import SVC\n",
    "\n",
    "\n",
    "from sklearn.metrics import confusion_matrix, classification_report,accuracy_score\n",
    "\n",
    "from skimage.feature import greycomatrix,greycoprops\n",
    "from skimage import io\n"
   ]
  },
  {
   "cell_type": "code",
   "execution_count": 2,
   "metadata": {},
   "outputs": [],
   "source": [
    "SIZE = 224\n",
    "\n",
    "train_image_mask= []\n",
    "train_label_mask = []\n",
    "\n",
    "for directory_path in glob.glob(\"../data/img_cyt_train/*\"):\n",
    "  label = directory_path.split(\"\\\\\")[-1]\n",
    "  #print()\n",
    "  for img_path in glob.glob(os.path.join(directory_path,\"*.bmp\")):\n",
    "    #print(img_path)\n",
    "    img = cv.imread(img_path, cv.IMREAD_COLOR)\n",
    "    img = cv.resize(img,(SIZE,SIZE))\n",
    "    img = cv.cvtColor(img, cv.COLOR_RGB2BGR)\n",
    "    train_image_mask.append(img)\n",
    "    train_label_mask.append(label)\n",
    "\n",
    "train_images_mask = np.array(train_image_mask)\n",
    "train_labels_mask = np.array(train_label_mask)"
   ]
  },
  {
   "cell_type": "code",
   "execution_count": 4,
   "metadata": {},
   "outputs": [],
   "source": [
    "from sklearn import preprocessing\n",
    "\n",
    "le = preprocessing.LabelEncoder()\n",
    "le.fit(train_labels_mask)\n",
    "train_label_endc_mask = le.transform(train_labels_mask)\n",
    "\n",
    "\n",
    "\n",
    "x_train_mask, y_train_mask = train_images_mask, train_label_endc_mask\n",
    "\n",
    "x_train_mask = x_train_mask/225\n",
    "\n",
    "np.savetxt('mask/efficientnet/efficient_label_mask.txt', y_train_mask)"
   ]
  },
  {
   "cell_type": "code",
   "execution_count": 5,
   "metadata": {},
   "outputs": [
    {
     "name": "stderr",
     "output_type": "stream",
     "text": [
      "2022-11-01 23:25:04.429312: I tensorflow/compiler/jit/xla_cpu_device.cc:41] Not creating XLA devices, tf_xla_enable_xla_devices not set\n",
      "2022-11-01 23:25:04.430470: I tensorflow/core/platform/cpu_feature_guard.cc:142] This TensorFlow binary is optimized with oneAPI Deep Neural Network Library (oneDNN) to use the following CPU instructions in performance-critical operations:  SSE4.1 SSE4.2 AVX AVX2 FMA\n",
      "To enable them in other operations, rebuild TensorFlow with the appropriate compiler flags.\n",
      "2022-11-01 23:25:04.431530: I tensorflow/core/common_runtime/process_util.cc:146] Creating new thread pool with default inter op setting: 2. Tune using inter_op_parallelism_threads for best performance.\n"
     ]
    }
   ],
   "source": [
    "IMG_SHAPE = (224,224) + (3,)\n",
    "base_model = tf.keras.applications.EfficientNetB7(input_shape=IMG_SHAPE,\n",
    "                                               include_top=False,\n",
    "                                               weights='imagenet')"
   ]
  },
  {
   "cell_type": "code",
   "execution_count": 5,
   "metadata": {},
   "outputs": [
    {
     "name": "stderr",
     "output_type": "stream",
     "text": [
      "2022-11-01 22:24:51.983133: I tensorflow/compiler/mlir/mlir_graph_optimization_pass.cc:116] None of the MLIR optimization passes are enabled (registered 2)\n",
      "2022-11-01 22:24:52.010710: I tensorflow/core/platform/profile_utils/cpu_utils.cc:112] CPU Frequency: 2699905000 Hz\n"
     ]
    },
    {
     "name": "stdout",
     "output_type": "stream",
     "text": [
      "(500, 7, 7, 2560)\n"
     ]
    }
   ],
   "source": [
    "feature_extraction_effiecient = base_model.predict(x_train_mask[:500], batch_size=10)\n",
    "print(feature_extraction_effiecient.shape)"
   ]
  },
  {
   "cell_type": "code",
   "execution_count": 6,
   "metadata": {},
   "outputs": [
    {
     "data": {
      "text/plain": [
       "(500, 125440)"
      ]
     },
     "execution_count": 6,
     "metadata": {},
     "output_type": "execute_result"
    }
   ],
   "source": [
    "feature_extraction_effiecient = feature_extraction_effiecient.reshape(feature_extraction_effiecient.shape[0],-1)\n",
    "feature_extraction_effiecient.shape"
   ]
  },
  {
   "cell_type": "code",
   "execution_count": 7,
   "metadata": {},
   "outputs": [],
   "source": [
    "np.savetxt(\"mask/efficientnet/efficient_pre_train1.txt\",feature_extraction_effiecient)"
   ]
  },
  {
   "cell_type": "code",
   "execution_count": 8,
   "metadata": {},
   "outputs": [
    {
     "data": {
      "text/plain": [
       "(500, 125440)"
      ]
     },
     "execution_count": 8,
     "metadata": {},
     "output_type": "execute_result"
    }
   ],
   "source": [
    "feature_extraction_effiecient = base_model.predict(x_train_mask[500:1000], batch_size=10)\n",
    "feature_extraction_effiecient = feature_extraction_effiecient.reshape(feature_extraction_effiecient.shape[0],-1)\n",
    "feature_extraction_effiecient.shape"
   ]
  },
  {
   "cell_type": "code",
   "execution_count": 9,
   "metadata": {},
   "outputs": [],
   "source": [
    "np.savetxt(\"mask/efficientnet/efficient_pre_train2.txt\",feature_extraction_effiecient)"
   ]
  },
  {
   "cell_type": "code",
   "execution_count": 10,
   "metadata": {},
   "outputs": [
    {
     "data": {
      "text/plain": [
       "(500, 125440)"
      ]
     },
     "execution_count": 10,
     "metadata": {},
     "output_type": "execute_result"
    }
   ],
   "source": [
    "feature_extraction_effiecient = base_model.predict(x_train_mask[1000:1500], batch_size=10)\n",
    "feature_extraction_effiecient = feature_extraction_effiecient.reshape(feature_extraction_effiecient.shape[0],-1)\n",
    "feature_extraction_effiecient.shape"
   ]
  },
  {
   "cell_type": "code",
   "execution_count": 11,
   "metadata": {},
   "outputs": [],
   "source": [
    "np.savetxt(\"mask/efficientnet/efficient_pre_train3.txt\",feature_extraction_effiecient)"
   ]
  },
  {
   "cell_type": "code",
   "execution_count": 12,
   "metadata": {},
   "outputs": [
    {
     "name": "stdout",
     "output_type": "stream",
     "text": [
      "(500, 125440)\n"
     ]
    }
   ],
   "source": [
    "feature_extraction_effiecient = base_model.predict(x_train_mask[1500:2000], batch_size=10)\n",
    "feature_extraction_effiecient = feature_extraction_effiecient.reshape(feature_extraction_effiecient.shape[0],-1)\n",
    "print(feature_extraction_effiecient.shape)\n",
    "np.savetxt(\"mask/efficientnet/efficient_pre_train4.txt\",feature_extraction_effiecient)"
   ]
  },
  {
   "cell_type": "code",
   "execution_count": 13,
   "metadata": {},
   "outputs": [
    {
     "name": "stdout",
     "output_type": "stream",
     "text": [
      "(500, 125440)\n"
     ]
    }
   ],
   "source": [
    "feature_extraction_effiecient = base_model.predict(x_train_mask[2000:2500], batch_size=10)\n",
    "feature_extraction_effiecient = feature_extraction_effiecient.reshape(feature_extraction_effiecient.shape[0],-1)\n",
    "print(feature_extraction_effiecient.shape)\n",
    "np.savetxt(\"mask/efficientnet/efficient_pre_train5.txt\",feature_extraction_effiecient)"
   ]
  },
  {
   "cell_type": "code",
   "execution_count": 14,
   "metadata": {},
   "outputs": [
    {
     "name": "stdout",
     "output_type": "stream",
     "text": [
      "(500, 125440)\n"
     ]
    }
   ],
   "source": [
    "feature_extraction_effiecient = base_model.predict(x_train_mask[2500:3000], batch_size=10)\n",
    "feature_extraction_effiecient = feature_extraction_effiecient.reshape(feature_extraction_effiecient.shape[0],-1)\n",
    "print(feature_extraction_effiecient.shape)\n",
    "np.savetxt(\"mask/efficientnet/efficient_pre_train6.txt\",feature_extraction_effiecient)"
   ]
  },
  {
   "cell_type": "code",
   "execution_count": 6,
   "metadata": {},
   "outputs": [
    {
     "name": "stderr",
     "output_type": "stream",
     "text": [
      "2022-11-01 23:26:09.758854: I tensorflow/compiler/mlir/mlir_graph_optimization_pass.cc:116] None of the MLIR optimization passes are enabled (registered 2)\n",
      "2022-11-01 23:26:09.782626: I tensorflow/core/platform/profile_utils/cpu_utils.cc:112] CPU Frequency: 2699905000 Hz\n"
     ]
    },
    {
     "name": "stdout",
     "output_type": "stream",
     "text": [
      "(500, 125440)\n"
     ]
    }
   ],
   "source": [
    "feature_extraction_effiecient = base_model.predict(x_train_mask[3000:3500], batch_size=10)\n",
    "feature_extraction_effiecient = feature_extraction_effiecient.reshape(feature_extraction_effiecient.shape[0],-1)\n",
    "print(feature_extraction_effiecient.shape)\n",
    "np.savetxt(\"mask/efficientnet/efficient_pre_train7.txt\",feature_extraction_effiecient)"
   ]
  },
  {
   "cell_type": "code",
   "execution_count": 7,
   "metadata": {},
   "outputs": [
    {
     "name": "stdout",
     "output_type": "stream",
     "text": [
      "(547, 125440)\n"
     ]
    }
   ],
   "source": [
    "feature_extraction_effiecient = base_model.predict(x_train_mask[3500:], batch_size=10)\n",
    "feature_extraction_effiecient = feature_extraction_effiecient.reshape(feature_extraction_effiecient.shape[0],-1)\n",
    "print(feature_extraction_effiecient.shape)\n",
    "np.savetxt(\"mask/efficientnet/efficient_pre_train8.txt\",feature_extraction_effiecient)"
   ]
  },
  {
   "cell_type": "code",
   "execution_count": null,
   "metadata": {},
   "outputs": [],
   "source": [
    "feature_extraction_effiecient = base_model.predict(x_train_mask[4000:], batch_size=10)\n",
    "feature_extraction_effiecient = feature_extraction_effiecient.reshape(feature_extraction_effiecient.shape[0],-1)\n",
    "print(feature_extraction_effiecient.shape)\n",
    "np.savetxt(\"mask/efficientnet/efficient_pre_train9.txt\",feature_extraction_effiecient)"
   ]
  }
 ],
 "metadata": {
  "kernelspec": {
   "display_name": "Python 3.9.12 ('base')",
   "language": "python",
   "name": "python3"
  },
  "language_info": {
   "codemirror_mode": {
    "name": "ipython",
    "version": 3
   },
   "file_extension": ".py",
   "mimetype": "text/x-python",
   "name": "python",
   "nbconvert_exporter": "python",
   "pygments_lexer": "ipython3",
   "version": "3.9.12"
  },
  "orig_nbformat": 4,
  "vscode": {
   "interpreter": {
    "hash": "084adf559b79bdfd7aeb0eec694c5d5559086d7c1a3de819d43aa00129408237"
   }
  }
 },
 "nbformat": 4,
 "nbformat_minor": 2
}

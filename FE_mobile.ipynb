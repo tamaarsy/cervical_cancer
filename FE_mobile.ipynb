{
 "cells": [
  {
   "cell_type": "code",
   "execution_count": 1,
   "metadata": {},
   "outputs": [
    {
     "name": "stderr",
     "output_type": "stream",
     "text": [
      "/home/tama/.local/lib/python3.8/site-packages/skimage/io/manage_plugins.py:23: UserWarning: Your installed pillow version is < 8.1.2. Several security issues (CVE-2021-27921, CVE-2021-25290, CVE-2021-25291, CVE-2021-25293, and more) have been fixed in pillow 8.1.2 or higher. We recommend to upgrade this library.\n",
      "  from .collection import imread_collection_wrapper\n"
     ]
    }
   ],
   "source": [
    "import numpy as np\n",
    "import pandas as pd\n",
    "import re\n",
    "#visual\n",
    "import matplotlib.pyplot as plt\n",
    "import cv2 as cv\n",
    "import scipy as sy\n",
    "from PIL import Image\n",
    "\n",
    "#file\n",
    "import shutil\n",
    "import os\n",
    "import pathlib\n",
    "import glob\n",
    "\n",
    "#models\n",
    "import tensorflow_hub as hub\n",
    "import tensorflow as tf\n",
    "\n",
    "from sklearn.ensemble import RandomForestClassifier\n",
    "from sklearn.svm import SVC\n",
    "\n",
    "\n",
    "from sklearn.metrics import confusion_matrix, classification_report,accuracy_score\n",
    "\n",
    "from skimage.feature import greycomatrix,greycoprops\n",
    "from skimage import io\n"
   ]
  },
  {
   "cell_type": "markdown",
   "metadata": {},
   "source": [
    "### mask"
   ]
  },
  {
   "cell_type": "code",
   "execution_count": 2,
   "metadata": {},
   "outputs": [],
   "source": [
    "SIZE = 224\n",
    "\n",
    "train_image_mask= []\n",
    "train_label_mask = []\n",
    "\n",
    "for directory_path in glob.glob(\"../data/img_cyt_train/*\"):\n",
    "  label = directory_path.split(\"\\\\\")[-1]\n",
    "  #print()\n",
    "  for img_path in glob.glob(os.path.join(directory_path,\"*.bmp\")):\n",
    "    #print(img_path)\n",
    "    img = cv.imread(img_path, cv.IMREAD_COLOR)\n",
    "    img = cv.resize(img,(SIZE,SIZE))\n",
    "    img = cv.cvtColor(img, cv.COLOR_RGB2BGR)\n",
    "    train_image_mask.append(img)\n",
    "    train_label_mask.append(label)\n",
    "\n",
    "train_images_mask = np.array(train_image_mask)\n",
    "train_labels_mask = np.array(train_label_mask)"
   ]
  },
  {
   "cell_type": "code",
   "execution_count": 3,
   "metadata": {},
   "outputs": [],
   "source": [
    "from sklearn import preprocessing\n",
    "\n",
    "le = preprocessing.LabelEncoder()\n",
    "le.fit(train_labels_mask)\n",
    "train_label_endc_mask = le.transform(train_labels_mask)\n",
    "\n",
    "\n",
    "\n",
    "x_train_mask, y_train_mask = train_images_mask, train_label_endc_mask\n",
    "\n",
    "x_train_mask = x_train_mask/225\n",
    "\n",
    "np.savetxt('mask/mobilev2/dense_label_train_mask.txt', y_train_mask)"
   ]
  },
  {
   "cell_type": "code",
   "execution_count": 4,
   "metadata": {},
   "outputs": [
    {
     "name": "stderr",
     "output_type": "stream",
     "text": [
      "2022-11-02 00:13:05.800693: I tensorflow/core/platform/cpu_feature_guard.cc:193] This TensorFlow binary is optimized with oneAPI Deep Neural Network Library (oneDNN) to use the following CPU instructions in performance-critical operations:  AVX2 FMA\n",
      "To enable them in other operations, rebuild TensorFlow with the appropriate compiler flags.\n"
     ]
    }
   ],
   "source": [
    "IMG_SHAPE = (224,224) + (3,)\n",
    "base_model = tf.keras.applications.MobileNetV2(input_shape=IMG_SHAPE,\n",
    "                                               include_top=False,\n",
    "                                               weights='imagenet')"
   ]
  },
  {
   "cell_type": "code",
   "execution_count": 5,
   "metadata": {},
   "outputs": [
    {
     "name": "stderr",
     "output_type": "stream",
     "text": [
      "2022-11-02 00:13:07.596646: W tensorflow/core/framework/cpu_allocator_impl.cc:82] Allocation of 301056000 exceeds 10% of free system memory.\n",
      "2022-11-02 00:13:09.178900: W tensorflow/core/framework/cpu_allocator_impl.cc:82] Allocation of 48168960 exceeds 10% of free system memory.\n",
      "2022-11-02 00:13:09.194491: W tensorflow/core/framework/cpu_allocator_impl.cc:82] Allocation of 49032960 exceeds 10% of free system memory.\n",
      "2022-11-02 00:13:09.226243: W tensorflow/core/framework/cpu_allocator_impl.cc:82] Allocation of 18063360 exceeds 10% of free system memory.\n",
      "2022-11-02 00:13:09.233044: W tensorflow/core/framework/cpu_allocator_impl.cc:82] Allocation of 18063360 exceeds 10% of free system memory.\n"
     ]
    },
    {
     "name": "stdout",
     "output_type": "stream",
     "text": [
      "50/50 [==============================] - 13s 242ms/step\n",
      "(500, 7, 7, 1280)\n"
     ]
    }
   ],
   "source": [
    "feature_extraction_mobile = base_model.predict(x_train_mask[:500], batch_size=10)\n",
    "print(feature_extraction_mobile.shape)"
   ]
  },
  {
   "cell_type": "code",
   "execution_count": 6,
   "metadata": {},
   "outputs": [
    {
     "data": {
      "text/plain": [
       "(500, 62720)"
      ]
     },
     "execution_count": 6,
     "metadata": {},
     "output_type": "execute_result"
    }
   ],
   "source": [
    "feature_extraction_mobile = feature_extraction_mobile.reshape(feature_extraction_mobile.shape[0],-1)\n",
    "feature_extraction_mobile.shape"
   ]
  },
  {
   "cell_type": "code",
   "execution_count": 7,
   "metadata": {},
   "outputs": [],
   "source": [
    "np.savetxt(\"mask/mobilev2/pre_train1.txt\",feature_extraction_mobile)"
   ]
  },
  {
   "cell_type": "code",
   "execution_count": 8,
   "metadata": {},
   "outputs": [
    {
     "name": "stdout",
     "output_type": "stream",
     "text": [
      "50/50 [==============================] - 12s 247ms/step\n"
     ]
    },
    {
     "data": {
      "text/plain": [
       "(500, 62720)"
      ]
     },
     "execution_count": 8,
     "metadata": {},
     "output_type": "execute_result"
    }
   ],
   "source": [
    "feature_extraction_mobile = base_model.predict(x_train_mask[500:1000], batch_size=10)\n",
    "feature_extraction_mobile = feature_extraction_mobile.reshape(feature_extraction_mobile.shape[0],-1)\n",
    "feature_extraction_mobile.shape"
   ]
  },
  {
   "cell_type": "code",
   "execution_count": 9,
   "metadata": {},
   "outputs": [],
   "source": [
    "np.savetxt(\"mask/mobilev2/pre_train2.txt\",feature_extraction_mobile)"
   ]
  },
  {
   "cell_type": "code",
   "execution_count": 10,
   "metadata": {},
   "outputs": [
    {
     "name": "stdout",
     "output_type": "stream",
     "text": [
      "50/50 [==============================] - 12s 247ms/step\n"
     ]
    },
    {
     "data": {
      "text/plain": [
       "(500, 62720)"
      ]
     },
     "execution_count": 10,
     "metadata": {},
     "output_type": "execute_result"
    }
   ],
   "source": [
    "feature_extraction_mobile = base_model.predict(x_train_mask[1000:1500], batch_size=10)\n",
    "feature_extraction_mobile = feature_extraction_mobile.reshape(feature_extraction_mobile.shape[0],-1)\n",
    "feature_extraction_mobile.shape"
   ]
  },
  {
   "cell_type": "code",
   "execution_count": 11,
   "metadata": {},
   "outputs": [],
   "source": [
    "np.savetxt(\"mask/mobilev2/pre_train3.txt\",feature_extraction_mobile)"
   ]
  },
  {
   "cell_type": "code",
   "execution_count": 12,
   "metadata": {},
   "outputs": [
    {
     "name": "stdout",
     "output_type": "stream",
     "text": [
      "50/50 [==============================] - 12s 244ms/step\n"
     ]
    },
    {
     "data": {
      "text/plain": [
       "(500, 62720)"
      ]
     },
     "execution_count": 12,
     "metadata": {},
     "output_type": "execute_result"
    }
   ],
   "source": [
    "feature_extraction_mobile = base_model.predict(x_train_mask[1500:2000], batch_size=10)\n",
    "feature_extraction_mobile = feature_extraction_mobile.reshape(feature_extraction_mobile.shape[0],-1)\n",
    "feature_extraction_mobile.shape"
   ]
  },
  {
   "cell_type": "code",
   "execution_count": 13,
   "metadata": {},
   "outputs": [],
   "source": [
    "np.savetxt(\"mask/mobilev2/pre_train4.txt\",feature_extraction_mobile)"
   ]
  },
  {
   "cell_type": "code",
   "execution_count": 14,
   "metadata": {},
   "outputs": [
    {
     "name": "stdout",
     "output_type": "stream",
     "text": [
      "50/50 [==============================] - 12s 247ms/step\n"
     ]
    },
    {
     "data": {
      "text/plain": [
       "(500, 62720)"
      ]
     },
     "execution_count": 14,
     "metadata": {},
     "output_type": "execute_result"
    }
   ],
   "source": [
    "feature_extraction_mobile = base_model.predict(x_train_mask[2000:2500], batch_size=10)\n",
    "feature_extraction_mobile = feature_extraction_mobile.reshape(feature_extraction_mobile.shape[0],-1)\n",
    "feature_extraction_mobile.shape"
   ]
  },
  {
   "cell_type": "code",
   "execution_count": 15,
   "metadata": {},
   "outputs": [],
   "source": [
    "np.savetxt(\"mask/mobilev2/pre_train5.txt\",feature_extraction_mobile)"
   ]
  },
  {
   "cell_type": "code",
   "execution_count": 16,
   "metadata": {},
   "outputs": [
    {
     "name": "stdout",
     "output_type": "stream",
     "text": [
      "50/50 [==============================] - 11s 222ms/step\n"
     ]
    },
    {
     "data": {
      "text/plain": [
       "(500, 62720)"
      ]
     },
     "execution_count": 16,
     "metadata": {},
     "output_type": "execute_result"
    }
   ],
   "source": [
    "feature_extraction_mobile = base_model.predict(x_train_mask[2500:3000], batch_size=10)\n",
    "feature_extraction_mobile = feature_extraction_mobile.reshape(feature_extraction_mobile.shape[0],-1)\n",
    "feature_extraction_mobile.shape"
   ]
  },
  {
   "cell_type": "code",
   "execution_count": 17,
   "metadata": {},
   "outputs": [],
   "source": [
    "np.savetxt(\"mask/mobilev2/pre_train6.txt\",feature_extraction_mobile)"
   ]
  },
  {
   "cell_type": "code",
   "execution_count": 18,
   "metadata": {},
   "outputs": [
    {
     "name": "stdout",
     "output_type": "stream",
     "text": [
      "105/105 [==============================] - 24s 213ms/step\n"
     ]
    },
    {
     "data": {
      "text/plain": [
       "(1047, 62720)"
      ]
     },
     "execution_count": 18,
     "metadata": {},
     "output_type": "execute_result"
    }
   ],
   "source": [
    "feature_extraction_mobile = base_model.predict(x_train_mask[3000:], batch_size=10)\n",
    "feature_extraction_mobile = feature_extraction_mobile.reshape(feature_extraction_mobile.shape[0],-1)\n",
    "feature_extraction_mobile.shape"
   ]
  },
  {
   "cell_type": "code",
   "execution_count": 19,
   "metadata": {},
   "outputs": [],
   "source": [
    "np.savetxt(\"mask/mobilev2/pre_train7.txt\",feature_extraction_mobile)"
   ]
  },
  {
   "cell_type": "code",
   "execution_count": null,
   "metadata": {},
   "outputs": [],
   "source": []
  },
  {
   "cell_type": "code",
   "execution_count": null,
   "metadata": {},
   "outputs": [],
   "source": [
    "dt_DenseNet1 = np.loadtxt('mask/DenseNet121/DenseNet_pre_train1.txt')\n",
    "dt_DenseNet2 = np.loadtxt('mask/DenseNet121/DenseNet_pre_train2.txt')\n",
    "dt_DenseNet3 = np.loadtxt('mask/DenseNet121/DenseNet_pre_train3.txt')\n",
    "dt_DenseNet4 = np.loadtxt('mask/DenseNet121/DenseNet_pre_train4.txt')\n",
    "dt_DenseNet5 = np.loadtxt('mask/DenseNet121/DenseNet_pre_train5.txt')\n",
    "dt_DenseNet6 = np.loadtxt('mask/DenseNet121/DenseNet_pre_train6.txt')\n",
    "dt_DenseNet7 = np.loadtxt('mask/DenseNet121/DenseNet_pre_train7.txt')\n",
    "\n",
    "DenseNet_full = [dt_DenseNet1,dt_DenseNet2,dt_DenseNet3,dt_DenseNet4,dt_DenseNet5,dt_DenseNet6,dt_DenseNet7]\n",
    "\n",
    "for i in DenseNet_full:print(i.shape)"
   ]
  },
  {
   "cell_type": "code",
   "execution_count": null,
   "metadata": {},
   "outputs": [],
   "source": [
    "train_concat = np.concatenate((dt_DenseNet1, dt_DenseNet2, dt_DenseNet3, dt_DenseNet4, dt_DenseNet5, dt_DenseNet6), axis=0)\n",
    "np.savetxt(\"mask/DenseNet121/densenet_full_data.txt\",train_concat)"
   ]
  },
  {
   "cell_type": "markdown",
   "metadata": {},
   "source": [
    "### no mask"
   ]
  },
  {
   "cell_type": "code",
   "execution_count": 3,
   "metadata": {},
   "outputs": [],
   "source": [
    "SIZE = 224\n",
    "\n",
    "train_image= []\n",
    "train_label = []\n",
    "\n",
    "for directory_path in glob.glob(\"../data/train/*\"):\n",
    "  label = directory_path.split(\"\\\\\")[-1]\n",
    "  #print()\n",
    "  for img_path in glob.glob(os.path.join(directory_path,\"*.bmp\")):\n",
    "    #print(img_path)\n",
    "    img = cv.imread(img_path, cv.IMREAD_COLOR)\n",
    "    img = cv.resize(img,(SIZE,SIZE))\n",
    "    img = cv.cvtColor(img, cv.COLOR_RGB2BGR)\n",
    "    train_image.append(img)\n",
    "    train_label.append(label)\n",
    "\n",
    "train_images_mask = np.array(train_image)\n",
    "train_labels_mask = np.array(train_label)"
   ]
  },
  {
   "cell_type": "code",
   "execution_count": 5,
   "metadata": {},
   "outputs": [],
   "source": [
    "from sklearn import preprocessing\n",
    "\n",
    "le = preprocessing.LabelEncoder()\n",
    "le.fit(train_labels_mask)\n",
    "train_label_endc_mask = le.transform(train_labels_mask)\n",
    "\n",
    "\n",
    "\n",
    "x_train_mask, y_train_mask = train_images_mask, train_label_endc_mask\n",
    "\n",
    "x_train_mask = x_train_mask/225\n",
    "\n",
    "np.savetxt('nomask/mobilev2/dense_label_train.txt', y_train_mask)"
   ]
  },
  {
   "cell_type": "code",
   "execution_count": 6,
   "metadata": {},
   "outputs": [
    {
     "name": "stderr",
     "output_type": "stream",
     "text": [
      "2023-01-17 00:22:39.197956: I tensorflow/core/platform/cpu_feature_guard.cc:193] This TensorFlow binary is optimized with oneAPI Deep Neural Network Library (oneDNN) to use the following CPU instructions in performance-critical operations:  AVX2 FMA\n",
      "To enable them in other operations, rebuild TensorFlow with the appropriate compiler flags.\n"
     ]
    }
   ],
   "source": [
    "IMG_SHAPE = (224,224) + (3,)\n",
    "base_model = tf.keras.applications.MobileNetV2(input_shape=IMG_SHAPE,\n",
    "                                               include_top=False,\n",
    "                                               weights='imagenet')"
   ]
  },
  {
   "cell_type": "code",
   "execution_count": 10,
   "metadata": {},
   "outputs": [
    {
     "name": "stdout",
     "output_type": "stream",
     "text": [
      "50/50 [==============================] - 13s 262ms/step\n",
      "(500, 7, 7, 1280)\n"
     ]
    },
    {
     "data": {
      "text/plain": [
       "(500, 62720)"
      ]
     },
     "execution_count": 10,
     "metadata": {},
     "output_type": "execute_result"
    }
   ],
   "source": [
    "feature_extraction_mobile = base_model.predict(x_train_mask[:500], batch_size=10)\n",
    "print(feature_extraction_mobile.shape)\n",
    "\n",
    "feature_extraction_mobile = feature_extraction_mobile.reshape(feature_extraction_mobile.shape[0],-1)\n",
    "feature_extraction_mobile.shape"
   ]
  },
  {
   "cell_type": "code",
   "execution_count": 11,
   "metadata": {},
   "outputs": [],
   "source": [
    "np.savetxt(\"nomask/mobilev2/pre_train1.txt\",feature_extraction_mobile)"
   ]
  },
  {
   "cell_type": "code",
   "execution_count": 8,
   "metadata": {},
   "outputs": [
    {
     "name": "stdout",
     "output_type": "stream",
     "text": [
      "50/50 [==============================] - 13s 254ms/step\n"
     ]
    },
    {
     "data": {
      "text/plain": [
       "(500, 62720)"
      ]
     },
     "execution_count": 8,
     "metadata": {},
     "output_type": "execute_result"
    }
   ],
   "source": [
    "feature_extraction_mobile = base_model.predict(x_train_mask[500:1000], batch_size=10)\n",
    "feature_extraction_mobile = feature_extraction_mobile.reshape(feature_extraction_mobile.shape[0],-1)\n",
    "feature_extraction_mobile.shape"
   ]
  },
  {
   "cell_type": "code",
   "execution_count": 9,
   "metadata": {},
   "outputs": [],
   "source": [
    "np.savetxt(\"nomask/mobilev2/pre_train2.txt\",feature_extraction_mobile)"
   ]
  },
  {
   "cell_type": "code",
   "execution_count": 12,
   "metadata": {},
   "outputs": [
    {
     "name": "stdout",
     "output_type": "stream",
     "text": [
      "50/50 [==============================] - 16s 313ms/step\n"
     ]
    },
    {
     "data": {
      "text/plain": [
       "(500, 62720)"
      ]
     },
     "execution_count": 12,
     "metadata": {},
     "output_type": "execute_result"
    }
   ],
   "source": [
    "feature_extraction_mobile = base_model.predict(x_train_mask[1000:1500], batch_size=10)\n",
    "feature_extraction_mobile = feature_extraction_mobile.reshape(feature_extraction_mobile.shape[0],-1)\n",
    "feature_extraction_mobile.shape"
   ]
  },
  {
   "cell_type": "code",
   "execution_count": 13,
   "metadata": {},
   "outputs": [],
   "source": [
    "np.savetxt(\"nomask/mobilev2/pre_train3.txt\",feature_extraction_mobile)"
   ]
  },
  {
   "cell_type": "code",
   "execution_count": 14,
   "metadata": {},
   "outputs": [
    {
     "name": "stdout",
     "output_type": "stream",
     "text": [
      "50/50 [==============================] - 16s 312ms/step\n"
     ]
    },
    {
     "data": {
      "text/plain": [
       "(500, 62720)"
      ]
     },
     "execution_count": 14,
     "metadata": {},
     "output_type": "execute_result"
    }
   ],
   "source": [
    "feature_extraction_mobile = base_model.predict(x_train_mask[1500:2000], batch_size=10)\n",
    "feature_extraction_mobile = feature_extraction_mobile.reshape(feature_extraction_mobile.shape[0],-1)\n",
    "feature_extraction_mobile.shape"
   ]
  },
  {
   "cell_type": "code",
   "execution_count": 15,
   "metadata": {},
   "outputs": [],
   "source": [
    "np.savetxt(\"nomask/mobilev2/pre_train4.txt\",feature_extraction_mobile)"
   ]
  },
  {
   "cell_type": "code",
   "execution_count": 17,
   "metadata": {},
   "outputs": [
    {
     "name": "stdout",
     "output_type": "stream",
     "text": [
      "50/50 [==============================] - 13s 260ms/step\n"
     ]
    },
    {
     "data": {
      "text/plain": [
       "(500, 62720)"
      ]
     },
     "execution_count": 17,
     "metadata": {},
     "output_type": "execute_result"
    }
   ],
   "source": [
    "feature_extraction_mobile = base_model.predict(x_train_mask[2000:2500], batch_size=10)\n",
    "feature_extraction_mobile = feature_extraction_mobile.reshape(feature_extraction_mobile.shape[0],-1)\n",
    "feature_extraction_mobile.shape"
   ]
  },
  {
   "cell_type": "code",
   "execution_count": 18,
   "metadata": {},
   "outputs": [],
   "source": [
    "np.savetxt(\"nomask/mobilev2/pre_train5.txt\",feature_extraction_mobile)"
   ]
  },
  {
   "cell_type": "code",
   "execution_count": 19,
   "metadata": {},
   "outputs": [
    {
     "name": "stdout",
     "output_type": "stream",
     "text": [
      "50/50 [==============================] - 13s 254ms/step\n"
     ]
    },
    {
     "data": {
      "text/plain": [
       "(500, 62720)"
      ]
     },
     "execution_count": 19,
     "metadata": {},
     "output_type": "execute_result"
    }
   ],
   "source": [
    "feature_extraction_mobile = base_model.predict(x_train_mask[2500:3000], batch_size=10)\n",
    "feature_extraction_mobile = feature_extraction_mobile.reshape(feature_extraction_mobile.shape[0],-1)\n",
    "feature_extraction_mobile.shape"
   ]
  },
  {
   "cell_type": "code",
   "execution_count": 20,
   "metadata": {},
   "outputs": [],
   "source": [
    "np.savetxt(\"nomask/mobilev2/pre_train6.txt\",feature_extraction_mobile)"
   ]
  },
  {
   "cell_type": "code",
   "execution_count": 21,
   "metadata": {},
   "outputs": [
    {
     "name": "stdout",
     "output_type": "stream",
     "text": [
      "4/4 [==============================] - 2s 194ms/step\n"
     ]
    },
    {
     "data": {
      "text/plain": [
       "(34, 62720)"
      ]
     },
     "execution_count": 21,
     "metadata": {},
     "output_type": "execute_result"
    }
   ],
   "source": [
    "feature_extraction_mobile = base_model.predict(x_train_mask[3000:], batch_size=10)\n",
    "feature_extraction_mobile = feature_extraction_mobile.reshape(feature_extraction_mobile.shape[0],-1)\n",
    "feature_extraction_mobile.shape"
   ]
  },
  {
   "cell_type": "code",
   "execution_count": 22,
   "metadata": {},
   "outputs": [],
   "source": [
    "np.savetxt(\"nomask/mobilev2/pre_train7.txt\",feature_extraction_mobile)"
   ]
  },
  {
   "cell_type": "code",
   "execution_count": 23,
   "metadata": {},
   "outputs": [
    {
     "name": "stdout",
     "output_type": "stream",
     "text": [
      "(500, 62720)\n",
      "(500, 62720)\n",
      "(500, 62720)\n",
      "(500, 62720)\n",
      "(500, 62720)\n",
      "(500, 62720)\n",
      "(34, 62720)\n"
     ]
    }
   ],
   "source": [
    "dt_DenseNet1 = np.loadtxt('nomask/mobilev2/pre_train1.txt')\n",
    "dt_DenseNet2 = np.loadtxt('nomask/mobilev2/pre_train2.txt')\n",
    "dt_DenseNet3 = np.loadtxt('nomask/mobilev2/pre_train3.txt')\n",
    "dt_DenseNet4 = np.loadtxt('nomask/mobilev2/pre_train4.txt')\n",
    "dt_DenseNet5 = np.loadtxt('nomask/mobilev2/pre_train5.txt')\n",
    "dt_DenseNet6 = np.loadtxt('nomask/mobilev2/pre_train6.txt')\n",
    "dt_DenseNet7 = np.loadtxt('nomask/mobilev2/pre_train7.txt')\n",
    "\n",
    "DenseNet_full = [dt_DenseNet1,dt_DenseNet2,dt_DenseNet3,dt_DenseNet4,dt_DenseNet5,dt_DenseNet6,dt_DenseNet7]\n",
    "\n",
    "for i in DenseNet_full:print(i.shape)"
   ]
  },
  {
   "cell_type": "code",
   "execution_count": 24,
   "metadata": {},
   "outputs": [
    {
     "ename": "",
     "evalue": "",
     "output_type": "error",
     "traceback": [
      "The Kernel crashed while executing code in the the current cell or a previous cell. Please review the code in the cell(s) to identify a possible cause of the failure. Click <a href='https://aka.ms/vscodeJupyterKernelCrash'>here</a> for more info. View Jupyter <a href='command:jupyter.viewOutput'>log</a> for further details."
     ]
    }
   ],
   "source": [
    "train_concat = np.concatenate((dt_DenseNet1, dt_DenseNet2, dt_DenseNet3, dt_DenseNet4, dt_DenseNet5, dt_DenseNet6), axis=0)\n",
    "np.savetxt(\"nomask/mobilev2/mobilev2_full_data.txt\",train_concat)"
   ]
  }
 ],
 "metadata": {
  "kernelspec": {
   "display_name": "Python 3.8.10 64-bit",
   "language": "python",
   "name": "python3"
  },
  "language_info": {
   "codemirror_mode": {
    "name": "ipython",
    "version": 3
   },
   "file_extension": ".py",
   "mimetype": "text/x-python",
   "name": "python",
   "nbconvert_exporter": "python",
   "pygments_lexer": "ipython3",
   "version": "3.8.10"
  },
  "orig_nbformat": 4,
  "vscode": {
   "interpreter": {
    "hash": "916dbcbb3f70747c44a77c7bcd40155683ae19c65e1c03b4aa3499c5328201f1"
   }
  }
 },
 "nbformat": 4,
 "nbformat_minor": 2
}

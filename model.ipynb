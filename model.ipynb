{
 "cells": [
  {
   "cell_type": "code",
   "execution_count": 1,
   "metadata": {},
   "outputs": [
    {
     "name": "stdout",
     "output_type": "stream",
     "text": [
      "Collecting tpot\n",
      "  Downloading TPOT-0.11.7-py3-none-any.whl (87 kB)\n",
      "     ---------------------------------------- 87.2/87.2 kB 1.6 MB/s eta 0:00:00\n",
      "Requirement already satisfied: numpy>=1.16.3 in c:\\users\\tama\\appdata\\local\\programs\\python\\python311\\lib\\site-packages (from tpot) (1.24.1)\n",
      "Requirement already satisfied: scipy>=1.3.1 in c:\\users\\tama\\appdata\\local\\programs\\python\\python311\\lib\\site-packages (from tpot) (1.10.0)\n",
      "Requirement already satisfied: scikit-learn>=0.22.0 in c:\\users\\tama\\appdata\\local\\programs\\python\\python311\\lib\\site-packages (from tpot) (1.2.1)\n",
      "Collecting deap>=1.2\n",
      "  Downloading deap-1.3.3.tar.gz (1.1 MB)\n",
      "     ---------------------------------------- 1.1/1.1 MB 1.2 MB/s eta 0:00:00\n",
      "  Preparing metadata (setup.py): started\n",
      "  Preparing metadata (setup.py): finished with status 'done'\n",
      "Collecting update-checker>=0.16\n",
      "  Downloading update_checker-0.18.0-py3-none-any.whl (7.0 kB)\n",
      "Collecting tqdm>=4.36.1\n",
      "  Downloading tqdm-4.64.1-py2.py3-none-any.whl (78 kB)\n",
      "     ---------------------------------------- 78.5/78.5 kB 1.1 MB/s eta 0:00:00\n",
      "Collecting stopit>=1.1.1\n",
      "  Downloading stopit-1.1.2.tar.gz (18 kB)\n",
      "  Preparing metadata (setup.py): started\n",
      "  Preparing metadata (setup.py): finished with status 'done'\n",
      "Collecting pandas>=0.24.2\n",
      "  Downloading pandas-1.5.3-cp311-cp311-win_amd64.whl (10.3 MB)\n",
      "     ---------------------------------------- 10.3/10.3 MB 2.0 MB/s eta 0:00:00\n",
      "Requirement already satisfied: joblib>=0.13.2 in c:\\users\\tama\\appdata\\local\\programs\\python\\python311\\lib\\site-packages (from tpot) (1.2.0)\n",
      "Collecting xgboost>=1.1.0\n",
      "  Downloading xgboost-1.7.3-py3-none-win_amd64.whl (89.1 MB)\n",
      "     -------------------------------------- 89.1/89.1 MB 959.1 kB/s eta 0:00:00\n",
      "Requirement already satisfied: python-dateutil>=2.8.1 in c:\\users\\tama\\appdata\\roaming\\python\\python311\\site-packages (from pandas>=0.24.2->tpot) (2.8.2)\n",
      "Collecting pytz>=2020.1\n",
      "  Downloading pytz-2022.7.1-py2.py3-none-any.whl (499 kB)\n",
      "     -------------------------------------- 499.4/499.4 kB 2.2 MB/s eta 0:00:00\n",
      "Requirement already satisfied: threadpoolctl>=2.0.0 in c:\\users\\tama\\appdata\\local\\programs\\python\\python311\\lib\\site-packages (from scikit-learn>=0.22.0->tpot) (3.1.0)\n",
      "Requirement already satisfied: colorama in c:\\users\\tama\\appdata\\roaming\\python\\python311\\site-packages (from tqdm>=4.36.1->tpot) (0.4.6)\n",
      "Collecting requests>=2.3.0\n",
      "  Downloading requests-2.28.2-py3-none-any.whl (62 kB)\n",
      "     ---------------------------------------- 62.8/62.8 kB 1.7 MB/s eta 0:00:00\n",
      "Requirement already satisfied: six>=1.5 in c:\\users\\tama\\appdata\\roaming\\python\\python311\\site-packages (from python-dateutil>=2.8.1->pandas>=0.24.2->tpot) (1.16.0)\n",
      "Collecting charset-normalizer<4,>=2\n",
      "  Downloading charset_normalizer-3.0.1-cp311-cp311-win_amd64.whl (96 kB)\n",
      "     ---------------------------------------- 96.0/96.0 kB 2.8 MB/s eta 0:00:00\n",
      "Collecting idna<4,>=2.5\n",
      "  Downloading idna-3.4-py3-none-any.whl (61 kB)\n",
      "     ---------------------------------------- 61.5/61.5 kB 3.4 MB/s eta 0:00:00\n",
      "Collecting urllib3<1.27,>=1.21.1\n",
      "  Downloading urllib3-1.26.14-py2.py3-none-any.whl (140 kB)\n",
      "     -------------------------------------- 140.6/140.6 kB 2.1 MB/s eta 0:00:00\n",
      "Collecting certifi>=2017.4.17\n",
      "  Downloading certifi-2022.12.7-py3-none-any.whl (155 kB)\n",
      "     -------------------------------------- 155.3/155.3 kB 1.9 MB/s eta 0:00:00\n",
      "Installing collected packages: stopit, pytz, charset-normalizer, urllib3, tqdm, idna, deap, certifi, xgboost, requests, pandas, update-checker, tpot\n",
      "  Running setup.py install for stopit: started\n",
      "  Running setup.py install for stopit: finished with status 'done'\n",
      "  Running setup.py install for deap: started\n",
      "  Running setup.py install for deap: finished with status 'done'\n",
      "Successfully installed certifi-2022.12.7 charset-normalizer-3.0.1 deap-1.3.3 idna-3.4 pandas-1.5.3 pytz-2022.7.1 requests-2.28.2 stopit-1.1.2 tpot-0.11.7 tqdm-4.64.1 update-checker-0.18.0 urllib3-1.26.14 xgboost-1.7.3\n"
     ]
    },
    {
     "name": "stderr",
     "output_type": "stream",
     "text": [
      "  DEPRECATION: stopit is being installed using the legacy 'setup.py install' method, because it does not have a 'pyproject.toml' and the 'wheel' package is not installed. pip 23.1 will enforce this behaviour change. A possible replacement is to enable the '--use-pep517' option. Discussion can be found at https://github.com/pypa/pip/issues/8559\n",
      "  DEPRECATION: deap is being installed using the legacy 'setup.py install' method, because it does not have a 'pyproject.toml' and the 'wheel' package is not installed. pip 23.1 will enforce this behaviour change. A possible replacement is to enable the '--use-pep517' option. Discussion can be found at https://github.com/pypa/pip/issues/8559\n",
      "\n",
      "[notice] A new release of pip available: 22.3.1 -> 23.0\n",
      "[notice] To update, run: python.exe -m pip install --upgrade pip\n"
     ]
    }
   ],
   "source": [
    "!pip install tpot"
   ]
  },
  {
   "cell_type": "code",
   "execution_count": 2,
   "metadata": {},
   "outputs": [
    {
     "ename": "ModuleNotFoundError",
     "evalue": "No module named 'matplotlib'",
     "output_type": "error",
     "traceback": [
      "\u001b[1;31m---------------------------------------------------------------------------\u001b[0m",
      "\u001b[1;31mModuleNotFoundError\u001b[0m                       Traceback (most recent call last)",
      "Cell \u001b[1;32mIn[2], line 5\u001b[0m\n\u001b[0;32m      3\u001b[0m \u001b[39mimport\u001b[39;00m \u001b[39mre\u001b[39;00m\n\u001b[0;32m      4\u001b[0m \u001b[39m#visual\u001b[39;00m\n\u001b[1;32m----> 5\u001b[0m \u001b[39mimport\u001b[39;00m \u001b[39mmatplotlib\u001b[39;00m\u001b[39m.\u001b[39;00m\u001b[39mpyplot\u001b[39;00m \u001b[39mas\u001b[39;00m \u001b[39mplt\u001b[39;00m\n\u001b[0;32m      7\u001b[0m \u001b[39m#modeling\u001b[39;00m\n\u001b[0;32m      8\u001b[0m \u001b[39mfrom\u001b[39;00m \u001b[39msklearn\u001b[39;00m\u001b[39m.\u001b[39;00m\u001b[39mmodel_selection\u001b[39;00m \u001b[39mimport\u001b[39;00m StratifiedShuffleSplit, train_test_split\n",
      "\u001b[1;31mModuleNotFoundError\u001b[0m: No module named 'matplotlib'"
     ]
    }
   ],
   "source": [
    "import numpy as np\n",
    "import pandas as pd\n",
    "import re\n",
    "#visual\n",
    "import matplotlib.pyplot as plt\n",
    "\n",
    "#modeling\n",
    "from sklearn.model_selection import StratifiedShuffleSplit, train_test_split\n",
    "\n",
    "#models\n",
    "from sklearn.ensemble import RandomForestClassifier\n",
    "from sklearn.svm import SVC\n",
    "\n",
    "\n",
    "from sklearn.metrics import confusion_matrix, classification_report,accuracy_score\n",
    "\n",
    "from skimage.feature import greycomatrix,greycoprops\n",
    "from skimage import io\n",
    "\n",
    "from sklearn.model_selection import RandomizedSearchCV, GridSearchCV\n",
    "\n",
    "from tpot import TPOTClassifier\n",
    "\n",
    "%matplotlib inline\n",
    "import warnings\n",
    "warnings.filterwarnings('ignore')"
   ]
  },
  {
   "cell_type": "code",
   "execution_count": 3,
   "metadata": {},
   "outputs": [
    {
     "data": {
      "text/html": [
       "<div>\n",
       "<style scoped>\n",
       "    .dataframe tbody tr th:only-of-type {\n",
       "        vertical-align: middle;\n",
       "    }\n",
       "\n",
       "    .dataframe tbody tr th {\n",
       "        vertical-align: top;\n",
       "    }\n",
       "\n",
       "    .dataframe thead th {\n",
       "        text-align: right;\n",
       "    }\n",
       "</style>\n",
       "<table border=\"1\" class=\"dataframe\">\n",
       "  <thead>\n",
       "    <tr style=\"text-align: right;\">\n",
       "      <th></th>\n",
       "      <th>Unnamed: 0.2</th>\n",
       "      <th>Unnamed: 0.1</th>\n",
       "      <th>Unnamed: 0</th>\n",
       "      <th>index</th>\n",
       "      <th>Energy</th>\n",
       "      <th>Corr</th>\n",
       "      <th>Diss_sim</th>\n",
       "      <th>Homogen</th>\n",
       "      <th>Contrast</th>\n",
       "      <th>Energy2</th>\n",
       "      <th>...</th>\n",
       "      <th>47699dense</th>\n",
       "      <th>47720dense</th>\n",
       "      <th>47932dense</th>\n",
       "      <th>48142dense</th>\n",
       "      <th>48143dense</th>\n",
       "      <th>48241dense</th>\n",
       "      <th>49149dense</th>\n",
       "      <th>49260dense</th>\n",
       "      <th>49634dense</th>\n",
       "      <th>49784dense</th>\n",
       "    </tr>\n",
       "  </thead>\n",
       "  <tbody>\n",
       "    <tr>\n",
       "      <th>0</th>\n",
       "      <td>0</td>\n",
       "      <td>0</td>\n",
       "      <td>0</td>\n",
       "      <td>0</td>\n",
       "      <td>0.569125</td>\n",
       "      <td>0.995196</td>\n",
       "      <td>1.267977</td>\n",
       "      <td>0.787601</td>\n",
       "      <td>29.518778</td>\n",
       "      <td>0.557591</td>\n",
       "      <td>...</td>\n",
       "      <td>0.029683</td>\n",
       "      <td>1.985881</td>\n",
       "      <td>0.000000</td>\n",
       "      <td>0.041704</td>\n",
       "      <td>0.000000</td>\n",
       "      <td>0.000000</td>\n",
       "      <td>0.455218</td>\n",
       "      <td>0.000057</td>\n",
       "      <td>0.011483</td>\n",
       "      <td>0.266430</td>\n",
       "    </tr>\n",
       "    <tr>\n",
       "      <th>1</th>\n",
       "      <td>1</td>\n",
       "      <td>1</td>\n",
       "      <td>1</td>\n",
       "      <td>1</td>\n",
       "      <td>0.527938</td>\n",
       "      <td>0.995842</td>\n",
       "      <td>1.471252</td>\n",
       "      <td>0.822016</td>\n",
       "      <td>57.029869</td>\n",
       "      <td>0.515226</td>\n",
       "      <td>...</td>\n",
       "      <td>0.030147</td>\n",
       "      <td>1.024253</td>\n",
       "      <td>0.055374</td>\n",
       "      <td>0.051034</td>\n",
       "      <td>0.000000</td>\n",
       "      <td>0.000000</td>\n",
       "      <td>0.645608</td>\n",
       "      <td>0.000091</td>\n",
       "      <td>0.010660</td>\n",
       "      <td>0.170045</td>\n",
       "    </tr>\n",
       "    <tr>\n",
       "      <th>2</th>\n",
       "      <td>2</td>\n",
       "      <td>2</td>\n",
       "      <td>2</td>\n",
       "      <td>2</td>\n",
       "      <td>0.545918</td>\n",
       "      <td>0.996925</td>\n",
       "      <td>1.381366</td>\n",
       "      <td>0.830510</td>\n",
       "      <td>46.555213</td>\n",
       "      <td>0.534082</td>\n",
       "      <td>...</td>\n",
       "      <td>0.029008</td>\n",
       "      <td>0.367422</td>\n",
       "      <td>0.500729</td>\n",
       "      <td>0.030002</td>\n",
       "      <td>0.000000</td>\n",
       "      <td>0.003778</td>\n",
       "      <td>0.459859</td>\n",
       "      <td>0.000161</td>\n",
       "      <td>0.009236</td>\n",
       "      <td>0.206810</td>\n",
       "    </tr>\n",
       "    <tr>\n",
       "      <th>3</th>\n",
       "      <td>3</td>\n",
       "      <td>3</td>\n",
       "      <td>3</td>\n",
       "      <td>3</td>\n",
       "      <td>0.596634</td>\n",
       "      <td>0.996485</td>\n",
       "      <td>1.356422</td>\n",
       "      <td>0.838555</td>\n",
       "      <td>50.394299</td>\n",
       "      <td>0.585423</td>\n",
       "      <td>...</td>\n",
       "      <td>0.030465</td>\n",
       "      <td>0.079529</td>\n",
       "      <td>0.000000</td>\n",
       "      <td>0.061716</td>\n",
       "      <td>0.000000</td>\n",
       "      <td>0.000195</td>\n",
       "      <td>0.481287</td>\n",
       "      <td>0.000060</td>\n",
       "      <td>0.012304</td>\n",
       "      <td>0.035740</td>\n",
       "    </tr>\n",
       "    <tr>\n",
       "      <th>4</th>\n",
       "      <td>4</td>\n",
       "      <td>4</td>\n",
       "      <td>4</td>\n",
       "      <td>4</td>\n",
       "      <td>0.543781</td>\n",
       "      <td>0.996820</td>\n",
       "      <td>1.250040</td>\n",
       "      <td>0.825479</td>\n",
       "      <td>38.552851</td>\n",
       "      <td>0.532117</td>\n",
       "      <td>...</td>\n",
       "      <td>0.028144</td>\n",
       "      <td>0.630038</td>\n",
       "      <td>0.000000</td>\n",
       "      <td>0.050611</td>\n",
       "      <td>0.000135</td>\n",
       "      <td>0.002957</td>\n",
       "      <td>0.621002</td>\n",
       "      <td>0.000078</td>\n",
       "      <td>0.010994</td>\n",
       "      <td>0.159151</td>\n",
       "    </tr>\n",
       "    <tr>\n",
       "      <th>...</th>\n",
       "      <td>...</td>\n",
       "      <td>...</td>\n",
       "      <td>...</td>\n",
       "      <td>...</td>\n",
       "      <td>...</td>\n",
       "      <td>...</td>\n",
       "      <td>...</td>\n",
       "      <td>...</td>\n",
       "      <td>...</td>\n",
       "      <td>...</td>\n",
       "      <td>...</td>\n",
       "      <td>...</td>\n",
       "      <td>...</td>\n",
       "      <td>...</td>\n",
       "      <td>...</td>\n",
       "      <td>...</td>\n",
       "      <td>...</td>\n",
       "      <td>...</td>\n",
       "      <td>...</td>\n",
       "      <td>...</td>\n",
       "      <td>...</td>\n",
       "    </tr>\n",
       "    <tr>\n",
       "      <th>3028</th>\n",
       "      <td>3028</td>\n",
       "      <td>3028</td>\n",
       "      <td>3028</td>\n",
       "      <td>3028</td>\n",
       "      <td>0.448961</td>\n",
       "      <td>0.989977</td>\n",
       "      <td>1.731302</td>\n",
       "      <td>0.666109</td>\n",
       "      <td>41.934697</td>\n",
       "      <td>0.435118</td>\n",
       "      <td>...</td>\n",
       "      <td>0.026311</td>\n",
       "      <td>0.712928</td>\n",
       "      <td>0.107290</td>\n",
       "      <td>0.045583</td>\n",
       "      <td>0.000015</td>\n",
       "      <td>0.000000</td>\n",
       "      <td>1.839161</td>\n",
       "      <td>0.000000</td>\n",
       "      <td>0.011774</td>\n",
       "      <td>0.034605</td>\n",
       "    </tr>\n",
       "    <tr>\n",
       "      <th>3029</th>\n",
       "      <td>3029</td>\n",
       "      <td>3029</td>\n",
       "      <td>3029</td>\n",
       "      <td>3029</td>\n",
       "      <td>0.420328</td>\n",
       "      <td>0.991325</td>\n",
       "      <td>1.813781</td>\n",
       "      <td>0.664752</td>\n",
       "      <td>55.356102</td>\n",
       "      <td>0.405909</td>\n",
       "      <td>...</td>\n",
       "      <td>0.024516</td>\n",
       "      <td>1.122588</td>\n",
       "      <td>0.000000</td>\n",
       "      <td>0.026218</td>\n",
       "      <td>0.000000</td>\n",
       "      <td>0.001101</td>\n",
       "      <td>1.456659</td>\n",
       "      <td>0.000000</td>\n",
       "      <td>0.005547</td>\n",
       "      <td>0.000000</td>\n",
       "    </tr>\n",
       "    <tr>\n",
       "      <th>3030</th>\n",
       "      <td>3030</td>\n",
       "      <td>3030</td>\n",
       "      <td>3030</td>\n",
       "      <td>3030</td>\n",
       "      <td>0.393559</td>\n",
       "      <td>0.985864</td>\n",
       "      <td>1.984105</td>\n",
       "      <td>0.646003</td>\n",
       "      <td>66.479941</td>\n",
       "      <td>0.378523</td>\n",
       "      <td>...</td>\n",
       "      <td>0.022063</td>\n",
       "      <td>0.000000</td>\n",
       "      <td>0.511106</td>\n",
       "      <td>0.000000</td>\n",
       "      <td>0.000064</td>\n",
       "      <td>0.010102</td>\n",
       "      <td>1.264072</td>\n",
       "      <td>0.000110</td>\n",
       "      <td>0.005954</td>\n",
       "      <td>0.212550</td>\n",
       "    </tr>\n",
       "    <tr>\n",
       "      <th>3031</th>\n",
       "      <td>3031</td>\n",
       "      <td>3031</td>\n",
       "      <td>3031</td>\n",
       "      <td>3031</td>\n",
       "      <td>0.388006</td>\n",
       "      <td>0.992199</td>\n",
       "      <td>1.564622</td>\n",
       "      <td>0.699199</td>\n",
       "      <td>43.493634</td>\n",
       "      <td>0.373067</td>\n",
       "      <td>...</td>\n",
       "      <td>0.020654</td>\n",
       "      <td>3.266987</td>\n",
       "      <td>0.000000</td>\n",
       "      <td>0.020026</td>\n",
       "      <td>0.000000</td>\n",
       "      <td>0.006786</td>\n",
       "      <td>2.593209</td>\n",
       "      <td>0.000083</td>\n",
       "      <td>0.005921</td>\n",
       "      <td>0.043086</td>\n",
       "    </tr>\n",
       "    <tr>\n",
       "      <th>3032</th>\n",
       "      <td>3032</td>\n",
       "      <td>3032</td>\n",
       "      <td>3032</td>\n",
       "      <td>3032</td>\n",
       "      <td>0.360308</td>\n",
       "      <td>0.989703</td>\n",
       "      <td>2.084161</td>\n",
       "      <td>0.613057</td>\n",
       "      <td>69.845532</td>\n",
       "      <td>0.345634</td>\n",
       "      <td>...</td>\n",
       "      <td>0.021921</td>\n",
       "      <td>0.966525</td>\n",
       "      <td>0.000000</td>\n",
       "      <td>0.041836</td>\n",
       "      <td>0.000111</td>\n",
       "      <td>0.005956</td>\n",
       "      <td>1.347797</td>\n",
       "      <td>0.000000</td>\n",
       "      <td>0.006979</td>\n",
       "      <td>0.000000</td>\n",
       "    </tr>\n",
       "  </tbody>\n",
       "</table>\n",
       "<p>3033 rows × 1138 columns</p>\n",
       "</div>"
      ],
      "text/plain": [
       "      Unnamed: 0.2  Unnamed: 0.1  Unnamed: 0  index    Energy      Corr  \\\n",
       "0                0             0           0      0  0.569125  0.995196   \n",
       "1                1             1           1      1  0.527938  0.995842   \n",
       "2                2             2           2      2  0.545918  0.996925   \n",
       "3                3             3           3      3  0.596634  0.996485   \n",
       "4                4             4           4      4  0.543781  0.996820   \n",
       "...            ...           ...         ...    ...       ...       ...   \n",
       "3028          3028          3028        3028   3028  0.448961  0.989977   \n",
       "3029          3029          3029        3029   3029  0.420328  0.991325   \n",
       "3030          3030          3030        3030   3030  0.393559  0.985864   \n",
       "3031          3031          3031        3031   3031  0.388006  0.992199   \n",
       "3032          3032          3032        3032   3032  0.360308  0.989703   \n",
       "\n",
       "      Diss_sim   Homogen   Contrast   Energy2  ...  47699dense  47720dense  \\\n",
       "0     1.267977  0.787601  29.518778  0.557591  ...    0.029683    1.985881   \n",
       "1     1.471252  0.822016  57.029869  0.515226  ...    0.030147    1.024253   \n",
       "2     1.381366  0.830510  46.555213  0.534082  ...    0.029008    0.367422   \n",
       "3     1.356422  0.838555  50.394299  0.585423  ...    0.030465    0.079529   \n",
       "4     1.250040  0.825479  38.552851  0.532117  ...    0.028144    0.630038   \n",
       "...        ...       ...        ...       ...  ...         ...         ...   \n",
       "3028  1.731302  0.666109  41.934697  0.435118  ...    0.026311    0.712928   \n",
       "3029  1.813781  0.664752  55.356102  0.405909  ...    0.024516    1.122588   \n",
       "3030  1.984105  0.646003  66.479941  0.378523  ...    0.022063    0.000000   \n",
       "3031  1.564622  0.699199  43.493634  0.373067  ...    0.020654    3.266987   \n",
       "3032  2.084161  0.613057  69.845532  0.345634  ...    0.021921    0.966525   \n",
       "\n",
       "      47932dense  48142dense  48143dense  48241dense  49149dense  49260dense  \\\n",
       "0       0.000000    0.041704    0.000000    0.000000    0.455218    0.000057   \n",
       "1       0.055374    0.051034    0.000000    0.000000    0.645608    0.000091   \n",
       "2       0.500729    0.030002    0.000000    0.003778    0.459859    0.000161   \n",
       "3       0.000000    0.061716    0.000000    0.000195    0.481287    0.000060   \n",
       "4       0.000000    0.050611    0.000135    0.002957    0.621002    0.000078   \n",
       "...          ...         ...         ...         ...         ...         ...   \n",
       "3028    0.107290    0.045583    0.000015    0.000000    1.839161    0.000000   \n",
       "3029    0.000000    0.026218    0.000000    0.001101    1.456659    0.000000   \n",
       "3030    0.511106    0.000000    0.000064    0.010102    1.264072    0.000110   \n",
       "3031    0.000000    0.020026    0.000000    0.006786    2.593209    0.000083   \n",
       "3032    0.000000    0.041836    0.000111    0.005956    1.347797    0.000000   \n",
       "\n",
       "      49634dense  49784dense  \n",
       "0       0.011483    0.266430  \n",
       "1       0.010660    0.170045  \n",
       "2       0.009236    0.206810  \n",
       "3       0.012304    0.035740  \n",
       "4       0.010994    0.159151  \n",
       "...          ...         ...  \n",
       "3028    0.011774    0.034605  \n",
       "3029    0.005547    0.000000  \n",
       "3030    0.005954    0.212550  \n",
       "3031    0.005921    0.043086  \n",
       "3032    0.006979    0.000000  \n",
       "\n",
       "[3033 rows x 1138 columns]"
      ]
     },
     "execution_count": 3,
     "metadata": {},
     "output_type": "execute_result"
    }
   ],
   "source": [
    "df_1 = pd.read_csv('full_train_dt.csv')\n",
    "\n",
    "df_1"
   ]
  },
  {
   "cell_type": "code",
   "execution_count": 4,
   "metadata": {},
   "outputs": [],
   "source": [
    "split = StratifiedShuffleSplit(n_splits = 1, test_size=0.2, random_state=1)\n",
    "for train_index, test_index in split.split(df_1, df_1['0']):\n",
    "    strat_train_set = df_1.loc[train_index]\n",
    "    strat_test_set = df_1.loc[test_index]"
   ]
  },
  {
   "cell_type": "code",
   "execution_count": 5,
   "metadata": {},
   "outputs": [],
   "source": [
    "label_train = strat_train_set['0']\n",
    "label_test = strat_test_set['0']\n",
    "\n",
    "strat_train_set.drop(['Unnamed: 0.2','Unnamed: 0.1', 'Unnamed: 0', 'index','0'],axis=1, inplace=True)\n",
    "strat_test_set.drop(['Unnamed: 0.2','Unnamed: 0.1', 'Unnamed: 0', 'index','0'],axis=1, inplace=True)"
   ]
  },
  {
   "cell_type": "markdown",
   "metadata": {},
   "source": [
    "### VGG GLCM RestNet"
   ]
  },
  {
   "cell_type": "code",
   "execution_count": 5,
   "metadata": {},
   "outputs": [
    {
     "data": {
      "text/html": [
       "<div>\n",
       "<style scoped>\n",
       "    .dataframe tbody tr th:only-of-type {\n",
       "        vertical-align: middle;\n",
       "    }\n",
       "\n",
       "    .dataframe tbody tr th {\n",
       "        vertical-align: top;\n",
       "    }\n",
       "\n",
       "    .dataframe thead th {\n",
       "        text-align: right;\n",
       "    }\n",
       "</style>\n",
       "<table border=\"1\" class=\"dataframe\">\n",
       "  <thead>\n",
       "    <tr style=\"text-align: right;\">\n",
       "      <th></th>\n",
       "      <th>feature</th>\n",
       "      <th>score</th>\n",
       "    </tr>\n",
       "  </thead>\n",
       "  <tbody>\n",
       "    <tr>\n",
       "      <th>14</th>\n",
       "      <td>Contrast3</td>\n",
       "      <td>53677.310063</td>\n",
       "    </tr>\n",
       "    <tr>\n",
       "      <th>9</th>\n",
       "      <td>Contrast2</td>\n",
       "      <td>22329.557931</td>\n",
       "    </tr>\n",
       "    <tr>\n",
       "      <th>773</th>\n",
       "      <td>40072mobile</td>\n",
       "      <td>5466.025718</td>\n",
       "    </tr>\n",
       "    <tr>\n",
       "      <th>619</th>\n",
       "      <td>13111mobile</td>\n",
       "      <td>4131.786834</td>\n",
       "    </tr>\n",
       "    <tr>\n",
       "      <th>718</th>\n",
       "      <td>31704mobile</td>\n",
       "      <td>3812.696096</td>\n",
       "    </tr>\n",
       "    <tr>\n",
       "      <th>...</th>\n",
       "      <td>...</td>\n",
       "      <td>...</td>\n",
       "    </tr>\n",
       "    <tr>\n",
       "      <th>91</th>\n",
       "      <td>340rest</td>\n",
       "      <td>0.000892</td>\n",
       "    </tr>\n",
       "    <tr>\n",
       "      <th>152</th>\n",
       "      <td>581rest</td>\n",
       "      <td>0.000654</td>\n",
       "    </tr>\n",
       "    <tr>\n",
       "      <th>280</th>\n",
       "      <td>1000rest</td>\n",
       "      <td>0.000523</td>\n",
       "    </tr>\n",
       "    <tr>\n",
       "      <th>135</th>\n",
       "      <td>525rest</td>\n",
       "      <td>0.000291</td>\n",
       "    </tr>\n",
       "    <tr>\n",
       "      <th>129</th>\n",
       "      <td>497rest</td>\n",
       "      <td>0.000139</td>\n",
       "    </tr>\n",
       "  </tbody>\n",
       "</table>\n",
       "<p>861 rows × 2 columns</p>\n",
       "</div>"
      ],
      "text/plain": [
       "         feature         score\n",
       "14     Contrast3  53677.310063\n",
       "9      Contrast2  22329.557931\n",
       "773  40072mobile   5466.025718\n",
       "619  13111mobile   4131.786834\n",
       "718  31704mobile   3812.696096\n",
       "..           ...           ...\n",
       "91       340rest      0.000892\n",
       "152      581rest      0.000654\n",
       "280     1000rest      0.000523\n",
       "135      525rest      0.000291\n",
       "129      497rest      0.000139\n",
       "\n",
       "[861 rows x 2 columns]"
      ]
     },
     "execution_count": 5,
     "metadata": {},
     "output_type": "execute_result"
    }
   ],
   "source": [
    "#feature selection\n",
    "from sklearn.feature_selection import SelectKBest, mutual_info_classif\n",
    "from sklearn.feature_selection import chi2\n",
    "\n",
    "fs = SelectKBest(score_func = chi2, k='all')\n",
    "fs.fit(strat_train_set, label_train)\n",
    "\n",
    "\n",
    "cols = fs.get_support(indices=True)\n",
    "list_column_categoric = (strat_train_set.iloc[:,cols].columns)\n",
    "list_score_select_cat = [fs.scores_[val] for val in range(len(fs.scores_))]\n",
    "\n",
    "dict_score_cat = {'feature':list_column_categoric, 'score':list_score_select_cat}\n",
    "\n",
    "score_cat_df = pd.DataFrame(dict_score_cat)\n",
    "\n",
    "\n",
    "score_cat_df.sort_values(by='score', ascending=False)"
   ]
  },
  {
   "cell_type": "code",
   "execution_count": 6,
   "metadata": {},
   "outputs": [
    {
     "name": "stdout",
     "output_type": "stream",
     "text": [
      "252\n"
     ]
    }
   ],
   "source": [
    "list_ch2 = list(score_cat_df[score_cat_df['score'] > 150]['feature'])\n",
    "list_feature = list(strat_train_set.columns)\n",
    "print(len(list_ch2))"
   ]
  },
  {
   "cell_type": "code",
   "execution_count": 7,
   "metadata": {},
   "outputs": [],
   "source": [
    "for i in range(0, len(list_ch2)):\n",
    "    list_feature.remove(list_ch2[i])"
   ]
  },
  {
   "cell_type": "code",
   "execution_count": 8,
   "metadata": {},
   "outputs": [
    {
     "name": "stdout",
     "output_type": "stream",
     "text": [
      "jumlah feature yang di drop: 609\n"
     ]
    }
   ],
   "source": [
    "print(f\"jumlah feature yang di drop: {len(list_feature)}\")"
   ]
  },
  {
   "cell_type": "code",
   "execution_count": 9,
   "metadata": {},
   "outputs": [],
   "source": [
    "from sklearn.base import BaseEstimator, TransformerMixin\n",
    "\n",
    "class selectionFiture(BaseEstimator, TransformerMixin):\n",
    "    def __init__(self, drop_columns ):\n",
    "        self.drop_columns = drop_columns\n",
    "        \n",
    "    def fit(self, X, y=None):\n",
    "        return self\n",
    "    \n",
    "    def transform(self, X):\n",
    "        return X.drop(self.drop_columns, axis=1)"
   ]
  },
  {
   "cell_type": "code",
   "execution_count": 10,
   "metadata": {},
   "outputs": [],
   "source": [
    "attr_df = selectionFiture(drop_columns=list_feature)\n",
    "df_drop = attr_df.transform(strat_train_set)"
   ]
  },
  {
   "cell_type": "code",
   "execution_count": 11,
   "metadata": {},
   "outputs": [],
   "source": [
    "df_drop = attr_df.transform(strat_test_set)"
   ]
  },
  {
   "cell_type": "code",
   "execution_count": 19,
   "metadata": {},
   "outputs": [
    {
     "data": {
      "text/html": [
       "<style>#sk-container-id-2 {color: black;background-color: white;}#sk-container-id-2 pre{padding: 0;}#sk-container-id-2 div.sk-toggleable {background-color: white;}#sk-container-id-2 label.sk-toggleable__label {cursor: pointer;display: block;width: 100%;margin-bottom: 0;padding: 0.3em;box-sizing: border-box;text-align: center;}#sk-container-id-2 label.sk-toggleable__label-arrow:before {content: \"▸\";float: left;margin-right: 0.25em;color: #696969;}#sk-container-id-2 label.sk-toggleable__label-arrow:hover:before {color: black;}#sk-container-id-2 div.sk-estimator:hover label.sk-toggleable__label-arrow:before {color: black;}#sk-container-id-2 div.sk-toggleable__content {max-height: 0;max-width: 0;overflow: hidden;text-align: left;background-color: #f0f8ff;}#sk-container-id-2 div.sk-toggleable__content pre {margin: 0.2em;color: black;border-radius: 0.25em;background-color: #f0f8ff;}#sk-container-id-2 input.sk-toggleable__control:checked~div.sk-toggleable__content {max-height: 200px;max-width: 100%;overflow: auto;}#sk-container-id-2 input.sk-toggleable__control:checked~label.sk-toggleable__label-arrow:before {content: \"▾\";}#sk-container-id-2 div.sk-estimator input.sk-toggleable__control:checked~label.sk-toggleable__label {background-color: #d4ebff;}#sk-container-id-2 div.sk-label input.sk-toggleable__control:checked~label.sk-toggleable__label {background-color: #d4ebff;}#sk-container-id-2 input.sk-hidden--visually {border: 0;clip: rect(1px 1px 1px 1px);clip: rect(1px, 1px, 1px, 1px);height: 1px;margin: -1px;overflow: hidden;padding: 0;position: absolute;width: 1px;}#sk-container-id-2 div.sk-estimator {font-family: monospace;background-color: #f0f8ff;border: 1px dotted black;border-radius: 0.25em;box-sizing: border-box;margin-bottom: 0.5em;}#sk-container-id-2 div.sk-estimator:hover {background-color: #d4ebff;}#sk-container-id-2 div.sk-parallel-item::after {content: \"\";width: 100%;border-bottom: 1px solid gray;flex-grow: 1;}#sk-container-id-2 div.sk-label:hover label.sk-toggleable__label {background-color: #d4ebff;}#sk-container-id-2 div.sk-serial::before {content: \"\";position: absolute;border-left: 1px solid gray;box-sizing: border-box;top: 0;bottom: 0;left: 50%;z-index: 0;}#sk-container-id-2 div.sk-serial {display: flex;flex-direction: column;align-items: center;background-color: white;padding-right: 0.2em;padding-left: 0.2em;position: relative;}#sk-container-id-2 div.sk-item {position: relative;z-index: 1;}#sk-container-id-2 div.sk-parallel {display: flex;align-items: stretch;justify-content: center;background-color: white;position: relative;}#sk-container-id-2 div.sk-item::before, #sk-container-id-2 div.sk-parallel-item::before {content: \"\";position: absolute;border-left: 1px solid gray;box-sizing: border-box;top: 0;bottom: 0;left: 50%;z-index: -1;}#sk-container-id-2 div.sk-parallel-item {display: flex;flex-direction: column;z-index: 1;position: relative;background-color: white;}#sk-container-id-2 div.sk-parallel-item:first-child::after {align-self: flex-end;width: 50%;}#sk-container-id-2 div.sk-parallel-item:last-child::after {align-self: flex-start;width: 50%;}#sk-container-id-2 div.sk-parallel-item:only-child::after {width: 0;}#sk-container-id-2 div.sk-dashed-wrapped {border: 1px dashed gray;margin: 0 0.4em 0.5em 0.4em;box-sizing: border-box;padding-bottom: 0.4em;background-color: white;}#sk-container-id-2 div.sk-label label {font-family: monospace;font-weight: bold;display: inline-block;line-height: 1.2em;}#sk-container-id-2 div.sk-label-container {text-align: center;}#sk-container-id-2 div.sk-container {/* jupyter's `normalize.less` sets `[hidden] { display: none; }` but bootstrap.min.css set `[hidden] { display: none !important; }` so we also need the `!important` here to be able to override the default hidden behavior on the sphinx rendered scikit-learn.org. See: https://github.com/scikit-learn/scikit-learn/issues/21755 */display: inline-block !important;position: relative;}#sk-container-id-2 div.sk-text-repr-fallback {display: none;}</style><div id=\"sk-container-id-2\" class=\"sk-top-container\"><div class=\"sk-text-repr-fallback\"><pre>BaggingClassifier(base_estimator=RandomForestClassifier(random_state=11))</pre><b>In a Jupyter environment, please rerun this cell to show the HTML representation or trust the notebook. <br />On GitHub, the HTML representation is unable to render, please try loading this page with nbviewer.org.</b></div><div class=\"sk-container\" hidden><div class=\"sk-item sk-dashed-wrapped\"><div class=\"sk-label-container\"><div class=\"sk-label sk-toggleable\"><input class=\"sk-toggleable__control sk-hidden--visually\" id=\"sk-estimator-id-4\" type=\"checkbox\" ><label for=\"sk-estimator-id-4\" class=\"sk-toggleable__label sk-toggleable__label-arrow\">BaggingClassifier</label><div class=\"sk-toggleable__content\"><pre>BaggingClassifier(base_estimator=RandomForestClassifier(random_state=11))</pre></div></div></div><div class=\"sk-parallel\"><div class=\"sk-parallel-item\"><div class=\"sk-item\"><div class=\"sk-label-container\"><div class=\"sk-label sk-toggleable\"><input class=\"sk-toggleable__control sk-hidden--visually\" id=\"sk-estimator-id-5\" type=\"checkbox\" ><label for=\"sk-estimator-id-5\" class=\"sk-toggleable__label sk-toggleable__label-arrow\">base_estimator: RandomForestClassifier</label><div class=\"sk-toggleable__content\"><pre>RandomForestClassifier(random_state=11)</pre></div></div></div><div class=\"sk-serial\"><div class=\"sk-item\"><div class=\"sk-estimator sk-toggleable\"><input class=\"sk-toggleable__control sk-hidden--visually\" id=\"sk-estimator-id-6\" type=\"checkbox\" ><label for=\"sk-estimator-id-6\" class=\"sk-toggleable__label sk-toggleable__label-arrow\">RandomForestClassifier</label><div class=\"sk-toggleable__content\"><pre>RandomForestClassifier(random_state=11)</pre></div></div></div></div></div></div></div></div></div></div>"
      ],
      "text/plain": [
       "BaggingClassifier(base_estimator=RandomForestClassifier(random_state=11))"
      ]
     },
     "execution_count": 19,
     "metadata": {},
     "output_type": "execute_result"
    }
   ],
   "source": [
    "from sklearn.ensemble import BaggingClassifier\n",
    "\n",
    "clf = BaggingClassifier(base_estimator = RandomForestClassifier(random_state=11))\n",
    "\n",
    "clf.fit(strat_train_set, label_train)"
   ]
  },
  {
   "cell_type": "code",
   "execution_count": 20,
   "metadata": {},
   "outputs": [
    {
     "name": "stdout",
     "output_type": "stream",
     "text": [
      "classification report some data RF : \n",
      "               precision    recall  f1-score   support\n",
      "\n",
      "         0.0       0.85      0.92      0.88       122\n",
      "         1.0       0.86      0.77      0.81       124\n",
      "         2.0       0.89      0.92      0.90       119\n",
      "         3.0       0.96      0.90      0.93       118\n",
      "         4.0       0.92      0.98      0.95       124\n",
      "\n",
      "    accuracy                           0.89       607\n",
      "   macro avg       0.90      0.89      0.89       607\n",
      "weighted avg       0.90      0.89      0.89       607\n",
      "\n",
      "accuracy score : 0.8945634266886326\n"
     ]
    }
   ],
   "source": [
    "some_data_predict = clf.predict(strat_test_set)\n",
    "print(f'classification report some data RF : \\n {classification_report(label_test, some_data_predict)}\\naccuracy score : {accuracy_score(label_test, some_data_predict)}')"
   ]
  },
  {
   "cell_type": "code",
   "execution_count": 21,
   "metadata": {},
   "outputs": [
    {
     "data": {
      "text/plain": [
       "array([[112,   9,   0,   1,   0],\n",
       "       [ 12,  95,  10,   0,   7],\n",
       "       [  1,   3, 109,   3,   3],\n",
       "       [  7,   2,   3, 106,   0],\n",
       "       [  0,   2,   1,   0, 121]])"
      ]
     },
     "execution_count": 21,
     "metadata": {},
     "output_type": "execute_result"
    }
   ],
   "source": [
    "confusion_matrix(label_test, some_data_predict)"
   ]
  },
  {
   "cell_type": "code",
   "execution_count": 22,
   "metadata": {},
   "outputs": [],
   "source": [
    "from sklearn.ensemble import VotingClassifier\n",
    "\n",
    "clf1 = RandomForestClassifier(random_state=11)\n",
    "clf2 = BaggingClassifier(base_estimator= RandomForestClassifier(), max_features=1.0, max_samples= 1.0, n_estimators= 50)\n",
    "\n",
    "eclf = VotingClassifier(estimators=[('rf',clf1), ('bg',clf2)])\n",
    "\n",
    "eclf = eclf.fit(strat_train_set, label_train)"
   ]
  },
  {
   "cell_type": "code",
   "execution_count": 23,
   "metadata": {},
   "outputs": [
    {
     "name": "stdout",
     "output_type": "stream",
     "text": [
      "classification report some data RF : \n",
      "               precision    recall  f1-score   support\n",
      "\n",
      "         0.0       0.85      0.91      0.88       122\n",
      "         1.0       0.84      0.80      0.82       124\n",
      "         2.0       0.90      0.93      0.92       119\n",
      "         3.0       0.98      0.89      0.93       118\n",
      "         4.0       0.93      0.96      0.94       124\n",
      "\n",
      "    accuracy                           0.90       607\n",
      "   macro avg       0.90      0.90      0.90       607\n",
      "weighted avg       0.90      0.90      0.90       607\n",
      "\n",
      "accuracy score : 0.8978583196046128\n"
     ]
    }
   ],
   "source": [
    "some_data_predict = eclf.predict(strat_test_set)\n",
    "print(f'classification report some data RF : \\n {classification_report(label_test, some_data_predict)}\\naccuracy score : {accuracy_score(label_test, some_data_predict)}')"
   ]
  },
  {
   "cell_type": "markdown",
   "metadata": {},
   "source": [
    "### VGG RESTNET GLCM DENSENEt"
   ]
  },
  {
   "cell_type": "code",
   "execution_count": 8,
   "metadata": {},
   "outputs": [
    {
     "data": {
      "text/html": [
       "<div>\n",
       "<style scoped>\n",
       "    .dataframe tbody tr th:only-of-type {\n",
       "        vertical-align: middle;\n",
       "    }\n",
       "\n",
       "    .dataframe tbody tr th {\n",
       "        vertical-align: top;\n",
       "    }\n",
       "\n",
       "    .dataframe thead th {\n",
       "        text-align: right;\n",
       "    }\n",
       "</style>\n",
       "<table border=\"1\" class=\"dataframe\">\n",
       "  <thead>\n",
       "    <tr style=\"text-align: right;\">\n",
       "      <th></th>\n",
       "      <th>feature</th>\n",
       "      <th>score</th>\n",
       "    </tr>\n",
       "  </thead>\n",
       "  <tbody>\n",
       "    <tr>\n",
       "      <th>14</th>\n",
       "      <td>Contrast3</td>\n",
       "      <td>53677.310063</td>\n",
       "    </tr>\n",
       "    <tr>\n",
       "      <th>9</th>\n",
       "      <td>Contrast2</td>\n",
       "      <td>22329.557931</td>\n",
       "    </tr>\n",
       "    <tr>\n",
       "      <th>1045</th>\n",
       "      <td>33493dense</td>\n",
       "      <td>5871.305153</td>\n",
       "    </tr>\n",
       "    <tr>\n",
       "      <th>773</th>\n",
       "      <td>40072mobile</td>\n",
       "      <td>5466.025718</td>\n",
       "    </tr>\n",
       "    <tr>\n",
       "      <th>619</th>\n",
       "      <td>13111mobile</td>\n",
       "      <td>4131.786834</td>\n",
       "    </tr>\n",
       "    <tr>\n",
       "      <th>...</th>\n",
       "      <td>...</td>\n",
       "      <td>...</td>\n",
       "    </tr>\n",
       "    <tr>\n",
       "      <th>91</th>\n",
       "      <td>340rest</td>\n",
       "      <td>0.000892</td>\n",
       "    </tr>\n",
       "    <tr>\n",
       "      <th>152</th>\n",
       "      <td>581rest</td>\n",
       "      <td>0.000654</td>\n",
       "    </tr>\n",
       "    <tr>\n",
       "      <th>280</th>\n",
       "      <td>1000rest</td>\n",
       "      <td>0.000523</td>\n",
       "    </tr>\n",
       "    <tr>\n",
       "      <th>135</th>\n",
       "      <td>525rest</td>\n",
       "      <td>0.000291</td>\n",
       "    </tr>\n",
       "    <tr>\n",
       "      <th>129</th>\n",
       "      <td>497rest</td>\n",
       "      <td>0.000139</td>\n",
       "    </tr>\n",
       "  </tbody>\n",
       "</table>\n",
       "<p>1133 rows × 2 columns</p>\n",
       "</div>"
      ],
      "text/plain": [
       "          feature         score\n",
       "14      Contrast3  53677.310063\n",
       "9       Contrast2  22329.557931\n",
       "1045   33493dense   5871.305153\n",
       "773   40072mobile   5466.025718\n",
       "619   13111mobile   4131.786834\n",
       "...           ...           ...\n",
       "91        340rest      0.000892\n",
       "152       581rest      0.000654\n",
       "280      1000rest      0.000523\n",
       "135       525rest      0.000291\n",
       "129       497rest      0.000139\n",
       "\n",
       "[1133 rows x 2 columns]"
      ]
     },
     "execution_count": 8,
     "metadata": {},
     "output_type": "execute_result"
    }
   ],
   "source": [
    "#feature selection\n",
    "from sklearn.feature_selection import SelectKBest, mutual_info_classif\n",
    "from sklearn.feature_selection import chi2\n",
    "\n",
    "fs = SelectKBest(score_func = chi2, k='all')\n",
    "fs.fit(strat_train_set, label_train)\n",
    "\n",
    "\n",
    "cols = fs.get_support(indices=True)\n",
    "list_column_categoric = (strat_train_set.iloc[:,cols].columns)\n",
    "list_score_select_cat = [fs.scores_[val] for val in range(len(fs.scores_))]\n",
    "\n",
    "dict_score_cat = {'feature':list_column_categoric, 'score':list_score_select_cat}\n",
    "\n",
    "score_cat_df = pd.DataFrame(dict_score_cat)\n",
    "\n",
    "\n",
    "score_cat_df.sort_values(by='score', ascending=False)"
   ]
  },
  {
   "cell_type": "code",
   "execution_count": 24,
   "metadata": {},
   "outputs": [
    {
     "name": "stdout",
     "output_type": "stream",
     "text": [
      "487\n"
     ]
    }
   ],
   "source": [
    "list_ch2 = list(score_cat_df[score_cat_df['score'] > 55]['feature'])\n",
    "list_feature = list(strat_train_set.columns)\n",
    "print(len(list_ch2))"
   ]
  },
  {
   "cell_type": "code",
   "execution_count": 25,
   "metadata": {},
   "outputs": [],
   "source": [
    "for i in range(0, len(list_ch2)):\n",
    "    list_feature.remove(list_ch2[i])"
   ]
  },
  {
   "cell_type": "code",
   "execution_count": 26,
   "metadata": {},
   "outputs": [
    {
     "name": "stdout",
     "output_type": "stream",
     "text": [
      "jumlah feature yang di drop: 646\n"
     ]
    }
   ],
   "source": [
    "print(f\"jumlah feature yang di drop: {len(list_feature)}\")"
   ]
  },
  {
   "cell_type": "code",
   "execution_count": 27,
   "metadata": {},
   "outputs": [],
   "source": [
    "from sklearn.base import BaseEstimator, TransformerMixin\n",
    "\n",
    "class selectionFiture(BaseEstimator, TransformerMixin):\n",
    "    def __init__(self, drop_columns ):\n",
    "        self.drop_columns = drop_columns\n",
    "        \n",
    "    def fit(self, X, y=None):\n",
    "        return self\n",
    "    \n",
    "    def transform(self, X):\n",
    "        return X.drop(self.drop_columns, axis=1)"
   ]
  },
  {
   "cell_type": "code",
   "execution_count": 28,
   "metadata": {},
   "outputs": [],
   "source": [
    "attr_df = selectionFiture(drop_columns=list_feature)\n",
    "df_drop = attr_df.transform(strat_train_set)"
   ]
  },
  {
   "cell_type": "code",
   "execution_count": 29,
   "metadata": {},
   "outputs": [],
   "source": [
    "df_drop = attr_df.transform(strat_test_set)"
   ]
  },
  {
   "cell_type": "markdown",
   "metadata": {},
   "source": [
    "#### Bagging"
   ]
  },
  {
   "cell_type": "code",
   "execution_count": 32,
   "metadata": {},
   "outputs": [
    {
     "data": {
      "text/html": [
       "<style>#sk-container-id-5 {color: black;background-color: white;}#sk-container-id-5 pre{padding: 0;}#sk-container-id-5 div.sk-toggleable {background-color: white;}#sk-container-id-5 label.sk-toggleable__label {cursor: pointer;display: block;width: 100%;margin-bottom: 0;padding: 0.3em;box-sizing: border-box;text-align: center;}#sk-container-id-5 label.sk-toggleable__label-arrow:before {content: \"▸\";float: left;margin-right: 0.25em;color: #696969;}#sk-container-id-5 label.sk-toggleable__label-arrow:hover:before {color: black;}#sk-container-id-5 div.sk-estimator:hover label.sk-toggleable__label-arrow:before {color: black;}#sk-container-id-5 div.sk-toggleable__content {max-height: 0;max-width: 0;overflow: hidden;text-align: left;background-color: #f0f8ff;}#sk-container-id-5 div.sk-toggleable__content pre {margin: 0.2em;color: black;border-radius: 0.25em;background-color: #f0f8ff;}#sk-container-id-5 input.sk-toggleable__control:checked~div.sk-toggleable__content {max-height: 200px;max-width: 100%;overflow: auto;}#sk-container-id-5 input.sk-toggleable__control:checked~label.sk-toggleable__label-arrow:before {content: \"▾\";}#sk-container-id-5 div.sk-estimator input.sk-toggleable__control:checked~label.sk-toggleable__label {background-color: #d4ebff;}#sk-container-id-5 div.sk-label input.sk-toggleable__control:checked~label.sk-toggleable__label {background-color: #d4ebff;}#sk-container-id-5 input.sk-hidden--visually {border: 0;clip: rect(1px 1px 1px 1px);clip: rect(1px, 1px, 1px, 1px);height: 1px;margin: -1px;overflow: hidden;padding: 0;position: absolute;width: 1px;}#sk-container-id-5 div.sk-estimator {font-family: monospace;background-color: #f0f8ff;border: 1px dotted black;border-radius: 0.25em;box-sizing: border-box;margin-bottom: 0.5em;}#sk-container-id-5 div.sk-estimator:hover {background-color: #d4ebff;}#sk-container-id-5 div.sk-parallel-item::after {content: \"\";width: 100%;border-bottom: 1px solid gray;flex-grow: 1;}#sk-container-id-5 div.sk-label:hover label.sk-toggleable__label {background-color: #d4ebff;}#sk-container-id-5 div.sk-serial::before {content: \"\";position: absolute;border-left: 1px solid gray;box-sizing: border-box;top: 0;bottom: 0;left: 50%;z-index: 0;}#sk-container-id-5 div.sk-serial {display: flex;flex-direction: column;align-items: center;background-color: white;padding-right: 0.2em;padding-left: 0.2em;position: relative;}#sk-container-id-5 div.sk-item {position: relative;z-index: 1;}#sk-container-id-5 div.sk-parallel {display: flex;align-items: stretch;justify-content: center;background-color: white;position: relative;}#sk-container-id-5 div.sk-item::before, #sk-container-id-5 div.sk-parallel-item::before {content: \"\";position: absolute;border-left: 1px solid gray;box-sizing: border-box;top: 0;bottom: 0;left: 50%;z-index: -1;}#sk-container-id-5 div.sk-parallel-item {display: flex;flex-direction: column;z-index: 1;position: relative;background-color: white;}#sk-container-id-5 div.sk-parallel-item:first-child::after {align-self: flex-end;width: 50%;}#sk-container-id-5 div.sk-parallel-item:last-child::after {align-self: flex-start;width: 50%;}#sk-container-id-5 div.sk-parallel-item:only-child::after {width: 0;}#sk-container-id-5 div.sk-dashed-wrapped {border: 1px dashed gray;margin: 0 0.4em 0.5em 0.4em;box-sizing: border-box;padding-bottom: 0.4em;background-color: white;}#sk-container-id-5 div.sk-label label {font-family: monospace;font-weight: bold;display: inline-block;line-height: 1.2em;}#sk-container-id-5 div.sk-label-container {text-align: center;}#sk-container-id-5 div.sk-container {/* jupyter's `normalize.less` sets `[hidden] { display: none; }` but bootstrap.min.css set `[hidden] { display: none !important; }` so we also need the `!important` here to be able to override the default hidden behavior on the sphinx rendered scikit-learn.org. See: https://github.com/scikit-learn/scikit-learn/issues/21755 */display: inline-block !important;position: relative;}#sk-container-id-5 div.sk-text-repr-fallback {display: none;}</style><div id=\"sk-container-id-5\" class=\"sk-top-container\"><div class=\"sk-text-repr-fallback\"><pre>BaggingClassifier(base_estimator=RandomForestClassifier(random_state=11))</pre><b>In a Jupyter environment, please rerun this cell to show the HTML representation or trust the notebook. <br />On GitHub, the HTML representation is unable to render, please try loading this page with nbviewer.org.</b></div><div class=\"sk-container\" hidden><div class=\"sk-item sk-dashed-wrapped\"><div class=\"sk-label-container\"><div class=\"sk-label sk-toggleable\"><input class=\"sk-toggleable__control sk-hidden--visually\" id=\"sk-estimator-id-13\" type=\"checkbox\" ><label for=\"sk-estimator-id-13\" class=\"sk-toggleable__label sk-toggleable__label-arrow\">BaggingClassifier</label><div class=\"sk-toggleable__content\"><pre>BaggingClassifier(base_estimator=RandomForestClassifier(random_state=11))</pre></div></div></div><div class=\"sk-parallel\"><div class=\"sk-parallel-item\"><div class=\"sk-item\"><div class=\"sk-label-container\"><div class=\"sk-label sk-toggleable\"><input class=\"sk-toggleable__control sk-hidden--visually\" id=\"sk-estimator-id-14\" type=\"checkbox\" ><label for=\"sk-estimator-id-14\" class=\"sk-toggleable__label sk-toggleable__label-arrow\">base_estimator: RandomForestClassifier</label><div class=\"sk-toggleable__content\"><pre>RandomForestClassifier(random_state=11)</pre></div></div></div><div class=\"sk-serial\"><div class=\"sk-item\"><div class=\"sk-estimator sk-toggleable\"><input class=\"sk-toggleable__control sk-hidden--visually\" id=\"sk-estimator-id-15\" type=\"checkbox\" ><label for=\"sk-estimator-id-15\" class=\"sk-toggleable__label sk-toggleable__label-arrow\">RandomForestClassifier</label><div class=\"sk-toggleable__content\"><pre>RandomForestClassifier(random_state=11)</pre></div></div></div></div></div></div></div></div></div></div>"
      ],
      "text/plain": [
       "BaggingClassifier(base_estimator=RandomForestClassifier(random_state=11))"
      ]
     },
     "execution_count": 32,
     "metadata": {},
     "output_type": "execute_result"
    }
   ],
   "source": [
    "from sklearn.ensemble import BaggingClassifier\n",
    "\n",
    "clf = BaggingClassifier(base_estimator = RandomForestClassifier(random_state=11))\n",
    "clf.fit(strat_train_set, label_train)"
   ]
  },
  {
   "cell_type": "code",
   "execution_count": 53,
   "metadata": {},
   "outputs": [
    {
     "name": "stdout",
     "output_type": "stream",
     "text": [
      "              precision    recall  f1-score   support\n",
      "\n",
      "         0.0       0.88      0.92      0.90       122\n",
      "         1.0       0.85      0.81      0.83       124\n",
      "         2.0       0.90      0.94      0.92       119\n",
      "         3.0       0.97      0.90      0.93       118\n",
      "         4.0       0.95      0.98      0.96       124\n",
      "\n",
      "    accuracy                           0.91       607\n",
      "   macro avg       0.91      0.91      0.91       607\n",
      "weighted avg       0.91      0.91      0.91       607\n",
      "\n",
      "      \n",
      "accuracy score : 0.9077429983525536\n",
      "      \n",
      "cnfusion matrix : \n",
      "[[112   9   0   1   0]\n",
      " [  9 100   9   0   6]\n",
      " [  1   4 112   1   1]\n",
      " [  6   2   4 106   0]\n",
      " [  0   2   0   1 121]]\n"
     ]
    }
   ],
   "source": [
    "some_data_predict = clf.predict(strat_test_set)\n",
    "print(f'''{classification_report(label_test, some_data_predict)}\n",
    "      \\naccuracy score : {accuracy_score(label_test, some_data_predict)}\n",
    "      \\ncnfusion matrix : \\n{confusion_matrix(label_test, some_data_predict)}''')"
   ]
  },
  {
   "cell_type": "markdown",
   "metadata": {},
   "source": [
    "all :  0.9060955518945635\n",
    "60 : 0.9028006589785832\n",
    "50 : 0.9028006589785832\n",
    "55 : 0.9044481054365733"
   ]
  },
  {
   "cell_type": "code",
   "execution_count": null,
   "metadata": {},
   "outputs": [],
   "source": []
  },
  {
   "cell_type": "markdown",
   "metadata": {},
   "source": [
    "#### Votting"
   ]
  },
  {
   "cell_type": "code",
   "execution_count": 45,
   "metadata": {},
   "outputs": [],
   "source": [
    "#VOTING\n",
    "from sklearn.ensemble import VotingClassifier\n",
    "\n",
    "clf1 = RandomForestClassifier()\n",
    "clf2 = BaggingClassifier(base_estimator= RandomForestClassifier(), max_features=1.0, max_samples= 1.0, n_estimators= 50)\n",
    "\n",
    "eclf = VotingClassifier(estimators=[('rf',clf1), ('bg',clf2)])\n",
    "\n",
    "eclf = eclf.fit(strat_train_set, label_train)"
   ]
  },
  {
   "cell_type": "code",
   "execution_count": 52,
   "metadata": {},
   "outputs": [
    {
     "name": "stdout",
     "output_type": "stream",
     "text": [
      "              precision    recall  f1-score   support\n",
      "\n",
      "         0.0       0.85      0.93      0.89       122\n",
      "         1.0       0.86      0.82      0.84       124\n",
      "         2.0       0.90      0.94      0.92       119\n",
      "         3.0       0.98      0.86      0.92       118\n",
      "         4.0       0.95      0.96      0.96       124\n",
      "\n",
      "    accuracy                           0.90       607\n",
      "   macro avg       0.91      0.90      0.90       607\n",
      "weighted avg       0.91      0.90      0.90       607\n",
      "\n",
      "accuracy score : 0.9044481054365733\n"
     ]
    }
   ],
   "source": [
    "some_data_predict = eclf.predict(strat_test_set)\n",
    "print(f'{classification_report(label_test, some_data_predict)}\\naccuracy score : {accuracy_score(label_test, some_data_predict)}')"
   ]
  },
  {
   "cell_type": "markdown",
   "metadata": {},
   "source": [
    "all : 0.9044481054365733"
   ]
  },
  {
   "cell_type": "markdown",
   "metadata": {},
   "source": [
    "#### RandomForest"
   ]
  },
  {
   "cell_type": "code",
   "execution_count": 47,
   "metadata": {},
   "outputs": [
    {
     "data": {
      "text/html": [
       "<style>#sk-container-id-7 {color: black;background-color: white;}#sk-container-id-7 pre{padding: 0;}#sk-container-id-7 div.sk-toggleable {background-color: white;}#sk-container-id-7 label.sk-toggleable__label {cursor: pointer;display: block;width: 100%;margin-bottom: 0;padding: 0.3em;box-sizing: border-box;text-align: center;}#sk-container-id-7 label.sk-toggleable__label-arrow:before {content: \"▸\";float: left;margin-right: 0.25em;color: #696969;}#sk-container-id-7 label.sk-toggleable__label-arrow:hover:before {color: black;}#sk-container-id-7 div.sk-estimator:hover label.sk-toggleable__label-arrow:before {color: black;}#sk-container-id-7 div.sk-toggleable__content {max-height: 0;max-width: 0;overflow: hidden;text-align: left;background-color: #f0f8ff;}#sk-container-id-7 div.sk-toggleable__content pre {margin: 0.2em;color: black;border-radius: 0.25em;background-color: #f0f8ff;}#sk-container-id-7 input.sk-toggleable__control:checked~div.sk-toggleable__content {max-height: 200px;max-width: 100%;overflow: auto;}#sk-container-id-7 input.sk-toggleable__control:checked~label.sk-toggleable__label-arrow:before {content: \"▾\";}#sk-container-id-7 div.sk-estimator input.sk-toggleable__control:checked~label.sk-toggleable__label {background-color: #d4ebff;}#sk-container-id-7 div.sk-label input.sk-toggleable__control:checked~label.sk-toggleable__label {background-color: #d4ebff;}#sk-container-id-7 input.sk-hidden--visually {border: 0;clip: rect(1px 1px 1px 1px);clip: rect(1px, 1px, 1px, 1px);height: 1px;margin: -1px;overflow: hidden;padding: 0;position: absolute;width: 1px;}#sk-container-id-7 div.sk-estimator {font-family: monospace;background-color: #f0f8ff;border: 1px dotted black;border-radius: 0.25em;box-sizing: border-box;margin-bottom: 0.5em;}#sk-container-id-7 div.sk-estimator:hover {background-color: #d4ebff;}#sk-container-id-7 div.sk-parallel-item::after {content: \"\";width: 100%;border-bottom: 1px solid gray;flex-grow: 1;}#sk-container-id-7 div.sk-label:hover label.sk-toggleable__label {background-color: #d4ebff;}#sk-container-id-7 div.sk-serial::before {content: \"\";position: absolute;border-left: 1px solid gray;box-sizing: border-box;top: 0;bottom: 0;left: 50%;z-index: 0;}#sk-container-id-7 div.sk-serial {display: flex;flex-direction: column;align-items: center;background-color: white;padding-right: 0.2em;padding-left: 0.2em;position: relative;}#sk-container-id-7 div.sk-item {position: relative;z-index: 1;}#sk-container-id-7 div.sk-parallel {display: flex;align-items: stretch;justify-content: center;background-color: white;position: relative;}#sk-container-id-7 div.sk-item::before, #sk-container-id-7 div.sk-parallel-item::before {content: \"\";position: absolute;border-left: 1px solid gray;box-sizing: border-box;top: 0;bottom: 0;left: 50%;z-index: -1;}#sk-container-id-7 div.sk-parallel-item {display: flex;flex-direction: column;z-index: 1;position: relative;background-color: white;}#sk-container-id-7 div.sk-parallel-item:first-child::after {align-self: flex-end;width: 50%;}#sk-container-id-7 div.sk-parallel-item:last-child::after {align-self: flex-start;width: 50%;}#sk-container-id-7 div.sk-parallel-item:only-child::after {width: 0;}#sk-container-id-7 div.sk-dashed-wrapped {border: 1px dashed gray;margin: 0 0.4em 0.5em 0.4em;box-sizing: border-box;padding-bottom: 0.4em;background-color: white;}#sk-container-id-7 div.sk-label label {font-family: monospace;font-weight: bold;display: inline-block;line-height: 1.2em;}#sk-container-id-7 div.sk-label-container {text-align: center;}#sk-container-id-7 div.sk-container {/* jupyter's `normalize.less` sets `[hidden] { display: none; }` but bootstrap.min.css set `[hidden] { display: none !important; }` so we also need the `!important` here to be able to override the default hidden behavior on the sphinx rendered scikit-learn.org. See: https://github.com/scikit-learn/scikit-learn/issues/21755 */display: inline-block !important;position: relative;}#sk-container-id-7 div.sk-text-repr-fallback {display: none;}</style><div id=\"sk-container-id-7\" class=\"sk-top-container\"><div class=\"sk-text-repr-fallback\"><pre>RandomForestClassifier()</pre><b>In a Jupyter environment, please rerun this cell to show the HTML representation or trust the notebook. <br />On GitHub, the HTML representation is unable to render, please try loading this page with nbviewer.org.</b></div><div class=\"sk-container\" hidden><div class=\"sk-item\"><div class=\"sk-estimator sk-toggleable\"><input class=\"sk-toggleable__control sk-hidden--visually\" id=\"sk-estimator-id-17\" type=\"checkbox\" checked><label for=\"sk-estimator-id-17\" class=\"sk-toggleable__label sk-toggleable__label-arrow\">RandomForestClassifier</label><div class=\"sk-toggleable__content\"><pre>RandomForestClassifier()</pre></div></div></div></div></div>"
      ],
      "text/plain": [
       "RandomForestClassifier()"
      ]
     },
     "execution_count": 47,
     "metadata": {},
     "output_type": "execute_result"
    }
   ],
   "source": [
    "#RANDOMFOREST\n",
    "rf = RandomForestClassifier()\n",
    "rf.fit(strat_train_set, label_train)"
   ]
  },
  {
   "cell_type": "code",
   "execution_count": 50,
   "metadata": {},
   "outputs": [
    {
     "name": "stdout",
     "output_type": "stream",
     "text": [
      "classification report some data votting : \n",
      "               precision    recall  f1-score   support\n",
      "\n",
      "         0.0       0.87      0.93      0.90       122\n",
      "         1.0       0.87      0.84      0.85       124\n",
      "         2.0       0.91      0.94      0.93       119\n",
      "         3.0       0.97      0.88      0.92       118\n",
      "         4.0       0.94      0.96      0.95       124\n",
      "\n",
      "    accuracy                           0.91       607\n",
      "   macro avg       0.91      0.91      0.91       607\n",
      "weighted avg       0.91      0.91      0.91       607\n",
      "\n",
      "accuracy score : 0.9093904448105437\n"
     ]
    }
   ],
   "source": [
    "some_data_predict = rf.predict(strat_test_set)\n",
    "print(f'classification report some data votting : \\n {classification_report(label_test, some_data_predict)}\\naccuracy score : {accuracy_score(label_test, some_data_predict)}')"
   ]
  },
  {
   "cell_type": "markdown",
   "metadata": {},
   "source": [
    "all : 0.9093904448105437"
   ]
  },
  {
   "cell_type": "markdown",
   "metadata": {},
   "source": [
    "#### AdaBoost"
   ]
  },
  {
   "cell_type": "code",
   "execution_count": 49,
   "metadata": {},
   "outputs": [
    {
     "data": {
      "text/html": [
       "<style>#sk-container-id-8 {color: black;background-color: white;}#sk-container-id-8 pre{padding: 0;}#sk-container-id-8 div.sk-toggleable {background-color: white;}#sk-container-id-8 label.sk-toggleable__label {cursor: pointer;display: block;width: 100%;margin-bottom: 0;padding: 0.3em;box-sizing: border-box;text-align: center;}#sk-container-id-8 label.sk-toggleable__label-arrow:before {content: \"▸\";float: left;margin-right: 0.25em;color: #696969;}#sk-container-id-8 label.sk-toggleable__label-arrow:hover:before {color: black;}#sk-container-id-8 div.sk-estimator:hover label.sk-toggleable__label-arrow:before {color: black;}#sk-container-id-8 div.sk-toggleable__content {max-height: 0;max-width: 0;overflow: hidden;text-align: left;background-color: #f0f8ff;}#sk-container-id-8 div.sk-toggleable__content pre {margin: 0.2em;color: black;border-radius: 0.25em;background-color: #f0f8ff;}#sk-container-id-8 input.sk-toggleable__control:checked~div.sk-toggleable__content {max-height: 200px;max-width: 100%;overflow: auto;}#sk-container-id-8 input.sk-toggleable__control:checked~label.sk-toggleable__label-arrow:before {content: \"▾\";}#sk-container-id-8 div.sk-estimator input.sk-toggleable__control:checked~label.sk-toggleable__label {background-color: #d4ebff;}#sk-container-id-8 div.sk-label input.sk-toggleable__control:checked~label.sk-toggleable__label {background-color: #d4ebff;}#sk-container-id-8 input.sk-hidden--visually {border: 0;clip: rect(1px 1px 1px 1px);clip: rect(1px, 1px, 1px, 1px);height: 1px;margin: -1px;overflow: hidden;padding: 0;position: absolute;width: 1px;}#sk-container-id-8 div.sk-estimator {font-family: monospace;background-color: #f0f8ff;border: 1px dotted black;border-radius: 0.25em;box-sizing: border-box;margin-bottom: 0.5em;}#sk-container-id-8 div.sk-estimator:hover {background-color: #d4ebff;}#sk-container-id-8 div.sk-parallel-item::after {content: \"\";width: 100%;border-bottom: 1px solid gray;flex-grow: 1;}#sk-container-id-8 div.sk-label:hover label.sk-toggleable__label {background-color: #d4ebff;}#sk-container-id-8 div.sk-serial::before {content: \"\";position: absolute;border-left: 1px solid gray;box-sizing: border-box;top: 0;bottom: 0;left: 50%;z-index: 0;}#sk-container-id-8 div.sk-serial {display: flex;flex-direction: column;align-items: center;background-color: white;padding-right: 0.2em;padding-left: 0.2em;position: relative;}#sk-container-id-8 div.sk-item {position: relative;z-index: 1;}#sk-container-id-8 div.sk-parallel {display: flex;align-items: stretch;justify-content: center;background-color: white;position: relative;}#sk-container-id-8 div.sk-item::before, #sk-container-id-8 div.sk-parallel-item::before {content: \"\";position: absolute;border-left: 1px solid gray;box-sizing: border-box;top: 0;bottom: 0;left: 50%;z-index: -1;}#sk-container-id-8 div.sk-parallel-item {display: flex;flex-direction: column;z-index: 1;position: relative;background-color: white;}#sk-container-id-8 div.sk-parallel-item:first-child::after {align-self: flex-end;width: 50%;}#sk-container-id-8 div.sk-parallel-item:last-child::after {align-self: flex-start;width: 50%;}#sk-container-id-8 div.sk-parallel-item:only-child::after {width: 0;}#sk-container-id-8 div.sk-dashed-wrapped {border: 1px dashed gray;margin: 0 0.4em 0.5em 0.4em;box-sizing: border-box;padding-bottom: 0.4em;background-color: white;}#sk-container-id-8 div.sk-label label {font-family: monospace;font-weight: bold;display: inline-block;line-height: 1.2em;}#sk-container-id-8 div.sk-label-container {text-align: center;}#sk-container-id-8 div.sk-container {/* jupyter's `normalize.less` sets `[hidden] { display: none; }` but bootstrap.min.css set `[hidden] { display: none !important; }` so we also need the `!important` here to be able to override the default hidden behavior on the sphinx rendered scikit-learn.org. See: https://github.com/scikit-learn/scikit-learn/issues/21755 */display: inline-block !important;position: relative;}#sk-container-id-8 div.sk-text-repr-fallback {display: none;}</style><div id=\"sk-container-id-8\" class=\"sk-top-container\"><div class=\"sk-text-repr-fallback\"><pre>AdaBoostClassifier()</pre><b>In a Jupyter environment, please rerun this cell to show the HTML representation or trust the notebook. <br />On GitHub, the HTML representation is unable to render, please try loading this page with nbviewer.org.</b></div><div class=\"sk-container\" hidden><div class=\"sk-item\"><div class=\"sk-estimator sk-toggleable\"><input class=\"sk-toggleable__control sk-hidden--visually\" id=\"sk-estimator-id-18\" type=\"checkbox\" checked><label for=\"sk-estimator-id-18\" class=\"sk-toggleable__label sk-toggleable__label-arrow\">AdaBoostClassifier</label><div class=\"sk-toggleable__content\"><pre>AdaBoostClassifier()</pre></div></div></div></div></div>"
      ],
      "text/plain": [
       "AdaBoostClassifier()"
      ]
     },
     "execution_count": 49,
     "metadata": {},
     "output_type": "execute_result"
    }
   ],
   "source": [
    "#ADOBOOSTCLASIFIER\n",
    "from sklearn.ensemble import AdaBoostClassifier\n",
    "ada = AdaBoostClassifier()\n",
    "ada.fit(strat_train_set, label_train)"
   ]
  },
  {
   "cell_type": "code",
   "execution_count": 51,
   "metadata": {},
   "outputs": [
    {
     "name": "stdout",
     "output_type": "stream",
     "text": [
      "              precision    recall  f1-score   support\n",
      "\n",
      "         0.0       0.87      0.85      0.86       122\n",
      "         1.0       0.60      0.69      0.64       124\n",
      "         2.0       0.66      0.67      0.66       119\n",
      "         3.0       0.79      0.74      0.76       118\n",
      "         4.0       0.96      0.88      0.92       124\n",
      "\n",
      "    accuracy                           0.77       607\n",
      "   macro avg       0.78      0.77      0.77       607\n",
      "weighted avg       0.78      0.77      0.77       607\n",
      "\n",
      "accuracy score : 0.7660626029654036\n"
     ]
    }
   ],
   "source": [
    "some_data_predict = ada.predict(strat_test_set)\n",
    "print(f'{classification_report(label_test, some_data_predict)}\\naccuracy score : {accuracy_score(label_test, some_data_predict)}')"
   ]
  },
  {
   "cell_type": "markdown",
   "metadata": {},
   "source": [
    "all : 0.7660626029654036"
   ]
  },
  {
   "cell_type": "markdown",
   "metadata": {},
   "source": [
    "### +Efficient"
   ]
  },
  {
   "cell_type": "markdown",
   "metadata": {},
   "source": [
    "#### All"
   ]
  },
  {
   "cell_type": "code",
   "execution_count": 4,
   "metadata": {},
   "outputs": [
    {
     "data": {
      "text/html": [
       "<div>\n",
       "<style scoped>\n",
       "    .dataframe tbody tr th:only-of-type {\n",
       "        vertical-align: middle;\n",
       "    }\n",
       "\n",
       "    .dataframe tbody tr th {\n",
       "        vertical-align: top;\n",
       "    }\n",
       "\n",
       "    .dataframe thead th {\n",
       "        text-align: right;\n",
       "    }\n",
       "</style>\n",
       "<table border=\"1\" class=\"dataframe\">\n",
       "  <thead>\n",
       "    <tr style=\"text-align: right;\">\n",
       "      <th></th>\n",
       "      <th>Unnamed: 0.6</th>\n",
       "      <th>Unnamed: 0</th>\n",
       "      <th>211dense</th>\n",
       "      <th>296dense</th>\n",
       "      <th>402dense</th>\n",
       "      <th>432dense</th>\n",
       "      <th>466dense</th>\n",
       "      <th>892dense</th>\n",
       "      <th>1188dense</th>\n",
       "      <th>1202dense</th>\n",
       "      <th>...</th>\n",
       "      <th>31929vgg</th>\n",
       "      <th>32006vgg</th>\n",
       "      <th>32100vgg</th>\n",
       "      <th>32241vgg</th>\n",
       "      <th>32268vgg</th>\n",
       "      <th>32539vgg</th>\n",
       "      <th>32548vgg</th>\n",
       "      <th>32689vgg</th>\n",
       "      <th>32694vgg</th>\n",
       "      <th>label</th>\n",
       "    </tr>\n",
       "  </thead>\n",
       "  <tbody>\n",
       "    <tr>\n",
       "      <th>0</th>\n",
       "      <td>0</td>\n",
       "      <td>0</td>\n",
       "      <td>0.002113</td>\n",
       "      <td>0.002889</td>\n",
       "      <td>0.002463</td>\n",
       "      <td>0.014652</td>\n",
       "      <td>0.000344</td>\n",
       "      <td>0.000000</td>\n",
       "      <td>0.200305</td>\n",
       "      <td>0.000166</td>\n",
       "      <td>...</td>\n",
       "      <td>0.236666</td>\n",
       "      <td>0.000000</td>\n",
       "      <td>0.000000</td>\n",
       "      <td>0.0</td>\n",
       "      <td>0.214589</td>\n",
       "      <td>0.000000</td>\n",
       "      <td>0.064896</td>\n",
       "      <td>0.061991</td>\n",
       "      <td>0.305349</td>\n",
       "      <td>0</td>\n",
       "    </tr>\n",
       "    <tr>\n",
       "      <th>1</th>\n",
       "      <td>1</td>\n",
       "      <td>1</td>\n",
       "      <td>0.001438</td>\n",
       "      <td>0.002601</td>\n",
       "      <td>0.002602</td>\n",
       "      <td>0.014899</td>\n",
       "      <td>0.000337</td>\n",
       "      <td>0.000000</td>\n",
       "      <td>0.103333</td>\n",
       "      <td>0.000259</td>\n",
       "      <td>...</td>\n",
       "      <td>0.179535</td>\n",
       "      <td>0.000000</td>\n",
       "      <td>0.000000</td>\n",
       "      <td>0.0</td>\n",
       "      <td>0.219380</td>\n",
       "      <td>0.000000</td>\n",
       "      <td>0.060197</td>\n",
       "      <td>0.045982</td>\n",
       "      <td>0.308021</td>\n",
       "      <td>0</td>\n",
       "    </tr>\n",
       "    <tr>\n",
       "      <th>2</th>\n",
       "      <td>2</td>\n",
       "      <td>2</td>\n",
       "      <td>0.003572</td>\n",
       "      <td>0.002963</td>\n",
       "      <td>0.002506</td>\n",
       "      <td>0.015130</td>\n",
       "      <td>0.000379</td>\n",
       "      <td>0.000000</td>\n",
       "      <td>0.175900</td>\n",
       "      <td>0.000244</td>\n",
       "      <td>...</td>\n",
       "      <td>0.157752</td>\n",
       "      <td>0.047314</td>\n",
       "      <td>0.000000</td>\n",
       "      <td>0.0</td>\n",
       "      <td>0.266565</td>\n",
       "      <td>0.004380</td>\n",
       "      <td>0.032139</td>\n",
       "      <td>0.044623</td>\n",
       "      <td>0.245007</td>\n",
       "      <td>0</td>\n",
       "    </tr>\n",
       "    <tr>\n",
       "      <th>3</th>\n",
       "      <td>3</td>\n",
       "      <td>3</td>\n",
       "      <td>0.001439</td>\n",
       "      <td>0.002818</td>\n",
       "      <td>0.002481</td>\n",
       "      <td>0.014944</td>\n",
       "      <td>0.000304</td>\n",
       "      <td>0.000000</td>\n",
       "      <td>0.173830</td>\n",
       "      <td>0.000115</td>\n",
       "      <td>...</td>\n",
       "      <td>0.108208</td>\n",
       "      <td>0.000000</td>\n",
       "      <td>0.000000</td>\n",
       "      <td>0.0</td>\n",
       "      <td>0.221949</td>\n",
       "      <td>0.000000</td>\n",
       "      <td>0.068435</td>\n",
       "      <td>0.079967</td>\n",
       "      <td>0.285927</td>\n",
       "      <td>0</td>\n",
       "    </tr>\n",
       "    <tr>\n",
       "      <th>4</th>\n",
       "      <td>4</td>\n",
       "      <td>4</td>\n",
       "      <td>0.000434</td>\n",
       "      <td>0.002497</td>\n",
       "      <td>0.002678</td>\n",
       "      <td>0.014119</td>\n",
       "      <td>0.000335</td>\n",
       "      <td>0.000000</td>\n",
       "      <td>0.158985</td>\n",
       "      <td>0.000438</td>\n",
       "      <td>...</td>\n",
       "      <td>0.057059</td>\n",
       "      <td>0.000000</td>\n",
       "      <td>0.000000</td>\n",
       "      <td>0.0</td>\n",
       "      <td>0.263825</td>\n",
       "      <td>0.000000</td>\n",
       "      <td>0.069721</td>\n",
       "      <td>0.072631</td>\n",
       "      <td>0.249920</td>\n",
       "      <td>0</td>\n",
       "    </tr>\n",
       "    <tr>\n",
       "      <th>...</th>\n",
       "      <td>...</td>\n",
       "      <td>...</td>\n",
       "      <td>...</td>\n",
       "      <td>...</td>\n",
       "      <td>...</td>\n",
       "      <td>...</td>\n",
       "      <td>...</td>\n",
       "      <td>...</td>\n",
       "      <td>...</td>\n",
       "      <td>...</td>\n",
       "      <td>...</td>\n",
       "      <td>...</td>\n",
       "      <td>...</td>\n",
       "      <td>...</td>\n",
       "      <td>...</td>\n",
       "      <td>...</td>\n",
       "      <td>...</td>\n",
       "      <td>...</td>\n",
       "      <td>...</td>\n",
       "      <td>...</td>\n",
       "      <td>...</td>\n",
       "    </tr>\n",
       "    <tr>\n",
       "      <th>4042</th>\n",
       "      <td>4042</td>\n",
       "      <td>4042</td>\n",
       "      <td>0.000000</td>\n",
       "      <td>0.000000</td>\n",
       "      <td>0.001332</td>\n",
       "      <td>0.008768</td>\n",
       "      <td>0.000035</td>\n",
       "      <td>0.000000</td>\n",
       "      <td>0.000000</td>\n",
       "      <td>0.000395</td>\n",
       "      <td>...</td>\n",
       "      <td>0.330900</td>\n",
       "      <td>0.690772</td>\n",
       "      <td>0.399666</td>\n",
       "      <td>0.0</td>\n",
       "      <td>0.329033</td>\n",
       "      <td>0.061612</td>\n",
       "      <td>0.000000</td>\n",
       "      <td>0.000000</td>\n",
       "      <td>0.086072</td>\n",
       "      <td>4</td>\n",
       "    </tr>\n",
       "    <tr>\n",
       "      <th>4043</th>\n",
       "      <td>4043</td>\n",
       "      <td>4043</td>\n",
       "      <td>0.001417</td>\n",
       "      <td>0.002338</td>\n",
       "      <td>0.002575</td>\n",
       "      <td>0.013246</td>\n",
       "      <td>0.000130</td>\n",
       "      <td>0.059455</td>\n",
       "      <td>0.016325</td>\n",
       "      <td>0.000177</td>\n",
       "      <td>...</td>\n",
       "      <td>0.918796</td>\n",
       "      <td>0.547085</td>\n",
       "      <td>0.000000</td>\n",
       "      <td>0.0</td>\n",
       "      <td>0.461605</td>\n",
       "      <td>0.125676</td>\n",
       "      <td>0.000000</td>\n",
       "      <td>0.000000</td>\n",
       "      <td>0.267543</td>\n",
       "      <td>4</td>\n",
       "    </tr>\n",
       "    <tr>\n",
       "      <th>4044</th>\n",
       "      <td>4044</td>\n",
       "      <td>4044</td>\n",
       "      <td>0.001356</td>\n",
       "      <td>0.002733</td>\n",
       "      <td>0.002593</td>\n",
       "      <td>0.014656</td>\n",
       "      <td>0.000320</td>\n",
       "      <td>0.000000</td>\n",
       "      <td>0.164176</td>\n",
       "      <td>0.000201</td>\n",
       "      <td>...</td>\n",
       "      <td>0.000000</td>\n",
       "      <td>1.027705</td>\n",
       "      <td>0.257086</td>\n",
       "      <td>0.0</td>\n",
       "      <td>0.361025</td>\n",
       "      <td>0.070178</td>\n",
       "      <td>0.000000</td>\n",
       "      <td>0.073477</td>\n",
       "      <td>0.331383</td>\n",
       "      <td>4</td>\n",
       "    </tr>\n",
       "    <tr>\n",
       "      <th>4045</th>\n",
       "      <td>4045</td>\n",
       "      <td>4045</td>\n",
       "      <td>0.001143</td>\n",
       "      <td>0.003064</td>\n",
       "      <td>0.002579</td>\n",
       "      <td>0.011211</td>\n",
       "      <td>0.000000</td>\n",
       "      <td>0.000000</td>\n",
       "      <td>0.050476</td>\n",
       "      <td>0.000306</td>\n",
       "      <td>...</td>\n",
       "      <td>0.186353</td>\n",
       "      <td>0.000000</td>\n",
       "      <td>0.000000</td>\n",
       "      <td>0.0</td>\n",
       "      <td>0.218310</td>\n",
       "      <td>0.000000</td>\n",
       "      <td>0.064177</td>\n",
       "      <td>0.058530</td>\n",
       "      <td>0.305462</td>\n",
       "      <td>4</td>\n",
       "    </tr>\n",
       "    <tr>\n",
       "      <th>4046</th>\n",
       "      <td>4046</td>\n",
       "      <td>4046</td>\n",
       "      <td>0.000284</td>\n",
       "      <td>0.002555</td>\n",
       "      <td>0.002620</td>\n",
       "      <td>0.015142</td>\n",
       "      <td>0.000339</td>\n",
       "      <td>0.000000</td>\n",
       "      <td>0.143482</td>\n",
       "      <td>0.000145</td>\n",
       "      <td>...</td>\n",
       "      <td>0.000000</td>\n",
       "      <td>0.260830</td>\n",
       "      <td>0.468388</td>\n",
       "      <td>0.0</td>\n",
       "      <td>0.253773</td>\n",
       "      <td>0.050658</td>\n",
       "      <td>0.054329</td>\n",
       "      <td>0.041869</td>\n",
       "      <td>0.195993</td>\n",
       "      <td>4</td>\n",
       "    </tr>\n",
       "  </tbody>\n",
       "</table>\n",
       "<p>4047 rows × 1818 columns</p>\n",
       "</div>"
      ],
      "text/plain": [
       "      Unnamed: 0.6  Unnamed: 0  211dense  296dense  402dense  432dense  \\\n",
       "0                0           0  0.002113  0.002889  0.002463  0.014652   \n",
       "1                1           1  0.001438  0.002601  0.002602  0.014899   \n",
       "2                2           2  0.003572  0.002963  0.002506  0.015130   \n",
       "3                3           3  0.001439  0.002818  0.002481  0.014944   \n",
       "4                4           4  0.000434  0.002497  0.002678  0.014119   \n",
       "...            ...         ...       ...       ...       ...       ...   \n",
       "4042          4042        4042  0.000000  0.000000  0.001332  0.008768   \n",
       "4043          4043        4043  0.001417  0.002338  0.002575  0.013246   \n",
       "4044          4044        4044  0.001356  0.002733  0.002593  0.014656   \n",
       "4045          4045        4045  0.001143  0.003064  0.002579  0.011211   \n",
       "4046          4046        4046  0.000284  0.002555  0.002620  0.015142   \n",
       "\n",
       "      466dense  892dense  1188dense  1202dense  ...  31929vgg  32006vgg  \\\n",
       "0     0.000344  0.000000   0.200305   0.000166  ...  0.236666  0.000000   \n",
       "1     0.000337  0.000000   0.103333   0.000259  ...  0.179535  0.000000   \n",
       "2     0.000379  0.000000   0.175900   0.000244  ...  0.157752  0.047314   \n",
       "3     0.000304  0.000000   0.173830   0.000115  ...  0.108208  0.000000   \n",
       "4     0.000335  0.000000   0.158985   0.000438  ...  0.057059  0.000000   \n",
       "...        ...       ...        ...        ...  ...       ...       ...   \n",
       "4042  0.000035  0.000000   0.000000   0.000395  ...  0.330900  0.690772   \n",
       "4043  0.000130  0.059455   0.016325   0.000177  ...  0.918796  0.547085   \n",
       "4044  0.000320  0.000000   0.164176   0.000201  ...  0.000000  1.027705   \n",
       "4045  0.000000  0.000000   0.050476   0.000306  ...  0.186353  0.000000   \n",
       "4046  0.000339  0.000000   0.143482   0.000145  ...  0.000000  0.260830   \n",
       "\n",
       "      32100vgg  32241vgg  32268vgg  32539vgg  32548vgg  32689vgg  32694vgg  \\\n",
       "0     0.000000       0.0  0.214589  0.000000  0.064896  0.061991  0.305349   \n",
       "1     0.000000       0.0  0.219380  0.000000  0.060197  0.045982  0.308021   \n",
       "2     0.000000       0.0  0.266565  0.004380  0.032139  0.044623  0.245007   \n",
       "3     0.000000       0.0  0.221949  0.000000  0.068435  0.079967  0.285927   \n",
       "4     0.000000       0.0  0.263825  0.000000  0.069721  0.072631  0.249920   \n",
       "...        ...       ...       ...       ...       ...       ...       ...   \n",
       "4042  0.399666       0.0  0.329033  0.061612  0.000000  0.000000  0.086072   \n",
       "4043  0.000000       0.0  0.461605  0.125676  0.000000  0.000000  0.267543   \n",
       "4044  0.257086       0.0  0.361025  0.070178  0.000000  0.073477  0.331383   \n",
       "4045  0.000000       0.0  0.218310  0.000000  0.064177  0.058530  0.305462   \n",
       "4046  0.468388       0.0  0.253773  0.050658  0.054329  0.041869  0.195993   \n",
       "\n",
       "      label  \n",
       "0         0  \n",
       "1         0  \n",
       "2         0  \n",
       "3         0  \n",
       "4         0  \n",
       "...     ...  \n",
       "4042      4  \n",
       "4043      4  \n",
       "4044      4  \n",
       "4045      4  \n",
       "4046      4  \n",
       "\n",
       "[4047 rows x 1818 columns]"
      ]
     },
     "execution_count": 4,
     "metadata": {},
     "output_type": "execute_result"
    }
   ],
   "source": [
    "df = pd.read_csv('ready.csv')\n",
    "df"
   ]
  },
  {
   "cell_type": "code",
   "execution_count": 5,
   "metadata": {},
   "outputs": [],
   "source": [
    "df.drop(['Unnamed: 0', 'Unnamed: 0.1', 'Unnamed: 0.2', 'Unnamed: 0.3'\n",
    "      ,'Unnamed: 0.4', 'Unnamed: 0.5', 'Unnamed: 0.6'], axis=1, inplace=True)"
   ]
  },
  {
   "cell_type": "code",
   "execution_count": 6,
   "metadata": {},
   "outputs": [],
   "source": [
    "y = df['label'].copy()\n",
    "X = df.drop(['label'], axis=1).copy()"
   ]
  },
  {
   "cell_type": "code",
   "execution_count": 6,
   "metadata": {},
   "outputs": [],
   "source": [
    "X_train, X_test, y_train, y_test = train_test_split(X, y, \n",
    "                                                    test_size=0.05, \n",
    "                                                    random_state=46)"
   ]
  },
  {
   "cell_type": "code",
   "execution_count": 7,
   "metadata": {},
   "outputs": [
    {
     "data": {
      "text/html": [
       "<style>#sk-container-id-1 {color: black;background-color: white;}#sk-container-id-1 pre{padding: 0;}#sk-container-id-1 div.sk-toggleable {background-color: white;}#sk-container-id-1 label.sk-toggleable__label {cursor: pointer;display: block;width: 100%;margin-bottom: 0;padding: 0.3em;box-sizing: border-box;text-align: center;}#sk-container-id-1 label.sk-toggleable__label-arrow:before {content: \"▸\";float: left;margin-right: 0.25em;color: #696969;}#sk-container-id-1 label.sk-toggleable__label-arrow:hover:before {color: black;}#sk-container-id-1 div.sk-estimator:hover label.sk-toggleable__label-arrow:before {color: black;}#sk-container-id-1 div.sk-toggleable__content {max-height: 0;max-width: 0;overflow: hidden;text-align: left;background-color: #f0f8ff;}#sk-container-id-1 div.sk-toggleable__content pre {margin: 0.2em;color: black;border-radius: 0.25em;background-color: #f0f8ff;}#sk-container-id-1 input.sk-toggleable__control:checked~div.sk-toggleable__content {max-height: 200px;max-width: 100%;overflow: auto;}#sk-container-id-1 input.sk-toggleable__control:checked~label.sk-toggleable__label-arrow:before {content: \"▾\";}#sk-container-id-1 div.sk-estimator input.sk-toggleable__control:checked~label.sk-toggleable__label {background-color: #d4ebff;}#sk-container-id-1 div.sk-label input.sk-toggleable__control:checked~label.sk-toggleable__label {background-color: #d4ebff;}#sk-container-id-1 input.sk-hidden--visually {border: 0;clip: rect(1px 1px 1px 1px);clip: rect(1px, 1px, 1px, 1px);height: 1px;margin: -1px;overflow: hidden;padding: 0;position: absolute;width: 1px;}#sk-container-id-1 div.sk-estimator {font-family: monospace;background-color: #f0f8ff;border: 1px dotted black;border-radius: 0.25em;box-sizing: border-box;margin-bottom: 0.5em;}#sk-container-id-1 div.sk-estimator:hover {background-color: #d4ebff;}#sk-container-id-1 div.sk-parallel-item::after {content: \"\";width: 100%;border-bottom: 1px solid gray;flex-grow: 1;}#sk-container-id-1 div.sk-label:hover label.sk-toggleable__label {background-color: #d4ebff;}#sk-container-id-1 div.sk-serial::before {content: \"\";position: absolute;border-left: 1px solid gray;box-sizing: border-box;top: 0;bottom: 0;left: 50%;z-index: 0;}#sk-container-id-1 div.sk-serial {display: flex;flex-direction: column;align-items: center;background-color: white;padding-right: 0.2em;padding-left: 0.2em;position: relative;}#sk-container-id-1 div.sk-item {position: relative;z-index: 1;}#sk-container-id-1 div.sk-parallel {display: flex;align-items: stretch;justify-content: center;background-color: white;position: relative;}#sk-container-id-1 div.sk-item::before, #sk-container-id-1 div.sk-parallel-item::before {content: \"\";position: absolute;border-left: 1px solid gray;box-sizing: border-box;top: 0;bottom: 0;left: 50%;z-index: -1;}#sk-container-id-1 div.sk-parallel-item {display: flex;flex-direction: column;z-index: 1;position: relative;background-color: white;}#sk-container-id-1 div.sk-parallel-item:first-child::after {align-self: flex-end;width: 50%;}#sk-container-id-1 div.sk-parallel-item:last-child::after {align-self: flex-start;width: 50%;}#sk-container-id-1 div.sk-parallel-item:only-child::after {width: 0;}#sk-container-id-1 div.sk-dashed-wrapped {border: 1px dashed gray;margin: 0 0.4em 0.5em 0.4em;box-sizing: border-box;padding-bottom: 0.4em;background-color: white;}#sk-container-id-1 div.sk-label label {font-family: monospace;font-weight: bold;display: inline-block;line-height: 1.2em;}#sk-container-id-1 div.sk-label-container {text-align: center;}#sk-container-id-1 div.sk-container {/* jupyter's `normalize.less` sets `[hidden] { display: none; }` but bootstrap.min.css set `[hidden] { display: none !important; }` so we also need the `!important` here to be able to override the default hidden behavior on the sphinx rendered scikit-learn.org. See: https://github.com/scikit-learn/scikit-learn/issues/21755 */display: inline-block !important;position: relative;}#sk-container-id-1 div.sk-text-repr-fallback {display: none;}</style><div id=\"sk-container-id-1\" class=\"sk-top-container\"><div class=\"sk-text-repr-fallback\"><pre>BaggingClassifier(base_estimator=RandomForestClassifier(random_state=11))</pre><b>In a Jupyter environment, please rerun this cell to show the HTML representation or trust the notebook. <br />On GitHub, the HTML representation is unable to render, please try loading this page with nbviewer.org.</b></div><div class=\"sk-container\" hidden><div class=\"sk-item sk-dashed-wrapped\"><div class=\"sk-label-container\"><div class=\"sk-label sk-toggleable\"><input class=\"sk-toggleable__control sk-hidden--visually\" id=\"sk-estimator-id-1\" type=\"checkbox\" ><label for=\"sk-estimator-id-1\" class=\"sk-toggleable__label sk-toggleable__label-arrow\">BaggingClassifier</label><div class=\"sk-toggleable__content\"><pre>BaggingClassifier(base_estimator=RandomForestClassifier(random_state=11))</pre></div></div></div><div class=\"sk-parallel\"><div class=\"sk-parallel-item\"><div class=\"sk-item\"><div class=\"sk-label-container\"><div class=\"sk-label sk-toggleable\"><input class=\"sk-toggleable__control sk-hidden--visually\" id=\"sk-estimator-id-2\" type=\"checkbox\" ><label for=\"sk-estimator-id-2\" class=\"sk-toggleable__label sk-toggleable__label-arrow\">base_estimator: RandomForestClassifier</label><div class=\"sk-toggleable__content\"><pre>RandomForestClassifier(random_state=11)</pre></div></div></div><div class=\"sk-serial\"><div class=\"sk-item\"><div class=\"sk-estimator sk-toggleable\"><input class=\"sk-toggleable__control sk-hidden--visually\" id=\"sk-estimator-id-3\" type=\"checkbox\" ><label for=\"sk-estimator-id-3\" class=\"sk-toggleable__label sk-toggleable__label-arrow\">RandomForestClassifier</label><div class=\"sk-toggleable__content\"><pre>RandomForestClassifier(random_state=11)</pre></div></div></div></div></div></div></div></div></div></div>"
      ],
      "text/plain": [
       "BaggingClassifier(base_estimator=RandomForestClassifier(random_state=11))"
      ]
     },
     "execution_count": 7,
     "metadata": {},
     "output_type": "execute_result"
    }
   ],
   "source": [
    "from sklearn.ensemble import BaggingClassifier\n",
    "\n",
    "clf = BaggingClassifier(base_estimator = RandomForestClassifier(random_state=11))\n",
    "clf.fit(X_train, y_train)"
   ]
  },
  {
   "cell_type": "code",
   "execution_count": 10,
   "metadata": {},
   "outputs": [
    {
     "name": "stdout",
     "output_type": "stream",
     "text": [
      "              precision    recall  f1-score   support\n",
      "\n",
      "           0       0.83      0.93      0.88        43\n",
      "           1       0.88      0.81      0.84        43\n",
      "           2       0.95      0.91      0.93        46\n",
      "           3       0.93      0.96      0.95        28\n",
      "           4       1.00      0.98      0.99        43\n",
      "\n",
      "    accuracy                           0.92       203\n",
      "   macro avg       0.92      0.92      0.92       203\n",
      "weighted avg       0.92      0.92      0.92       203\n",
      "\n",
      "      \n",
      "accuracy score : 0.916256157635468\n",
      "      \n",
      "cnfusion matrix : \n",
      "[[40  3  0  0  0]\n",
      " [ 6 35  2  0  0]\n",
      " [ 1  1 42  2  0]\n",
      " [ 1  0  0 27  0]\n",
      " [ 0  1  0  0 42]]\n"
     ]
    }
   ],
   "source": [
    "some_data_predict = clf.predict(X_test)\n",
    "print(f'''{classification_report(y_test, some_data_predict)}\n",
    "      \\naccuracy score : {accuracy_score(y_test, some_data_predict)}\n",
    "      \\ncnfusion matrix : \\n{confusion_matrix(y_test, some_data_predict)}''')"
   ]
  },
  {
   "cell_type": "code",
   "execution_count": 9,
   "metadata": {},
   "outputs": [
    {
     "data": {
      "text/html": [
       "<style>#sk-container-id-2 {color: black;background-color: white;}#sk-container-id-2 pre{padding: 0;}#sk-container-id-2 div.sk-toggleable {background-color: white;}#sk-container-id-2 label.sk-toggleable__label {cursor: pointer;display: block;width: 100%;margin-bottom: 0;padding: 0.3em;box-sizing: border-box;text-align: center;}#sk-container-id-2 label.sk-toggleable__label-arrow:before {content: \"▸\";float: left;margin-right: 0.25em;color: #696969;}#sk-container-id-2 label.sk-toggleable__label-arrow:hover:before {color: black;}#sk-container-id-2 div.sk-estimator:hover label.sk-toggleable__label-arrow:before {color: black;}#sk-container-id-2 div.sk-toggleable__content {max-height: 0;max-width: 0;overflow: hidden;text-align: left;background-color: #f0f8ff;}#sk-container-id-2 div.sk-toggleable__content pre {margin: 0.2em;color: black;border-radius: 0.25em;background-color: #f0f8ff;}#sk-container-id-2 input.sk-toggleable__control:checked~div.sk-toggleable__content {max-height: 200px;max-width: 100%;overflow: auto;}#sk-container-id-2 input.sk-toggleable__control:checked~label.sk-toggleable__label-arrow:before {content: \"▾\";}#sk-container-id-2 div.sk-estimator input.sk-toggleable__control:checked~label.sk-toggleable__label {background-color: #d4ebff;}#sk-container-id-2 div.sk-label input.sk-toggleable__control:checked~label.sk-toggleable__label {background-color: #d4ebff;}#sk-container-id-2 input.sk-hidden--visually {border: 0;clip: rect(1px 1px 1px 1px);clip: rect(1px, 1px, 1px, 1px);height: 1px;margin: -1px;overflow: hidden;padding: 0;position: absolute;width: 1px;}#sk-container-id-2 div.sk-estimator {font-family: monospace;background-color: #f0f8ff;border: 1px dotted black;border-radius: 0.25em;box-sizing: border-box;margin-bottom: 0.5em;}#sk-container-id-2 div.sk-estimator:hover {background-color: #d4ebff;}#sk-container-id-2 div.sk-parallel-item::after {content: \"\";width: 100%;border-bottom: 1px solid gray;flex-grow: 1;}#sk-container-id-2 div.sk-label:hover label.sk-toggleable__label {background-color: #d4ebff;}#sk-container-id-2 div.sk-serial::before {content: \"\";position: absolute;border-left: 1px solid gray;box-sizing: border-box;top: 0;bottom: 0;left: 50%;z-index: 0;}#sk-container-id-2 div.sk-serial {display: flex;flex-direction: column;align-items: center;background-color: white;padding-right: 0.2em;padding-left: 0.2em;position: relative;}#sk-container-id-2 div.sk-item {position: relative;z-index: 1;}#sk-container-id-2 div.sk-parallel {display: flex;align-items: stretch;justify-content: center;background-color: white;position: relative;}#sk-container-id-2 div.sk-item::before, #sk-container-id-2 div.sk-parallel-item::before {content: \"\";position: absolute;border-left: 1px solid gray;box-sizing: border-box;top: 0;bottom: 0;left: 50%;z-index: -1;}#sk-container-id-2 div.sk-parallel-item {display: flex;flex-direction: column;z-index: 1;position: relative;background-color: white;}#sk-container-id-2 div.sk-parallel-item:first-child::after {align-self: flex-end;width: 50%;}#sk-container-id-2 div.sk-parallel-item:last-child::after {align-self: flex-start;width: 50%;}#sk-container-id-2 div.sk-parallel-item:only-child::after {width: 0;}#sk-container-id-2 div.sk-dashed-wrapped {border: 1px dashed gray;margin: 0 0.4em 0.5em 0.4em;box-sizing: border-box;padding-bottom: 0.4em;background-color: white;}#sk-container-id-2 div.sk-label label {font-family: monospace;font-weight: bold;display: inline-block;line-height: 1.2em;}#sk-container-id-2 div.sk-label-container {text-align: center;}#sk-container-id-2 div.sk-container {/* jupyter's `normalize.less` sets `[hidden] { display: none; }` but bootstrap.min.css set `[hidden] { display: none !important; }` so we also need the `!important` here to be able to override the default hidden behavior on the sphinx rendered scikit-learn.org. See: https://github.com/scikit-learn/scikit-learn/issues/21755 */display: inline-block !important;position: relative;}#sk-container-id-2 div.sk-text-repr-fallback {display: none;}</style><div id=\"sk-container-id-2\" class=\"sk-top-container\"><div class=\"sk-text-repr-fallback\"><pre>VotingClassifier(estimators=[(&#x27;rf&#x27;, RandomForestClassifier()),\n",
       "                             (&#x27;bg&#x27;,\n",
       "                              BaggingClassifier(base_estimator=RandomForestClassifier(),\n",
       "                                                n_estimators=50))])</pre><b>In a Jupyter environment, please rerun this cell to show the HTML representation or trust the notebook. <br />On GitHub, the HTML representation is unable to render, please try loading this page with nbviewer.org.</b></div><div class=\"sk-container\" hidden><div class=\"sk-item sk-dashed-wrapped\"><div class=\"sk-label-container\"><div class=\"sk-label sk-toggleable\"><input class=\"sk-toggleable__control sk-hidden--visually\" id=\"sk-estimator-id-4\" type=\"checkbox\" ><label for=\"sk-estimator-id-4\" class=\"sk-toggleable__label sk-toggleable__label-arrow\">VotingClassifier</label><div class=\"sk-toggleable__content\"><pre>VotingClassifier(estimators=[(&#x27;rf&#x27;, RandomForestClassifier()),\n",
       "                             (&#x27;bg&#x27;,\n",
       "                              BaggingClassifier(base_estimator=RandomForestClassifier(),\n",
       "                                                n_estimators=50))])</pre></div></div></div><div class=\"sk-parallel\"><div class=\"sk-parallel-item\"><div class=\"sk-item\"><div class=\"sk-label-container\"><div class=\"sk-label sk-toggleable\"><label>rf</label></div></div><div class=\"sk-serial\"><div class=\"sk-item\"><div class=\"sk-estimator sk-toggleable\"><input class=\"sk-toggleable__control sk-hidden--visually\" id=\"sk-estimator-id-5\" type=\"checkbox\" ><label for=\"sk-estimator-id-5\" class=\"sk-toggleable__label sk-toggleable__label-arrow\">RandomForestClassifier</label><div class=\"sk-toggleable__content\"><pre>RandomForestClassifier()</pre></div></div></div></div></div></div><div class=\"sk-parallel-item\"><div class=\"sk-item\"><div class=\"sk-label-container\"><div class=\"sk-label sk-toggleable\"><label>bg</label></div></div><div class=\"sk-serial\"><div class=\"sk-item sk-dashed-wrapped\"><div class=\"sk-parallel\"><div class=\"sk-parallel-item\"><div class=\"sk-item\"><div class=\"sk-label-container\"><div class=\"sk-label sk-toggleable\"><input class=\"sk-toggleable__control sk-hidden--visually\" id=\"sk-estimator-id-6\" type=\"checkbox\" ><label for=\"sk-estimator-id-6\" class=\"sk-toggleable__label sk-toggleable__label-arrow\">base_estimator: RandomForestClassifier</label><div class=\"sk-toggleable__content\"><pre>RandomForestClassifier()</pre></div></div></div><div class=\"sk-serial\"><div class=\"sk-item\"><div class=\"sk-estimator sk-toggleable\"><input class=\"sk-toggleable__control sk-hidden--visually\" id=\"sk-estimator-id-7\" type=\"checkbox\" ><label for=\"sk-estimator-id-7\" class=\"sk-toggleable__label sk-toggleable__label-arrow\">RandomForestClassifier</label><div class=\"sk-toggleable__content\"><pre>RandomForestClassifier()</pre></div></div></div></div></div></div></div></div></div></div></div></div></div></div></div>"
      ],
      "text/plain": [
       "VotingClassifier(estimators=[('rf', RandomForestClassifier()),\n",
       "                             ('bg',\n",
       "                              BaggingClassifier(base_estimator=RandomForestClassifier(),\n",
       "                                                n_estimators=50))])"
      ]
     },
     "execution_count": 9,
     "metadata": {},
     "output_type": "execute_result"
    }
   ],
   "source": [
    "\n",
    "#VOTING\n",
    "from sklearn.ensemble import VotingClassifier, BaggingClassifier\n",
    "\n",
    "clf1 = RandomForestClassifier()\n",
    "clf2 = BaggingClassifier(base_estimator= RandomForestClassifier(), max_features=1.0, max_samples= 1.0, n_estimators= 50)\n",
    "\n",
    "eclf = VotingClassifier(estimators=[('rf',clf1), ('bg',clf2)])\n",
    "\n",
    "eclf.fit(X_train, y_train)"
   ]
  },
  {
   "cell_type": "code",
   "execution_count": 11,
   "metadata": {},
   "outputs": [
    {
     "name": "stdout",
     "output_type": "stream",
     "text": [
      "              precision    recall  f1-score   support\n",
      "\n",
      "           0       0.82      0.98      0.89        43\n",
      "           1       0.92      0.81      0.86        43\n",
      "           2       0.98      0.91      0.94        46\n",
      "           3       0.93      0.96      0.95        28\n",
      "           4       1.00      0.98      0.99        43\n",
      "\n",
      "    accuracy                           0.93       203\n",
      "   macro avg       0.93      0.93      0.93       203\n",
      "weighted avg       0.93      0.93      0.93       203\n",
      "\n",
      "      \n",
      "accuracy score : 0.9261083743842364\n",
      "      \n",
      "cnfusion matrix : \n",
      "[[42  1  0  0  0]\n",
      " [ 7 35  1  0  0]\n",
      " [ 1  1 42  2  0]\n",
      " [ 1  0  0 27  0]\n",
      " [ 0  1  0  0 42]]\n"
     ]
    }
   ],
   "source": [
    "some_data_predict1 = eclf.predict(X_test)\n",
    "print(f'''{classification_report(y_test, some_data_predict1)}\n",
    "      \\naccuracy score : {accuracy_score(y_test, some_data_predict1)}\n",
    "      \\ncnfusion matrix : \\n{confusion_matrix(y_test, some_data_predict1)}''')"
   ]
  },
  {
   "cell_type": "code",
   "execution_count": 25,
   "metadata": {},
   "outputs": [
    {
     "data": {
      "text/html": [
       "<style>#sk-container-id-3 {color: black;background-color: white;}#sk-container-id-3 pre{padding: 0;}#sk-container-id-3 div.sk-toggleable {background-color: white;}#sk-container-id-3 label.sk-toggleable__label {cursor: pointer;display: block;width: 100%;margin-bottom: 0;padding: 0.3em;box-sizing: border-box;text-align: center;}#sk-container-id-3 label.sk-toggleable__label-arrow:before {content: \"▸\";float: left;margin-right: 0.25em;color: #696969;}#sk-container-id-3 label.sk-toggleable__label-arrow:hover:before {color: black;}#sk-container-id-3 div.sk-estimator:hover label.sk-toggleable__label-arrow:before {color: black;}#sk-container-id-3 div.sk-toggleable__content {max-height: 0;max-width: 0;overflow: hidden;text-align: left;background-color: #f0f8ff;}#sk-container-id-3 div.sk-toggleable__content pre {margin: 0.2em;color: black;border-radius: 0.25em;background-color: #f0f8ff;}#sk-container-id-3 input.sk-toggleable__control:checked~div.sk-toggleable__content {max-height: 200px;max-width: 100%;overflow: auto;}#sk-container-id-3 input.sk-toggleable__control:checked~label.sk-toggleable__label-arrow:before {content: \"▾\";}#sk-container-id-3 div.sk-estimator input.sk-toggleable__control:checked~label.sk-toggleable__label {background-color: #d4ebff;}#sk-container-id-3 div.sk-label input.sk-toggleable__control:checked~label.sk-toggleable__label {background-color: #d4ebff;}#sk-container-id-3 input.sk-hidden--visually {border: 0;clip: rect(1px 1px 1px 1px);clip: rect(1px, 1px, 1px, 1px);height: 1px;margin: -1px;overflow: hidden;padding: 0;position: absolute;width: 1px;}#sk-container-id-3 div.sk-estimator {font-family: monospace;background-color: #f0f8ff;border: 1px dotted black;border-radius: 0.25em;box-sizing: border-box;margin-bottom: 0.5em;}#sk-container-id-3 div.sk-estimator:hover {background-color: #d4ebff;}#sk-container-id-3 div.sk-parallel-item::after {content: \"\";width: 100%;border-bottom: 1px solid gray;flex-grow: 1;}#sk-container-id-3 div.sk-label:hover label.sk-toggleable__label {background-color: #d4ebff;}#sk-container-id-3 div.sk-serial::before {content: \"\";position: absolute;border-left: 1px solid gray;box-sizing: border-box;top: 0;bottom: 0;left: 50%;z-index: 0;}#sk-container-id-3 div.sk-serial {display: flex;flex-direction: column;align-items: center;background-color: white;padding-right: 0.2em;padding-left: 0.2em;position: relative;}#sk-container-id-3 div.sk-item {position: relative;z-index: 1;}#sk-container-id-3 div.sk-parallel {display: flex;align-items: stretch;justify-content: center;background-color: white;position: relative;}#sk-container-id-3 div.sk-item::before, #sk-container-id-3 div.sk-parallel-item::before {content: \"\";position: absolute;border-left: 1px solid gray;box-sizing: border-box;top: 0;bottom: 0;left: 50%;z-index: -1;}#sk-container-id-3 div.sk-parallel-item {display: flex;flex-direction: column;z-index: 1;position: relative;background-color: white;}#sk-container-id-3 div.sk-parallel-item:first-child::after {align-self: flex-end;width: 50%;}#sk-container-id-3 div.sk-parallel-item:last-child::after {align-self: flex-start;width: 50%;}#sk-container-id-3 div.sk-parallel-item:only-child::after {width: 0;}#sk-container-id-3 div.sk-dashed-wrapped {border: 1px dashed gray;margin: 0 0.4em 0.5em 0.4em;box-sizing: border-box;padding-bottom: 0.4em;background-color: white;}#sk-container-id-3 div.sk-label label {font-family: monospace;font-weight: bold;display: inline-block;line-height: 1.2em;}#sk-container-id-3 div.sk-label-container {text-align: center;}#sk-container-id-3 div.sk-container {/* jupyter's `normalize.less` sets `[hidden] { display: none; }` but bootstrap.min.css set `[hidden] { display: none !important; }` so we also need the `!important` here to be able to override the default hidden behavior on the sphinx rendered scikit-learn.org. See: https://github.com/scikit-learn/scikit-learn/issues/21755 */display: inline-block !important;position: relative;}#sk-container-id-3 div.sk-text-repr-fallback {display: none;}</style><div id=\"sk-container-id-3\" class=\"sk-top-container\"><div class=\"sk-text-repr-fallback\"><pre>RandomForestClassifier()</pre><b>In a Jupyter environment, please rerun this cell to show the HTML representation or trust the notebook. <br />On GitHub, the HTML representation is unable to render, please try loading this page with nbviewer.org.</b></div><div class=\"sk-container\" hidden><div class=\"sk-item\"><div class=\"sk-estimator sk-toggleable\"><input class=\"sk-toggleable__control sk-hidden--visually\" id=\"sk-estimator-id-7\" type=\"checkbox\" checked><label for=\"sk-estimator-id-7\" class=\"sk-toggleable__label sk-toggleable__label-arrow\">RandomForestClassifier</label><div class=\"sk-toggleable__content\"><pre>RandomForestClassifier()</pre></div></div></div></div></div>"
      ],
      "text/plain": [
       "RandomForestClassifier()"
      ]
     },
     "execution_count": 25,
     "metadata": {},
     "output_type": "execute_result"
    }
   ],
   "source": [
    "#RANDOMFOREST\n",
    "rf = RandomForestClassifier()\n",
    "rf.fit(X_train, y_train)"
   ]
  },
  {
   "cell_type": "code",
   "execution_count": 26,
   "metadata": {},
   "outputs": [
    {
     "name": "stdout",
     "output_type": "stream",
     "text": [
      "              precision    recall  f1-score   support\n",
      "\n",
      "           0       0.86      0.98      0.91        43\n",
      "           1       0.97      0.84      0.90        43\n",
      "           2       0.93      0.93      0.93        46\n",
      "           3       0.93      0.93      0.93        28\n",
      "           4       1.00      1.00      1.00        43\n",
      "\n",
      "    accuracy                           0.94       203\n",
      "   macro avg       0.94      0.94      0.94       203\n",
      "weighted avg       0.94      0.94      0.94       203\n",
      "\n",
      "      \n",
      "accuracy score : 0.9359605911330049\n",
      "      \n",
      "cnfusion matrix : \n",
      "[[42  1  0  0  0]\n",
      " [ 5 36  2  0  0]\n",
      " [ 1  0 43  2  0]\n",
      " [ 1  0  1 26  0]\n",
      " [ 0  0  0  0 43]]\n"
     ]
    }
   ],
   "source": [
    "some_data_predict = rf.predict(X_test)\n",
    "print(f'''{classification_report(y_test, some_data_predict)}\n",
    "      \\naccuracy score : {accuracy_score(y_test, some_data_predict)}\n",
    "      \\ncnfusion matrix : \\n{confusion_matrix(y_test, some_data_predict)}''')"
   ]
  },
  {
   "cell_type": "code",
   "execution_count": 27,
   "metadata": {},
   "outputs": [
    {
     "data": {
      "text/html": [
       "<style>#sk-container-id-4 {color: black;background-color: white;}#sk-container-id-4 pre{padding: 0;}#sk-container-id-4 div.sk-toggleable {background-color: white;}#sk-container-id-4 label.sk-toggleable__label {cursor: pointer;display: block;width: 100%;margin-bottom: 0;padding: 0.3em;box-sizing: border-box;text-align: center;}#sk-container-id-4 label.sk-toggleable__label-arrow:before {content: \"▸\";float: left;margin-right: 0.25em;color: #696969;}#sk-container-id-4 label.sk-toggleable__label-arrow:hover:before {color: black;}#sk-container-id-4 div.sk-estimator:hover label.sk-toggleable__label-arrow:before {color: black;}#sk-container-id-4 div.sk-toggleable__content {max-height: 0;max-width: 0;overflow: hidden;text-align: left;background-color: #f0f8ff;}#sk-container-id-4 div.sk-toggleable__content pre {margin: 0.2em;color: black;border-radius: 0.25em;background-color: #f0f8ff;}#sk-container-id-4 input.sk-toggleable__control:checked~div.sk-toggleable__content {max-height: 200px;max-width: 100%;overflow: auto;}#sk-container-id-4 input.sk-toggleable__control:checked~label.sk-toggleable__label-arrow:before {content: \"▾\";}#sk-container-id-4 div.sk-estimator input.sk-toggleable__control:checked~label.sk-toggleable__label {background-color: #d4ebff;}#sk-container-id-4 div.sk-label input.sk-toggleable__control:checked~label.sk-toggleable__label {background-color: #d4ebff;}#sk-container-id-4 input.sk-hidden--visually {border: 0;clip: rect(1px 1px 1px 1px);clip: rect(1px, 1px, 1px, 1px);height: 1px;margin: -1px;overflow: hidden;padding: 0;position: absolute;width: 1px;}#sk-container-id-4 div.sk-estimator {font-family: monospace;background-color: #f0f8ff;border: 1px dotted black;border-radius: 0.25em;box-sizing: border-box;margin-bottom: 0.5em;}#sk-container-id-4 div.sk-estimator:hover {background-color: #d4ebff;}#sk-container-id-4 div.sk-parallel-item::after {content: \"\";width: 100%;border-bottom: 1px solid gray;flex-grow: 1;}#sk-container-id-4 div.sk-label:hover label.sk-toggleable__label {background-color: #d4ebff;}#sk-container-id-4 div.sk-serial::before {content: \"\";position: absolute;border-left: 1px solid gray;box-sizing: border-box;top: 0;bottom: 0;left: 50%;z-index: 0;}#sk-container-id-4 div.sk-serial {display: flex;flex-direction: column;align-items: center;background-color: white;padding-right: 0.2em;padding-left: 0.2em;position: relative;}#sk-container-id-4 div.sk-item {position: relative;z-index: 1;}#sk-container-id-4 div.sk-parallel {display: flex;align-items: stretch;justify-content: center;background-color: white;position: relative;}#sk-container-id-4 div.sk-item::before, #sk-container-id-4 div.sk-parallel-item::before {content: \"\";position: absolute;border-left: 1px solid gray;box-sizing: border-box;top: 0;bottom: 0;left: 50%;z-index: -1;}#sk-container-id-4 div.sk-parallel-item {display: flex;flex-direction: column;z-index: 1;position: relative;background-color: white;}#sk-container-id-4 div.sk-parallel-item:first-child::after {align-self: flex-end;width: 50%;}#sk-container-id-4 div.sk-parallel-item:last-child::after {align-self: flex-start;width: 50%;}#sk-container-id-4 div.sk-parallel-item:only-child::after {width: 0;}#sk-container-id-4 div.sk-dashed-wrapped {border: 1px dashed gray;margin: 0 0.4em 0.5em 0.4em;box-sizing: border-box;padding-bottom: 0.4em;background-color: white;}#sk-container-id-4 div.sk-label label {font-family: monospace;font-weight: bold;display: inline-block;line-height: 1.2em;}#sk-container-id-4 div.sk-label-container {text-align: center;}#sk-container-id-4 div.sk-container {/* jupyter's `normalize.less` sets `[hidden] { display: none; }` but bootstrap.min.css set `[hidden] { display: none !important; }` so we also need the `!important` here to be able to override the default hidden behavior on the sphinx rendered scikit-learn.org. See: https://github.com/scikit-learn/scikit-learn/issues/21755 */display: inline-block !important;position: relative;}#sk-container-id-4 div.sk-text-repr-fallback {display: none;}</style><div id=\"sk-container-id-4\" class=\"sk-top-container\"><div class=\"sk-text-repr-fallback\"><pre>AdaBoostClassifier()</pre><b>In a Jupyter environment, please rerun this cell to show the HTML representation or trust the notebook. <br />On GitHub, the HTML representation is unable to render, please try loading this page with nbviewer.org.</b></div><div class=\"sk-container\" hidden><div class=\"sk-item\"><div class=\"sk-estimator sk-toggleable\"><input class=\"sk-toggleable__control sk-hidden--visually\" id=\"sk-estimator-id-8\" type=\"checkbox\" checked><label for=\"sk-estimator-id-8\" class=\"sk-toggleable__label sk-toggleable__label-arrow\">AdaBoostClassifier</label><div class=\"sk-toggleable__content\"><pre>AdaBoostClassifier()</pre></div></div></div></div></div>"
      ],
      "text/plain": [
       "AdaBoostClassifier()"
      ]
     },
     "execution_count": 27,
     "metadata": {},
     "output_type": "execute_result"
    }
   ],
   "source": [
    "#ADOBOOSTCLASIFIER\n",
    "from sklearn.ensemble import AdaBoostClassifier\n",
    "ada = AdaBoostClassifier()\n",
    "ada.fit(X_train, y_train)"
   ]
  },
  {
   "cell_type": "code",
   "execution_count": 28,
   "metadata": {},
   "outputs": [
    {
     "name": "stdout",
     "output_type": "stream",
     "text": [
      "              precision    recall  f1-score   support\n",
      "\n",
      "           0       0.80      0.95      0.87        43\n",
      "           1       0.71      0.58      0.64        43\n",
      "           2       0.68      0.89      0.77        46\n",
      "           3       0.83      0.54      0.65        28\n",
      "           4       1.00      0.91      0.95        43\n",
      "\n",
      "    accuracy                           0.79       203\n",
      "   macro avg       0.81      0.77      0.78       203\n",
      "weighted avg       0.80      0.79      0.79       203\n",
      "\n",
      "      \n",
      "accuracy score : 0.7931034482758621\n",
      "      \n",
      "cnfusion matrix : \n",
      "[[41  2  0  0  0]\n",
      " [ 8 25  8  2  0]\n",
      " [ 1  3 41  1  0]\n",
      " [ 1  2 10 15  0]\n",
      " [ 0  3  1  0 39]]\n"
     ]
    }
   ],
   "source": [
    "some_data_predict = ada.predict(X_test)\n",
    "print(f'''{classification_report(y_test, some_data_predict)}\n",
    "      \\naccuracy score : {accuracy_score(y_test, some_data_predict)}\n",
    "      \\ncnfusion matrix : \\n{confusion_matrix(y_test, some_data_predict)}''')"
   ]
  },
  {
   "cell_type": "markdown",
   "metadata": {},
   "source": [
    "#### select"
   ]
  },
  {
   "cell_type": "code",
   "execution_count": 7,
   "metadata": {},
   "outputs": [],
   "source": [
    "df_1= pd.read_csv('full_train_dt_efficient.csv')\n",
    "label_1 = df_1['0']"
   ]
  },
  {
   "cell_type": "code",
   "execution_count": 8,
   "metadata": {},
   "outputs": [
    {
     "data": {
      "text/html": [
       "<div>\n",
       "<style scoped>\n",
       "    .dataframe tbody tr th:only-of-type {\n",
       "        vertical-align: middle;\n",
       "    }\n",
       "\n",
       "    .dataframe tbody tr th {\n",
       "        vertical-align: top;\n",
       "    }\n",
       "\n",
       "    .dataframe thead th {\n",
       "        text-align: right;\n",
       "    }\n",
       "</style>\n",
       "<table border=\"1\" class=\"dataframe\">\n",
       "  <thead>\n",
       "    <tr style=\"text-align: right;\">\n",
       "      <th></th>\n",
       "      <th>Unnamed: 0.3</th>\n",
       "      <th>Unnamed: 0.2</th>\n",
       "      <th>Unnamed: 0.1</th>\n",
       "      <th>Unnamed: 0</th>\n",
       "      <th>index</th>\n",
       "      <th>Energy</th>\n",
       "      <th>Corr</th>\n",
       "      <th>Diss_sim</th>\n",
       "      <th>Homogen</th>\n",
       "      <th>Contrast</th>\n",
       "      <th>...</th>\n",
       "      <th>120743efficient</th>\n",
       "      <th>120879efficient</th>\n",
       "      <th>122406efficient</th>\n",
       "      <th>122650efficient</th>\n",
       "      <th>122691efficient</th>\n",
       "      <th>122918efficient</th>\n",
       "      <th>124134efficient</th>\n",
       "      <th>124250efficient</th>\n",
       "      <th>124555efficient</th>\n",
       "      <th>125207efficient</th>\n",
       "    </tr>\n",
       "  </thead>\n",
       "  <tbody>\n",
       "    <tr>\n",
       "      <th>0</th>\n",
       "      <td>0</td>\n",
       "      <td>0</td>\n",
       "      <td>0</td>\n",
       "      <td>0</td>\n",
       "      <td>0</td>\n",
       "      <td>0.569125</td>\n",
       "      <td>0.995196</td>\n",
       "      <td>1.267977</td>\n",
       "      <td>0.787601</td>\n",
       "      <td>29.518778</td>\n",
       "      <td>...</td>\n",
       "      <td>-0.251578</td>\n",
       "      <td>1.148612</td>\n",
       "      <td>-0.245898</td>\n",
       "      <td>-0.122847</td>\n",
       "      <td>-0.242252</td>\n",
       "      <td>5.292639</td>\n",
       "      <td>5.135893</td>\n",
       "      <td>5.462677</td>\n",
       "      <td>5.282661</td>\n",
       "      <td>4.751120</td>\n",
       "    </tr>\n",
       "    <tr>\n",
       "      <th>1</th>\n",
       "      <td>1</td>\n",
       "      <td>1</td>\n",
       "      <td>1</td>\n",
       "      <td>1</td>\n",
       "      <td>1</td>\n",
       "      <td>0.527938</td>\n",
       "      <td>0.995842</td>\n",
       "      <td>1.471252</td>\n",
       "      <td>0.822016</td>\n",
       "      <td>57.029869</td>\n",
       "      <td>...</td>\n",
       "      <td>-0.251559</td>\n",
       "      <td>1.142557</td>\n",
       "      <td>-0.245945</td>\n",
       "      <td>-0.122596</td>\n",
       "      <td>-0.242328</td>\n",
       "      <td>5.299435</td>\n",
       "      <td>5.131536</td>\n",
       "      <td>5.466395</td>\n",
       "      <td>5.285784</td>\n",
       "      <td>4.744389</td>\n",
       "    </tr>\n",
       "    <tr>\n",
       "      <th>2</th>\n",
       "      <td>2</td>\n",
       "      <td>2</td>\n",
       "      <td>2</td>\n",
       "      <td>2</td>\n",
       "      <td>2</td>\n",
       "      <td>0.545918</td>\n",
       "      <td>0.996925</td>\n",
       "      <td>1.381366</td>\n",
       "      <td>0.830510</td>\n",
       "      <td>46.555213</td>\n",
       "      <td>...</td>\n",
       "      <td>-0.251375</td>\n",
       "      <td>1.148002</td>\n",
       "      <td>-0.245844</td>\n",
       "      <td>-0.122479</td>\n",
       "      <td>-0.242329</td>\n",
       "      <td>5.294795</td>\n",
       "      <td>5.133411</td>\n",
       "      <td>5.461254</td>\n",
       "      <td>5.279757</td>\n",
       "      <td>4.747968</td>\n",
       "    </tr>\n",
       "    <tr>\n",
       "      <th>3</th>\n",
       "      <td>3</td>\n",
       "      <td>3</td>\n",
       "      <td>3</td>\n",
       "      <td>3</td>\n",
       "      <td>3</td>\n",
       "      <td>0.596634</td>\n",
       "      <td>0.996485</td>\n",
       "      <td>1.356422</td>\n",
       "      <td>0.838555</td>\n",
       "      <td>50.394299</td>\n",
       "      <td>...</td>\n",
       "      <td>-0.251470</td>\n",
       "      <td>1.142004</td>\n",
       "      <td>-0.245529</td>\n",
       "      <td>-0.122615</td>\n",
       "      <td>-0.242318</td>\n",
       "      <td>5.295320</td>\n",
       "      <td>5.140662</td>\n",
       "      <td>5.467499</td>\n",
       "      <td>5.284116</td>\n",
       "      <td>4.754744</td>\n",
       "    </tr>\n",
       "    <tr>\n",
       "      <th>4</th>\n",
       "      <td>4</td>\n",
       "      <td>4</td>\n",
       "      <td>4</td>\n",
       "      <td>4</td>\n",
       "      <td>4</td>\n",
       "      <td>0.543781</td>\n",
       "      <td>0.996820</td>\n",
       "      <td>1.250040</td>\n",
       "      <td>0.825479</td>\n",
       "      <td>38.552851</td>\n",
       "      <td>...</td>\n",
       "      <td>-0.251400</td>\n",
       "      <td>1.148902</td>\n",
       "      <td>-0.245747</td>\n",
       "      <td>-0.122391</td>\n",
       "      <td>-0.242343</td>\n",
       "      <td>5.296155</td>\n",
       "      <td>5.134854</td>\n",
       "      <td>5.462451</td>\n",
       "      <td>5.281322</td>\n",
       "      <td>4.748119</td>\n",
       "    </tr>\n",
       "    <tr>\n",
       "      <th>...</th>\n",
       "      <td>...</td>\n",
       "      <td>...</td>\n",
       "      <td>...</td>\n",
       "      <td>...</td>\n",
       "      <td>...</td>\n",
       "      <td>...</td>\n",
       "      <td>...</td>\n",
       "      <td>...</td>\n",
       "      <td>...</td>\n",
       "      <td>...</td>\n",
       "      <td>...</td>\n",
       "      <td>...</td>\n",
       "      <td>...</td>\n",
       "      <td>...</td>\n",
       "      <td>...</td>\n",
       "      <td>...</td>\n",
       "      <td>...</td>\n",
       "      <td>...</td>\n",
       "      <td>...</td>\n",
       "      <td>...</td>\n",
       "      <td>...</td>\n",
       "    </tr>\n",
       "    <tr>\n",
       "      <th>3028</th>\n",
       "      <td>3028</td>\n",
       "      <td>3028</td>\n",
       "      <td>3028</td>\n",
       "      <td>3028</td>\n",
       "      <td>3028</td>\n",
       "      <td>0.448961</td>\n",
       "      <td>0.989977</td>\n",
       "      <td>1.731302</td>\n",
       "      <td>0.666109</td>\n",
       "      <td>41.934697</td>\n",
       "      <td>...</td>\n",
       "      <td>-0.251734</td>\n",
       "      <td>1.149225</td>\n",
       "      <td>-0.245690</td>\n",
       "      <td>-0.123225</td>\n",
       "      <td>-0.242964</td>\n",
       "      <td>5.291068</td>\n",
       "      <td>5.134604</td>\n",
       "      <td>5.459740</td>\n",
       "      <td>5.282078</td>\n",
       "      <td>4.750716</td>\n",
       "    </tr>\n",
       "    <tr>\n",
       "      <th>3029</th>\n",
       "      <td>3029</td>\n",
       "      <td>3029</td>\n",
       "      <td>3029</td>\n",
       "      <td>3029</td>\n",
       "      <td>3029</td>\n",
       "      <td>0.420328</td>\n",
       "      <td>0.991325</td>\n",
       "      <td>1.813781</td>\n",
       "      <td>0.664752</td>\n",
       "      <td>55.356102</td>\n",
       "      <td>...</td>\n",
       "      <td>-0.251732</td>\n",
       "      <td>1.152119</td>\n",
       "      <td>-0.245883</td>\n",
       "      <td>-0.122897</td>\n",
       "      <td>-0.243012</td>\n",
       "      <td>5.288969</td>\n",
       "      <td>5.129421</td>\n",
       "      <td>5.457845</td>\n",
       "      <td>5.282534</td>\n",
       "      <td>4.747731</td>\n",
       "    </tr>\n",
       "    <tr>\n",
       "      <th>3030</th>\n",
       "      <td>3030</td>\n",
       "      <td>3030</td>\n",
       "      <td>3030</td>\n",
       "      <td>3030</td>\n",
       "      <td>3030</td>\n",
       "      <td>0.393559</td>\n",
       "      <td>0.985864</td>\n",
       "      <td>1.984105</td>\n",
       "      <td>0.646003</td>\n",
       "      <td>66.479941</td>\n",
       "      <td>...</td>\n",
       "      <td>-0.251509</td>\n",
       "      <td>1.149539</td>\n",
       "      <td>-0.245508</td>\n",
       "      <td>-0.122995</td>\n",
       "      <td>-0.243214</td>\n",
       "      <td>5.290375</td>\n",
       "      <td>5.131971</td>\n",
       "      <td>5.456860</td>\n",
       "      <td>5.279867</td>\n",
       "      <td>4.754733</td>\n",
       "    </tr>\n",
       "    <tr>\n",
       "      <th>3031</th>\n",
       "      <td>3031</td>\n",
       "      <td>3031</td>\n",
       "      <td>3031</td>\n",
       "      <td>3031</td>\n",
       "      <td>3031</td>\n",
       "      <td>0.388006</td>\n",
       "      <td>0.992199</td>\n",
       "      <td>1.564622</td>\n",
       "      <td>0.699199</td>\n",
       "      <td>43.493634</td>\n",
       "      <td>...</td>\n",
       "      <td>-0.251492</td>\n",
       "      <td>1.150785</td>\n",
       "      <td>-0.245963</td>\n",
       "      <td>-0.122825</td>\n",
       "      <td>-0.242654</td>\n",
       "      <td>5.291928</td>\n",
       "      <td>5.129191</td>\n",
       "      <td>5.456686</td>\n",
       "      <td>5.279892</td>\n",
       "      <td>4.745414</td>\n",
       "    </tr>\n",
       "    <tr>\n",
       "      <th>3032</th>\n",
       "      <td>3032</td>\n",
       "      <td>3032</td>\n",
       "      <td>3032</td>\n",
       "      <td>3032</td>\n",
       "      <td>3032</td>\n",
       "      <td>0.360308</td>\n",
       "      <td>0.989703</td>\n",
       "      <td>2.084161</td>\n",
       "      <td>0.613057</td>\n",
       "      <td>69.845532</td>\n",
       "      <td>...</td>\n",
       "      <td>-0.251857</td>\n",
       "      <td>1.147450</td>\n",
       "      <td>-0.245773</td>\n",
       "      <td>-0.123070</td>\n",
       "      <td>-0.243291</td>\n",
       "      <td>5.290413</td>\n",
       "      <td>5.130390</td>\n",
       "      <td>5.457479</td>\n",
       "      <td>5.281961</td>\n",
       "      <td>4.749532</td>\n",
       "    </tr>\n",
       "  </tbody>\n",
       "</table>\n",
       "<p>3033 rows × 1408 columns</p>\n",
       "</div>"
      ],
      "text/plain": [
       "      Unnamed: 0.3  Unnamed: 0.2  Unnamed: 0.1  Unnamed: 0  index    Energy  \\\n",
       "0                0             0             0           0      0  0.569125   \n",
       "1                1             1             1           1      1  0.527938   \n",
       "2                2             2             2           2      2  0.545918   \n",
       "3                3             3             3           3      3  0.596634   \n",
       "4                4             4             4           4      4  0.543781   \n",
       "...            ...           ...           ...         ...    ...       ...   \n",
       "3028          3028          3028          3028        3028   3028  0.448961   \n",
       "3029          3029          3029          3029        3029   3029  0.420328   \n",
       "3030          3030          3030          3030        3030   3030  0.393559   \n",
       "3031          3031          3031          3031        3031   3031  0.388006   \n",
       "3032          3032          3032          3032        3032   3032  0.360308   \n",
       "\n",
       "          Corr  Diss_sim   Homogen   Contrast  ...  120743efficient  \\\n",
       "0     0.995196  1.267977  0.787601  29.518778  ...        -0.251578   \n",
       "1     0.995842  1.471252  0.822016  57.029869  ...        -0.251559   \n",
       "2     0.996925  1.381366  0.830510  46.555213  ...        -0.251375   \n",
       "3     0.996485  1.356422  0.838555  50.394299  ...        -0.251470   \n",
       "4     0.996820  1.250040  0.825479  38.552851  ...        -0.251400   \n",
       "...        ...       ...       ...        ...  ...              ...   \n",
       "3028  0.989977  1.731302  0.666109  41.934697  ...        -0.251734   \n",
       "3029  0.991325  1.813781  0.664752  55.356102  ...        -0.251732   \n",
       "3030  0.985864  1.984105  0.646003  66.479941  ...        -0.251509   \n",
       "3031  0.992199  1.564622  0.699199  43.493634  ...        -0.251492   \n",
       "3032  0.989703  2.084161  0.613057  69.845532  ...        -0.251857   \n",
       "\n",
       "      120879efficient  122406efficient  122650efficient  122691efficient  \\\n",
       "0            1.148612        -0.245898        -0.122847        -0.242252   \n",
       "1            1.142557        -0.245945        -0.122596        -0.242328   \n",
       "2            1.148002        -0.245844        -0.122479        -0.242329   \n",
       "3            1.142004        -0.245529        -0.122615        -0.242318   \n",
       "4            1.148902        -0.245747        -0.122391        -0.242343   \n",
       "...               ...              ...              ...              ...   \n",
       "3028         1.149225        -0.245690        -0.123225        -0.242964   \n",
       "3029         1.152119        -0.245883        -0.122897        -0.243012   \n",
       "3030         1.149539        -0.245508        -0.122995        -0.243214   \n",
       "3031         1.150785        -0.245963        -0.122825        -0.242654   \n",
       "3032         1.147450        -0.245773        -0.123070        -0.243291   \n",
       "\n",
       "      122918efficient  124134efficient  124250efficient  124555efficient  \\\n",
       "0            5.292639         5.135893         5.462677         5.282661   \n",
       "1            5.299435         5.131536         5.466395         5.285784   \n",
       "2            5.294795         5.133411         5.461254         5.279757   \n",
       "3            5.295320         5.140662         5.467499         5.284116   \n",
       "4            5.296155         5.134854         5.462451         5.281322   \n",
       "...               ...              ...              ...              ...   \n",
       "3028         5.291068         5.134604         5.459740         5.282078   \n",
       "3029         5.288969         5.129421         5.457845         5.282534   \n",
       "3030         5.290375         5.131971         5.456860         5.279867   \n",
       "3031         5.291928         5.129191         5.456686         5.279892   \n",
       "3032         5.290413         5.130390         5.457479         5.281961   \n",
       "\n",
       "      125207efficient  \n",
       "0            4.751120  \n",
       "1            4.744389  \n",
       "2            4.747968  \n",
       "3            4.754744  \n",
       "4            4.748119  \n",
       "...               ...  \n",
       "3028         4.750716  \n",
       "3029         4.747731  \n",
       "3030         4.754733  \n",
       "3031         4.745414  \n",
       "3032         4.749532  \n",
       "\n",
       "[3033 rows x 1408 columns]"
      ]
     },
     "execution_count": 8,
     "metadata": {},
     "output_type": "execute_result"
    }
   ],
   "source": [
    "df_1"
   ]
  },
  {
   "cell_type": "code",
   "execution_count": 4,
   "metadata": {},
   "outputs": [],
   "source": [
    "df_1.drop(['Unnamed: 0.3','Unnamed: 0.2','Unnamed: 0.1', 'Unnamed: 0', 'index', '0'],axis=1, inplace=True)"
   ]
  },
  {
   "cell_type": "code",
   "execution_count": 7,
   "metadata": {},
   "outputs": [
    {
     "data": {
      "text/html": [
       "<div>\n",
       "<style scoped>\n",
       "    .dataframe tbody tr th:only-of-type {\n",
       "        vertical-align: middle;\n",
       "    }\n",
       "\n",
       "    .dataframe tbody tr th {\n",
       "        vertical-align: top;\n",
       "    }\n",
       "\n",
       "    .dataframe thead th {\n",
       "        text-align: right;\n",
       "    }\n",
       "</style>\n",
       "<table border=\"1\" class=\"dataframe\">\n",
       "  <thead>\n",
       "    <tr style=\"text-align: right;\">\n",
       "      <th></th>\n",
       "      <th>feature</th>\n",
       "      <th>score</th>\n",
       "    </tr>\n",
       "  </thead>\n",
       "  <tbody>\n",
       "    <tr>\n",
       "      <th>1342</th>\n",
       "      <td>99708efficient</td>\n",
       "      <td>0.483039</td>\n",
       "    </tr>\n",
       "    <tr>\n",
       "      <th>3</th>\n",
       "      <td>Homogen</td>\n",
       "      <td>0.482617</td>\n",
       "    </tr>\n",
       "    <tr>\n",
       "      <th>1349</th>\n",
       "      <td>101896efficient</td>\n",
       "      <td>0.458185</td>\n",
       "    </tr>\n",
       "    <tr>\n",
       "      <th>1269</th>\n",
       "      <td>66595efficient</td>\n",
       "      <td>0.447552</td>\n",
       "    </tr>\n",
       "    <tr>\n",
       "      <th>1308</th>\n",
       "      <td>87512efficient</td>\n",
       "      <td>0.443093</td>\n",
       "    </tr>\n",
       "    <tr>\n",
       "      <th>...</th>\n",
       "      <td>...</td>\n",
       "      <td>...</td>\n",
       "    </tr>\n",
       "    <tr>\n",
       "      <th>515</th>\n",
       "      <td>25680vgg</td>\n",
       "      <td>0.000000</td>\n",
       "    </tr>\n",
       "    <tr>\n",
       "      <th>755</th>\n",
       "      <td>39073mobile</td>\n",
       "      <td>0.000000</td>\n",
       "    </tr>\n",
       "    <tr>\n",
       "      <th>605</th>\n",
       "      <td>9495mobile</td>\n",
       "      <td>0.000000</td>\n",
       "    </tr>\n",
       "    <tr>\n",
       "      <th>503</th>\n",
       "      <td>24410vgg</td>\n",
       "      <td>0.000000</td>\n",
       "    </tr>\n",
       "    <tr>\n",
       "      <th>505</th>\n",
       "      <td>24863vgg</td>\n",
       "      <td>0.000000</td>\n",
       "    </tr>\n",
       "  </tbody>\n",
       "</table>\n",
       "<p>1402 rows × 2 columns</p>\n",
       "</div>"
      ],
      "text/plain": [
       "              feature     score\n",
       "1342   99708efficient  0.483039\n",
       "3             Homogen  0.482617\n",
       "1349  101896efficient  0.458185\n",
       "1269   66595efficient  0.447552\n",
       "1308   87512efficient  0.443093\n",
       "...               ...       ...\n",
       "515          25680vgg  0.000000\n",
       "755       39073mobile  0.000000\n",
       "605        9495mobile  0.000000\n",
       "503          24410vgg  0.000000\n",
       "505          24863vgg  0.000000\n",
       "\n",
       "[1402 rows x 2 columns]"
      ]
     },
     "execution_count": 7,
     "metadata": {},
     "output_type": "execute_result"
    }
   ],
   "source": [
    "#feature selection\n",
    "from sklearn.feature_selection import SelectKBest, mutual_info_classif\n",
    "from sklearn.feature_selection import chi2\n",
    "\n",
    "fs = SelectKBest(score_func = mutual_info_classif, k='all')\n",
    "fs.fit(df_1, label_1)\n",
    "\n",
    "\n",
    "cols = fs.get_support(indices=True)\n",
    "list_column_categoric = (df_1.iloc[:,cols].columns)\n",
    "list_score_select_cat = [fs.scores_[val] for val in range(len(fs.scores_))]\n",
    "\n",
    "dict_score_cat = {'feature':list_column_categoric, 'score':list_score_select_cat}\n",
    "\n",
    "score_cat_df = pd.DataFrame(dict_score_cat)\n",
    "\n",
    "\n",
    "score_cat_df.sort_values(by='score', ascending=False)"
   ]
  },
  {
   "cell_type": "code",
   "execution_count": 8,
   "metadata": {},
   "outputs": [
    {
     "name": "stdout",
     "output_type": "stream",
     "text": [
      "jumlah feature : 1370\n"
     ]
    }
   ],
   "source": [
    "drop = score_cat_df[score_cat_df['score'] != 0]\n",
    "drop.head()\n",
    "print(f\"jumlah feature : {len(score_cat_df[score_cat_df['score'] != 0])}\")"
   ]
  },
  {
   "cell_type": "code",
   "execution_count": 9,
   "metadata": {},
   "outputs": [],
   "source": [
    "list_df = list(df_1.columns)\n",
    "drop_list = list(drop.feature)\n",
    "\n",
    "for i in range(0, len(drop_list)):\n",
    "    list_df.remove(drop_list[i])"
   ]
  },
  {
   "cell_type": "code",
   "execution_count": 10,
   "metadata": {},
   "outputs": [
    {
     "name": "stdout",
     "output_type": "stream",
     "text": [
      "jumlah feature yang di drop: 32\n"
     ]
    }
   ],
   "source": [
    "print(f\"jumlah feature yang di drop: {len(list_df)}\")"
   ]
  },
  {
   "cell_type": "code",
   "execution_count": 11,
   "metadata": {},
   "outputs": [],
   "source": [
    "from sklearn.base import BaseEstimator, TransformerMixin\n",
    "\n",
    "class selectionFiture(BaseEstimator, TransformerMixin):\n",
    "    def __init__(self, drop_columns ):\n",
    "        self.drop_columns = drop_columns\n",
    "        \n",
    "    def fit(self, X, y=None):\n",
    "        return self\n",
    "    \n",
    "    def transform(self, X):\n",
    "        return X.drop(self.drop_columns, axis=1)"
   ]
  },
  {
   "cell_type": "code",
   "execution_count": 12,
   "metadata": {},
   "outputs": [],
   "source": [
    "attr_df = selectionFiture(drop_columns=list_df)\n",
    "df_1_drop = attr_df.transform(df_1)"
   ]
  },
  {
   "cell_type": "code",
   "execution_count": 13,
   "metadata": {},
   "outputs": [
    {
     "data": {
      "text/plain": [
       "Index(['Energy', 'Corr', 'Diss_sim', 'Homogen', 'Contrast', 'Energy2', 'Corr2',\n",
       "       'Diss_sim2', 'Homogen2', 'Contrast2',\n",
       "       ...\n",
       "       '120743efficient', '120879efficient', '122406efficient',\n",
       "       '122650efficient', '122691efficient', '122918efficient',\n",
       "       '124134efficient', '124250efficient', '124555efficient',\n",
       "       '125207efficient'],\n",
       "      dtype='object', length=1370)"
      ]
     },
     "execution_count": 13,
     "metadata": {},
     "output_type": "execute_result"
    }
   ],
   "source": [
    "df_1_drop.columns"
   ]
  },
  {
   "cell_type": "code",
   "execution_count": 14,
   "metadata": {},
   "outputs": [],
   "source": [
    "df_1= pd.read_csv('full_train_dt_efficient.csv')"
   ]
  },
  {
   "cell_type": "code",
   "execution_count": 15,
   "metadata": {},
   "outputs": [],
   "source": [
    "split = StratifiedShuffleSplit(n_splits = 1, test_size=0.1, random_state=1)\n",
    "for train_index, test_index in split.split(df_1, df_1['0']):\n",
    "    strat_train_set = df_1.loc[train_index]\n",
    "    strat_test_set = df_1.loc[test_index]"
   ]
  },
  {
   "cell_type": "code",
   "execution_count": 16,
   "metadata": {},
   "outputs": [],
   "source": [
    "label_train = strat_train_set['0']\n",
    "label_test = strat_test_set['0']\n",
    "\n",
    "strat_train_set.drop(['Unnamed: 0.3','Unnamed: 0.2','Unnamed: 0.1', 'Unnamed: 0', 'index','0'],axis=1, inplace=True)\n",
    "strat_test_set.drop(['Unnamed: 0.3','Unnamed: 0.2','Unnamed: 0.1', 'Unnamed: 0', 'index','0'],axis=1, inplace=True)"
   ]
  },
  {
   "cell_type": "code",
   "execution_count": 17,
   "metadata": {},
   "outputs": [],
   "source": [
    "attr_df = selectionFiture(drop_columns=list_df)\n",
    "strat_train_set = attr_df.transform(strat_train_set)"
   ]
  },
  {
   "cell_type": "code",
   "execution_count": 18,
   "metadata": {},
   "outputs": [],
   "source": [
    "attr_df = selectionFiture(drop_columns=list_df)\n",
    "strat_test_set = attr_df.transform(strat_test_set)"
   ]
  },
  {
   "cell_type": "code",
   "execution_count": 19,
   "metadata": {},
   "outputs": [
    {
     "data": {
      "text/html": [
       "<style>#sk-container-id-1 {color: black;background-color: white;}#sk-container-id-1 pre{padding: 0;}#sk-container-id-1 div.sk-toggleable {background-color: white;}#sk-container-id-1 label.sk-toggleable__label {cursor: pointer;display: block;width: 100%;margin-bottom: 0;padding: 0.3em;box-sizing: border-box;text-align: center;}#sk-container-id-1 label.sk-toggleable__label-arrow:before {content: \"▸\";float: left;margin-right: 0.25em;color: #696969;}#sk-container-id-1 label.sk-toggleable__label-arrow:hover:before {color: black;}#sk-container-id-1 div.sk-estimator:hover label.sk-toggleable__label-arrow:before {color: black;}#sk-container-id-1 div.sk-toggleable__content {max-height: 0;max-width: 0;overflow: hidden;text-align: left;background-color: #f0f8ff;}#sk-container-id-1 div.sk-toggleable__content pre {margin: 0.2em;color: black;border-radius: 0.25em;background-color: #f0f8ff;}#sk-container-id-1 input.sk-toggleable__control:checked~div.sk-toggleable__content {max-height: 200px;max-width: 100%;overflow: auto;}#sk-container-id-1 input.sk-toggleable__control:checked~label.sk-toggleable__label-arrow:before {content: \"▾\";}#sk-container-id-1 div.sk-estimator input.sk-toggleable__control:checked~label.sk-toggleable__label {background-color: #d4ebff;}#sk-container-id-1 div.sk-label input.sk-toggleable__control:checked~label.sk-toggleable__label {background-color: #d4ebff;}#sk-container-id-1 input.sk-hidden--visually {border: 0;clip: rect(1px 1px 1px 1px);clip: rect(1px, 1px, 1px, 1px);height: 1px;margin: -1px;overflow: hidden;padding: 0;position: absolute;width: 1px;}#sk-container-id-1 div.sk-estimator {font-family: monospace;background-color: #f0f8ff;border: 1px dotted black;border-radius: 0.25em;box-sizing: border-box;margin-bottom: 0.5em;}#sk-container-id-1 div.sk-estimator:hover {background-color: #d4ebff;}#sk-container-id-1 div.sk-parallel-item::after {content: \"\";width: 100%;border-bottom: 1px solid gray;flex-grow: 1;}#sk-container-id-1 div.sk-label:hover label.sk-toggleable__label {background-color: #d4ebff;}#sk-container-id-1 div.sk-serial::before {content: \"\";position: absolute;border-left: 1px solid gray;box-sizing: border-box;top: 0;bottom: 0;left: 50%;z-index: 0;}#sk-container-id-1 div.sk-serial {display: flex;flex-direction: column;align-items: center;background-color: white;padding-right: 0.2em;padding-left: 0.2em;position: relative;}#sk-container-id-1 div.sk-item {position: relative;z-index: 1;}#sk-container-id-1 div.sk-parallel {display: flex;align-items: stretch;justify-content: center;background-color: white;position: relative;}#sk-container-id-1 div.sk-item::before, #sk-container-id-1 div.sk-parallel-item::before {content: \"\";position: absolute;border-left: 1px solid gray;box-sizing: border-box;top: 0;bottom: 0;left: 50%;z-index: -1;}#sk-container-id-1 div.sk-parallel-item {display: flex;flex-direction: column;z-index: 1;position: relative;background-color: white;}#sk-container-id-1 div.sk-parallel-item:first-child::after {align-self: flex-end;width: 50%;}#sk-container-id-1 div.sk-parallel-item:last-child::after {align-self: flex-start;width: 50%;}#sk-container-id-1 div.sk-parallel-item:only-child::after {width: 0;}#sk-container-id-1 div.sk-dashed-wrapped {border: 1px dashed gray;margin: 0 0.4em 0.5em 0.4em;box-sizing: border-box;padding-bottom: 0.4em;background-color: white;}#sk-container-id-1 div.sk-label label {font-family: monospace;font-weight: bold;display: inline-block;line-height: 1.2em;}#sk-container-id-1 div.sk-label-container {text-align: center;}#sk-container-id-1 div.sk-container {/* jupyter's `normalize.less` sets `[hidden] { display: none; }` but bootstrap.min.css set `[hidden] { display: none !important; }` so we also need the `!important` here to be able to override the default hidden behavior on the sphinx rendered scikit-learn.org. See: https://github.com/scikit-learn/scikit-learn/issues/21755 */display: inline-block !important;position: relative;}#sk-container-id-1 div.sk-text-repr-fallback {display: none;}</style><div id=\"sk-container-id-1\" class=\"sk-top-container\"><div class=\"sk-text-repr-fallback\"><pre>BaggingClassifier(base_estimator=RandomForestClassifier(random_state=10))</pre><b>In a Jupyter environment, please rerun this cell to show the HTML representation or trust the notebook. <br />On GitHub, the HTML representation is unable to render, please try loading this page with nbviewer.org.</b></div><div class=\"sk-container\" hidden><div class=\"sk-item sk-dashed-wrapped\"><div class=\"sk-label-container\"><div class=\"sk-label sk-toggleable\"><input class=\"sk-toggleable__control sk-hidden--visually\" id=\"sk-estimator-id-1\" type=\"checkbox\" ><label for=\"sk-estimator-id-1\" class=\"sk-toggleable__label sk-toggleable__label-arrow\">BaggingClassifier</label><div class=\"sk-toggleable__content\"><pre>BaggingClassifier(base_estimator=RandomForestClassifier(random_state=10))</pre></div></div></div><div class=\"sk-parallel\"><div class=\"sk-parallel-item\"><div class=\"sk-item\"><div class=\"sk-label-container\"><div class=\"sk-label sk-toggleable\"><input class=\"sk-toggleable__control sk-hidden--visually\" id=\"sk-estimator-id-2\" type=\"checkbox\" ><label for=\"sk-estimator-id-2\" class=\"sk-toggleable__label sk-toggleable__label-arrow\">base_estimator: RandomForestClassifier</label><div class=\"sk-toggleable__content\"><pre>RandomForestClassifier(random_state=10)</pre></div></div></div><div class=\"sk-serial\"><div class=\"sk-item\"><div class=\"sk-estimator sk-toggleable\"><input class=\"sk-toggleable__control sk-hidden--visually\" id=\"sk-estimator-id-3\" type=\"checkbox\" ><label for=\"sk-estimator-id-3\" class=\"sk-toggleable__label sk-toggleable__label-arrow\">RandomForestClassifier</label><div class=\"sk-toggleable__content\"><pre>RandomForestClassifier(random_state=10)</pre></div></div></div></div></div></div></div></div></div></div>"
      ],
      "text/plain": [
       "BaggingClassifier(base_estimator=RandomForestClassifier(random_state=10))"
      ]
     },
     "execution_count": 19,
     "metadata": {},
     "output_type": "execute_result"
    }
   ],
   "source": [
    "from sklearn.ensemble import BaggingClassifier\n",
    "\n",
    "clf = BaggingClassifier(base_estimator = RandomForestClassifier(random_state=10))\n",
    "clf.fit(strat_train_set, label_train)"
   ]
  },
  {
   "cell_type": "code",
   "execution_count": 20,
   "metadata": {},
   "outputs": [
    {
     "name": "stdout",
     "output_type": "stream",
     "text": [
      "              precision    recall  f1-score   support\n",
      "\n",
      "         0.0       0.87      0.90      0.89        61\n",
      "         1.0       0.86      0.81      0.83        62\n",
      "         2.0       0.90      0.95      0.93        60\n",
      "         3.0       0.96      0.92      0.94        59\n",
      "         4.0       0.97      1.00      0.98        62\n",
      "\n",
      "    accuracy                           0.91       304\n",
      "   macro avg       0.91      0.91      0.91       304\n",
      "weighted avg       0.91      0.91      0.91       304\n",
      "\n",
      "      \n",
      "accuracy score : 0.9144736842105263\n",
      "      \n",
      "cnfusion matrix : \n",
      "[[55  5  0  1  0]\n",
      " [ 6 50  5  0  1]\n",
      " [ 0  1 57  1  1]\n",
      " [ 2  2  1 54  0]\n",
      " [ 0  0  0  0 62]]\n"
     ]
    }
   ],
   "source": [
    "some_data_predict = clf.predict(strat_test_set)\n",
    "print(f'''{classification_report(label_test, some_data_predict)}\n",
    "      \\naccuracy score : {accuracy_score(label_test, some_data_predict)}\n",
    "      \\ncnfusion matrix : \\n{confusion_matrix(label_test, some_data_predict)}''')"
   ]
  },
  {
   "cell_type": "code",
   "execution_count": null,
   "metadata": {},
   "outputs": [],
   "source": []
  },
  {
   "cell_type": "code",
   "execution_count": 21,
   "metadata": {},
   "outputs": [],
   "source": [
    "#VOTING\n",
    "from sklearn.ensemble import VotingClassifier\n",
    "\n",
    "clf1 = RandomForestClassifier(random_state=8)\n",
    "clf2 = BaggingClassifier(base_estimator= RandomForestClassifier(), max_features=1.0, max_samples= 1.0, n_estimators= 50)\n",
    "\n",
    "eclf = VotingClassifier(estimators=[('rf',clf1), ('bg',clf2)])\n",
    "\n",
    "eclf = eclf.fit(strat_train_set, label_train)"
   ]
  },
  {
   "cell_type": "code",
   "execution_count": 22,
   "metadata": {},
   "outputs": [
    {
     "name": "stdout",
     "output_type": "stream",
     "text": [
      "              precision    recall  f1-score   support\n",
      "\n",
      "         0.0       0.88      0.93      0.90        61\n",
      "         1.0       0.88      0.82      0.85        62\n",
      "         2.0       0.89      0.95      0.92        60\n",
      "         3.0       0.98      0.88      0.93        59\n",
      "         4.0       0.97      1.00      0.98        62\n",
      "\n",
      "    accuracy                           0.92       304\n",
      "   macro avg       0.92      0.92      0.92       304\n",
      "weighted avg       0.92      0.92      0.92       304\n",
      "\n",
      "      \n",
      "accuracy score : 0.9177631578947368\n",
      "      \n",
      "cnfusion matrix : \n",
      "[[57  3  0  1  0]\n",
      " [ 6 51  4  0  1]\n",
      " [ 0  2 57  0  1]\n",
      " [ 2  2  3 52  0]\n",
      " [ 0  0  0  0 62]]\n"
     ]
    }
   ],
   "source": [
    "some_data_predict = eclf.predict(strat_test_set)\n",
    "print(f'''{classification_report(label_test, some_data_predict)}\n",
    "      \\naccuracy score : {accuracy_score(label_test, some_data_predict)}\n",
    "      \\ncnfusion matrix : \\n{confusion_matrix(label_test, some_data_predict)}''')"
   ]
  },
  {
   "cell_type": "code",
   "execution_count": 23,
   "metadata": {},
   "outputs": [
    {
     "data": {
      "text/html": [
       "<style>#sk-container-id-2 {color: black;background-color: white;}#sk-container-id-2 pre{padding: 0;}#sk-container-id-2 div.sk-toggleable {background-color: white;}#sk-container-id-2 label.sk-toggleable__label {cursor: pointer;display: block;width: 100%;margin-bottom: 0;padding: 0.3em;box-sizing: border-box;text-align: center;}#sk-container-id-2 label.sk-toggleable__label-arrow:before {content: \"▸\";float: left;margin-right: 0.25em;color: #696969;}#sk-container-id-2 label.sk-toggleable__label-arrow:hover:before {color: black;}#sk-container-id-2 div.sk-estimator:hover label.sk-toggleable__label-arrow:before {color: black;}#sk-container-id-2 div.sk-toggleable__content {max-height: 0;max-width: 0;overflow: hidden;text-align: left;background-color: #f0f8ff;}#sk-container-id-2 div.sk-toggleable__content pre {margin: 0.2em;color: black;border-radius: 0.25em;background-color: #f0f8ff;}#sk-container-id-2 input.sk-toggleable__control:checked~div.sk-toggleable__content {max-height: 200px;max-width: 100%;overflow: auto;}#sk-container-id-2 input.sk-toggleable__control:checked~label.sk-toggleable__label-arrow:before {content: \"▾\";}#sk-container-id-2 div.sk-estimator input.sk-toggleable__control:checked~label.sk-toggleable__label {background-color: #d4ebff;}#sk-container-id-2 div.sk-label input.sk-toggleable__control:checked~label.sk-toggleable__label {background-color: #d4ebff;}#sk-container-id-2 input.sk-hidden--visually {border: 0;clip: rect(1px 1px 1px 1px);clip: rect(1px, 1px, 1px, 1px);height: 1px;margin: -1px;overflow: hidden;padding: 0;position: absolute;width: 1px;}#sk-container-id-2 div.sk-estimator {font-family: monospace;background-color: #f0f8ff;border: 1px dotted black;border-radius: 0.25em;box-sizing: border-box;margin-bottom: 0.5em;}#sk-container-id-2 div.sk-estimator:hover {background-color: #d4ebff;}#sk-container-id-2 div.sk-parallel-item::after {content: \"\";width: 100%;border-bottom: 1px solid gray;flex-grow: 1;}#sk-container-id-2 div.sk-label:hover label.sk-toggleable__label {background-color: #d4ebff;}#sk-container-id-2 div.sk-serial::before {content: \"\";position: absolute;border-left: 1px solid gray;box-sizing: border-box;top: 0;bottom: 0;left: 50%;z-index: 0;}#sk-container-id-2 div.sk-serial {display: flex;flex-direction: column;align-items: center;background-color: white;padding-right: 0.2em;padding-left: 0.2em;position: relative;}#sk-container-id-2 div.sk-item {position: relative;z-index: 1;}#sk-container-id-2 div.sk-parallel {display: flex;align-items: stretch;justify-content: center;background-color: white;position: relative;}#sk-container-id-2 div.sk-item::before, #sk-container-id-2 div.sk-parallel-item::before {content: \"\";position: absolute;border-left: 1px solid gray;box-sizing: border-box;top: 0;bottom: 0;left: 50%;z-index: -1;}#sk-container-id-2 div.sk-parallel-item {display: flex;flex-direction: column;z-index: 1;position: relative;background-color: white;}#sk-container-id-2 div.sk-parallel-item:first-child::after {align-self: flex-end;width: 50%;}#sk-container-id-2 div.sk-parallel-item:last-child::after {align-self: flex-start;width: 50%;}#sk-container-id-2 div.sk-parallel-item:only-child::after {width: 0;}#sk-container-id-2 div.sk-dashed-wrapped {border: 1px dashed gray;margin: 0 0.4em 0.5em 0.4em;box-sizing: border-box;padding-bottom: 0.4em;background-color: white;}#sk-container-id-2 div.sk-label label {font-family: monospace;font-weight: bold;display: inline-block;line-height: 1.2em;}#sk-container-id-2 div.sk-label-container {text-align: center;}#sk-container-id-2 div.sk-container {/* jupyter's `normalize.less` sets `[hidden] { display: none; }` but bootstrap.min.css set `[hidden] { display: none !important; }` so we also need the `!important` here to be able to override the default hidden behavior on the sphinx rendered scikit-learn.org. See: https://github.com/scikit-learn/scikit-learn/issues/21755 */display: inline-block !important;position: relative;}#sk-container-id-2 div.sk-text-repr-fallback {display: none;}</style><div id=\"sk-container-id-2\" class=\"sk-top-container\"><div class=\"sk-text-repr-fallback\"><pre>RandomForestClassifier(random_state=8)</pre><b>In a Jupyter environment, please rerun this cell to show the HTML representation or trust the notebook. <br />On GitHub, the HTML representation is unable to render, please try loading this page with nbviewer.org.</b></div><div class=\"sk-container\" hidden><div class=\"sk-item\"><div class=\"sk-estimator sk-toggleable\"><input class=\"sk-toggleable__control sk-hidden--visually\" id=\"sk-estimator-id-4\" type=\"checkbox\" checked><label for=\"sk-estimator-id-4\" class=\"sk-toggleable__label sk-toggleable__label-arrow\">RandomForestClassifier</label><div class=\"sk-toggleable__content\"><pre>RandomForestClassifier(random_state=8)</pre></div></div></div></div></div>"
      ],
      "text/plain": [
       "RandomForestClassifier(random_state=8)"
      ]
     },
     "execution_count": 23,
     "metadata": {},
     "output_type": "execute_result"
    }
   ],
   "source": [
    "#RANDOMFOREST\n",
    "rf = RandomForestClassifier(random_state=8)\n",
    "rf.fit(strat_train_set, label_train)"
   ]
  },
  {
   "cell_type": "code",
   "execution_count": 24,
   "metadata": {},
   "outputs": [
    {
     "name": "stdout",
     "output_type": "stream",
     "text": [
      "              precision    recall  f1-score   support\n",
      "\n",
      "         0.0       0.95      0.90      0.92        61\n",
      "         1.0       0.84      0.85      0.85        62\n",
      "         2.0       0.88      0.93      0.90        60\n",
      "         3.0       0.96      0.88      0.92        59\n",
      "         4.0       0.95      1.00      0.98        62\n",
      "\n",
      "    accuracy                           0.91       304\n",
      "   macro avg       0.92      0.91      0.91       304\n",
      "weighted avg       0.92      0.91      0.91       304\n",
      "\n",
      "      \n",
      "accuracy score : 0.9144736842105263\n",
      "      \n",
      "cnfusion matrix : \n",
      "[[55  5  0  1  0]\n",
      " [ 2 53  5  0  2]\n",
      " [ 0  2 56  1  1]\n",
      " [ 1  3  3 52  0]\n",
      " [ 0  0  0  0 62]]\n"
     ]
    }
   ],
   "source": [
    "some_data_predict = rf.predict(strat_test_set)\n",
    "print(f'''{classification_report(label_test, some_data_predict)}\n",
    "      \\naccuracy score : {accuracy_score(label_test, some_data_predict)}\n",
    "      \\ncnfusion matrix : \\n{confusion_matrix(label_test, some_data_predict)}''')"
   ]
  },
  {
   "cell_type": "code",
   "execution_count": null,
   "metadata": {},
   "outputs": [],
   "source": []
  }
 ],
 "metadata": {
  "kernelspec": {
   "display_name": "Python 3",
   "language": "python",
   "name": "python3"
  },
  "language_info": {
   "codemirror_mode": {
    "name": "ipython",
    "version": 3
   },
   "file_extension": ".py",
   "mimetype": "text/x-python",
   "name": "python",
   "nbconvert_exporter": "python",
   "pygments_lexer": "ipython3",
   "version": "3.11.1"
  },
  "orig_nbformat": 4,
  "vscode": {
   "interpreter": {
    "hash": "8f45c75cd629851ece4a737e88ff4ddac12d3adfed0b6a092462234559a4fa5e"
   }
  }
 },
 "nbformat": 4,
 "nbformat_minor": 2
}
